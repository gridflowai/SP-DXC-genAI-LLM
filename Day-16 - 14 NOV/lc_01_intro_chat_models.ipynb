{
 "cells": [
  {
   "cell_type": "markdown",
   "id": "1adb7961-edd3-4f1b-8822-eddce4b1994b",
   "metadata": {},
   "source": [
    "#### Intro on Langchain"
   ]
  },
  {
   "cell_type": "code",
   "execution_count": 1,
   "id": "b03e32cf-ce6d-46da-af20-5c83af019618",
   "metadata": {},
   "outputs": [],
   "source": [
    "#pip install langchain"
   ]
  },
  {
   "cell_type": "code",
   "execution_count": 2,
   "id": "6ba3822b-4b48-446e-8020-4bc9d5ba020a",
   "metadata": {},
   "outputs": [],
   "source": [
    "#pip install langchain-core"
   ]
  },
  {
   "cell_type": "code",
   "execution_count": 3,
   "id": "04bd5d2b-1518-47d4-97ac-ca1905ee861c",
   "metadata": {},
   "outputs": [],
   "source": [
    "#pip install langchain-openai"
   ]
  },
  {
   "cell_type": "code",
   "execution_count": 4,
   "id": "e08dd3ed-fa26-4324-855d-51afbceca42f",
   "metadata": {},
   "outputs": [],
   "source": [
    "#pip install langchain-community"
   ]
  },
  {
   "cell_type": "markdown",
   "id": "7190effe-906d-4cc5-a4cf-19f8bf76dbdb",
   "metadata": {},
   "source": [
    "-------------------------------\n",
    "#### Chatmodels integration \n",
    "------------------------------------\n",
    "\n",
    "- **Large Language Models (LLMs)**:\n",
    "  - Powerful machine learning models adept at various language-related tasks, including:\n",
    "    - Text generation\n",
    "    - Translation\n",
    "    - Summarization\n",
    "    - Question answering\n",
    "  - Capable of performing these tasks without specific fine-tuning for each scenario.\n",
    "\n",
    "- **Chat Model Interface**:\n",
    "  - Commonly used to interact with modern LLMs.\n",
    "  - Accepts a list of messages as input and returns a single message as output.\n",
    "\n",
    "- **New Features in Chat Models**:\n",
    "  - **Tool Calling**:\n",
    "    - Many chat models now support a native tool-calling API.\n",
    "    - Allows the model to interact with external services, APIs, and databases.\n",
    "    - Useful for extracting structured information from unstructured data.\n",
    "    - Enables the creation of advanced applications with AI-driven interactions.\n",
    "\n",
    "  - **Structured Output**:\n",
    "    - Enables chat models to respond in specific formats, such as JSON.\n",
    "    - Useful for producing outputs that follow a predefined schema.\n",
    "\n",
    "  - **Multimodality**:\n",
    "    - Extends the model’s capabilities beyond text processing.\n",
    "    - Supports handling of diverse data types, including images, audio, and video, broadening the range of tasks it can perform."
   ]
  },
  {
   "cell_type": "markdown",
   "id": "0b5df38a-a407-4552-a4da-fae89667318c",
   "metadata": {},
   "source": [
    "#### OpenAI LLM"
   ]
  },
  {
   "cell_type": "code",
   "execution_count": 6,
   "id": "b7f8a1a0-ca1e-4a69-aec3-4ec99cf100e2",
   "metadata": {},
   "outputs": [],
   "source": [
    "from langchain_openai import OpenAI\n",
    "from langchain_openai import ChatOpenAI"
   ]
  },
  {
   "cell_type": "code",
   "execution_count": 9,
   "id": "553d353b-5e87-4364-87bd-662e814ec26a",
   "metadata": {},
   "outputs": [],
   "source": [
    "# client (model) \n",
    "model = OpenAI()"
   ]
  },
  {
   "cell_type": "code",
   "execution_count": 11,
   "id": "d123dd1e-b032-41a1-8f8f-19a5c6f50389",
   "metadata": {},
   "outputs": [],
   "source": [
    "# user question\n",
    "question = \"Which NFL team won the Super Bowl in the 2010 season?\""
   ]
  },
  {
   "cell_type": "code",
   "execution_count": 12,
   "id": "b13e04e3-d4a5-4858-a22f-a166dd6658a5",
   "metadata": {},
   "outputs": [],
   "source": [
    "template = \"\"\"\n",
    "\n",
    "Question: {question}\n",
    "\n",
    "Answer:\n",
    "\n",
    "\"\"\""
   ]
  },
  {
   "cell_type": "code",
   "execution_count": 13,
   "id": "1fd455bb-b840-487e-8f06-1d931c978aa7",
   "metadata": {},
   "outputs": [],
   "source": [
    "from langchain import PromptTemplate"
   ]
  },
  {
   "cell_type": "code",
   "execution_count": 14,
   "id": "9ad7e10b-24c2-4617-b7db-f65de0b8905a",
   "metadata": {},
   "outputs": [],
   "source": [
    "prompt = PromptTemplate(\n",
    "    input_variables = ['question'],\n",
    "    template        = template\n",
    ")"
   ]
  },
  {
   "cell_type": "code",
   "execution_count": 15,
   "id": "a32b51fd-1f58-4f91-9809-59e525464bbd",
   "metadata": {},
   "outputs": [
    {
     "data": {
      "text/plain": [
       "PromptTemplate(input_variables=['question'], input_types={}, partial_variables={}, template='\\n\\nQuestion: {question}\\n\\nAnswer:\\n\\n')"
      ]
     },
     "execution_count": 15,
     "metadata": {},
     "output_type": "execute_result"
    }
   ],
   "source": [
    "prompt"
   ]
  },
  {
   "cell_type": "code",
   "execution_count": 16,
   "id": "65e96105-3122-4415-b955-1aad3bb20b54",
   "metadata": {},
   "outputs": [],
   "source": [
    "from langchain import LLMChain"
   ]
  },
  {
   "cell_type": "code",
   "execution_count": 17,
   "id": "9d39b4f5-45f0-4f07-9163-62260fce81bd",
   "metadata": {},
   "outputs": [
    {
     "name": "stderr",
     "output_type": "stream",
     "text": [
      "C:\\Users\\bhupe\\AppData\\Local\\Temp\\ipykernel_15676\\4263139895.py:1: LangChainDeprecationWarning: The class `LLMChain` was deprecated in LangChain 0.1.17 and will be removed in 1.0. Use :meth:`~RunnableSequence, e.g., `prompt | llm`` instead.\n",
      "  llm_chain = LLMChain(\n"
     ]
    }
   ],
   "source": [
    "llm_chain = LLMChain(\n",
    "                prompt = prompt,\n",
    "                llm    = model\n",
    "            )"
   ]
  },
  {
   "cell_type": "code",
   "execution_count": 18,
   "id": "c375a141-2fa9-42be-81ac-77241d132f6e",
   "metadata": {},
   "outputs": [
    {
     "data": {
      "text/plain": [
       "{'question': 'Which NFL team won the Super Bowl in the 2010 season?',\n",
       " 'text': 'The Green Bay Packers won the Super Bowl in the 2010 season.'}"
      ]
     },
     "execution_count": 18,
     "metadata": {},
     "output_type": "execute_result"
    }
   ],
   "source": [
    "llm_chain.invoke(question)"
   ]
  },
  {
   "cell_type": "markdown",
   "id": "f5731adf-60e7-4726-a555-6b4ca3c2dc0c",
   "metadata": {},
   "source": [
    "#### multiple questions using the generate"
   ]
  },
  {
   "cell_type": "code",
   "execution_count": 19,
   "id": "a6a046f4-8445-4ba9-a6c0-71bd4c601e50",
   "metadata": {},
   "outputs": [],
   "source": [
    "qs = [\n",
    "    {'question': \"Which NFL team won the Super Bowl in the 2010 season?\"},\n",
    "    {'question': \"If I am 6 ft 4 inches, how tall am I in centimeters?\"},\n",
    "    {'question': \"Who was the 12th person on the moon?\"},\n",
    "    {'question': \"How many eyes does a blade of grass have?\"}\n",
    "]"
   ]
  },
  {
   "cell_type": "code",
   "execution_count": 20,
   "id": "b2328287-c06d-459e-b1e3-ab5181ea7229",
   "metadata": {},
   "outputs": [
    {
     "data": {
      "text/plain": [
       "LLMResult(generations=[[Generation(text='In the 2010 season, the Green Bay Packers won the Super Bowl by defeating the Pittsburgh Steelers 31-25.', generation_info={'finish_reason': 'stop', 'logprobs': None})], [Generation(text='You are approximately 193 centimeters tall.', generation_info={'finish_reason': 'stop', 'logprobs': None})], [Generation(text='The 12th person on the moon was astronaut Harrison \"Jack\" Schmitt. He was part of the Apollo 17 mission in December 1972, making him the last person to set foot on the moon. ', generation_info={'finish_reason': 'stop', 'logprobs': None})], [Generation(text='A blade of grass does not have any eyes. It is a plant and does not have any organs for sight. ', generation_info={'finish_reason': 'stop', 'logprobs': None})]], llm_output={'token_usage': {'total_tokens': 176, 'completion_tokens': 103, 'prompt_tokens': 73}, 'model_name': 'gpt-3.5-turbo-instruct'}, run=[RunInfo(run_id=UUID('d3c740f6-4032-4eb8-a183-bc61df5f545d')), RunInfo(run_id=UUID('260ed2c3-f875-4cc8-843b-4ff23101a462')), RunInfo(run_id=UUID('f50d82c1-8cca-4991-969b-44f7d7c83651')), RunInfo(run_id=UUID('9be267c0-09bb-4b9c-80bc-63a59b12565d'))], type='LLMResult')"
      ]
     },
     "execution_count": 20,
     "metadata": {},
     "output_type": "execute_result"
    }
   ],
   "source": [
    "# Generate LLM result from inputs\n",
    "result = llm_chain.generate(qs)\n",
    "result"
   ]
  },
  {
   "cell_type": "code",
   "execution_count": 23,
   "id": "ad9d94c2-cac2-4866-bc9a-3a38b5343acf",
   "metadata": {},
   "outputs": [
    {
     "data": {
      "text/plain": [
       "{'generations': [[Generation(text='In the 2010 season, the Green Bay Packers won the Super Bowl by defeating the Pittsburgh Steelers 31-25.', generation_info={'finish_reason': 'stop', 'logprobs': None})],\n",
       "  [Generation(text='You are approximately 193 centimeters tall.', generation_info={'finish_reason': 'stop', 'logprobs': None})],\n",
       "  [Generation(text='The 12th person on the moon was astronaut Harrison \"Jack\" Schmitt. He was part of the Apollo 17 mission in December 1972, making him the last person to set foot on the moon. ', generation_info={'finish_reason': 'stop', 'logprobs': None})],\n",
       "  [Generation(text='A blade of grass does not have any eyes. It is a plant and does not have any organs for sight. ', generation_info={'finish_reason': 'stop', 'logprobs': None})]],\n",
       " 'llm_output': {'token_usage': {'total_tokens': 176,\n",
       "   'completion_tokens': 103,\n",
       "   'prompt_tokens': 73},\n",
       "  'model_name': 'gpt-3.5-turbo-instruct'},\n",
       " 'run': [RunInfo(run_id=UUID('d3c740f6-4032-4eb8-a183-bc61df5f545d')),\n",
       "  RunInfo(run_id=UUID('260ed2c3-f875-4cc8-843b-4ff23101a462')),\n",
       "  RunInfo(run_id=UUID('f50d82c1-8cca-4991-969b-44f7d7c83651')),\n",
       "  RunInfo(run_id=UUID('9be267c0-09bb-4b9c-80bc-63a59b12565d'))],\n",
       " 'type': 'LLMResult'}"
      ]
     },
     "execution_count": 23,
     "metadata": {},
     "output_type": "execute_result"
    }
   ],
   "source": [
    "dict(result)"
   ]
  },
  {
   "cell_type": "code",
   "execution_count": 24,
   "id": "591762c6-f351-4787-a206-443517652e49",
   "metadata": {},
   "outputs": [
    {
     "data": {
      "text/plain": [
       "langchain_core.outputs.llm_result.LLMResult"
      ]
     },
     "execution_count": 24,
     "metadata": {},
     "output_type": "execute_result"
    }
   ],
   "source": [
    "type(result)"
   ]
  },
  {
   "cell_type": "markdown",
   "id": "42750228-163d-4012-8bbb-0f5fd6e5076d",
   "metadata": {},
   "source": [
    "about enumerate"
   ]
  },
  {
   "cell_type": "code",
   "execution_count": 27,
   "id": "e2ca574a-06b0-4134-97a7-b9125f7a3dc8",
   "metadata": {},
   "outputs": [],
   "source": [
    "fruits = ['apple', 'orange', ' cherry']"
   ]
  },
  {
   "cell_type": "code",
   "execution_count": 29,
   "id": "615cac4b-b6e4-44fd-96c2-05918953363e",
   "metadata": {},
   "outputs": [
    {
     "name": "stdout",
     "output_type": "stream",
     "text": [
      "0 apple\n",
      "1 orange\n",
      "2  cherry\n"
     ]
    }
   ],
   "source": [
    "for idx, fruit_name in enumerate(fruits):\n",
    "    print(idx, fruit_name)"
   ]
  },
  {
   "cell_type": "code",
   "execution_count": 30,
   "id": "dfc90848-1575-4c26-bfff-225a4d2e3065",
   "metadata": {},
   "outputs": [
    {
     "data": {
      "text/plain": [
       "LLMResult(generations=[[Generation(text='In the 2010 season, the Green Bay Packers won the Super Bowl by defeating the Pittsburgh Steelers 31-25.', generation_info={'finish_reason': 'stop', 'logprobs': None})], [Generation(text='You are approximately 193 centimeters tall.', generation_info={'finish_reason': 'stop', 'logprobs': None})], [Generation(text='The 12th person on the moon was astronaut Harrison \"Jack\" Schmitt. He was part of the Apollo 17 mission in December 1972, making him the last person to set foot on the moon. ', generation_info={'finish_reason': 'stop', 'logprobs': None})], [Generation(text='A blade of grass does not have any eyes. It is a plant and does not have any organs for sight. ', generation_info={'finish_reason': 'stop', 'logprobs': None})]], llm_output={'token_usage': {'total_tokens': 176, 'completion_tokens': 103, 'prompt_tokens': 73}, 'model_name': 'gpt-3.5-turbo-instruct'}, run=[RunInfo(run_id=UUID('d3c740f6-4032-4eb8-a183-bc61df5f545d')), RunInfo(run_id=UUID('260ed2c3-f875-4cc8-843b-4ff23101a462')), RunInfo(run_id=UUID('f50d82c1-8cca-4991-969b-44f7d7c83651')), RunInfo(run_id=UUID('9be267c0-09bb-4b9c-80bc-63a59b12565d'))], type='LLMResult')"
      ]
     },
     "execution_count": 30,
     "metadata": {},
     "output_type": "execute_result"
    }
   ],
   "source": [
    "result"
   ]
  },
  {
   "cell_type": "code",
   "execution_count": 32,
   "id": "a78b6ef8-28b2-4670-acf8-eddf292045db",
   "metadata": {},
   "outputs": [
    {
     "name": "stdout",
     "output_type": "stream",
     "text": [
      "0 ------> ('generations', [[Generation(text='In the 2010 season, the Green Bay Packers won the Super Bowl by defeating the Pittsburgh Steelers 31-25.', generation_info={'finish_reason': 'stop', 'logprobs': None})], [Generation(text='You are approximately 193 centimeters tall.', generation_info={'finish_reason': 'stop', 'logprobs': None})], [Generation(text='The 12th person on the moon was astronaut Harrison \"Jack\" Schmitt. He was part of the Apollo 17 mission in December 1972, making him the last person to set foot on the moon. ', generation_info={'finish_reason': 'stop', 'logprobs': None})], [Generation(text='A blade of grass does not have any eyes. It is a plant and does not have any organs for sight. ', generation_info={'finish_reason': 'stop', 'logprobs': None})]])\n",
      "1 ------> ('llm_output', {'token_usage': {'total_tokens': 176, 'completion_tokens': 103, 'prompt_tokens': 73}, 'model_name': 'gpt-3.5-turbo-instruct'})\n",
      "2 ------> ('run', [RunInfo(run_id=UUID('d3c740f6-4032-4eb8-a183-bc61df5f545d')), RunInfo(run_id=UUID('260ed2c3-f875-4cc8-843b-4ff23101a462')), RunInfo(run_id=UUID('f50d82c1-8cca-4991-969b-44f7d7c83651')), RunInfo(run_id=UUID('9be267c0-09bb-4b9c-80bc-63a59b12565d'))])\n",
      "3 ------> ('type', 'LLMResult')\n"
     ]
    }
   ],
   "source": [
    "for idx, row in enumerate(result):\n",
    "    print(idx, '------>', row)"
   ]
  },
  {
   "cell_type": "code",
   "execution_count": 42,
   "id": "71d8c3e8-c8b1-4a61-a287-70b8025bf201",
   "metadata": {},
   "outputs": [
    {
     "name": "stdout",
     "output_type": "stream",
     "text": [
      "0 ---->\n",
      "text            :  In the 2010 season, the Green Bay Packers won the Super Bowl by defeating the Pittsburgh Steelers 31-25.\n",
      "generation info :  stop\n",
      "1 ---->\n",
      "text            :  You are approximately 193 centimeters tall.\n",
      "generation info :  stop\n",
      "2 ---->\n",
      "text            :  The 12th person on the moon was astronaut Harrison \"Jack\" Schmitt. He was part of the Apollo 17 mission in December 1972, making him the last person to set foot on the moon. \n",
      "generation info :  stop\n",
      "3 ---->\n",
      "text            :  A blade of grass does not have any eyes. It is a plant and does not have any organs for sight. \n",
      "generation info :  stop\n"
     ]
    }
   ],
   "source": [
    "for idx, row in enumerate(result.generations):\n",
    "    \n",
    "    print(idx, '---->')\n",
    "    #print(row)\n",
    "    print('text            : ', row[0].text)\n",
    "    print('generation info : ', row[0].generation_info['finish_reason'])\n",
    "          \n",
    "    "
   ]
  },
  {
   "cell_type": "markdown",
   "id": "86980c11-19da-4991-8e7d-bf3b9b70ee3c",
   "metadata": {},
   "source": [
    "#### Key Methods of a Chat Model\n",
    "\n",
    "- **invoke**: This is the main method used to interact with a chat model. It accepts a list of messages as input and produces a list of messages as output.\n",
    "- **stream**: This method enables the streaming of the chat model's output as it is being generated, allowing for real-time responses.\n",
    "- **batch**: This method allows for the batching of multiple requests to the chat model, improving processing efficiency by handling multiple inputs at once.\n",
    "- **bind_tools**: This method facilitates the binding of tools to the chat model, making them available within the execution context of the model.\n",
    "- **with_structured_output**: This is a wrapper around the invoke method designed for models that inherently support structured output, enhancing the output formatting."
   ]
  },
  {
   "cell_type": "code",
   "execution_count": null,
   "id": "ce0dacca-e18a-4eae-bad6-defa96def1da",
   "metadata": {},
   "outputs": [],
   "source": []
  }
 ],
 "metadata": {
  "kernelspec": {
   "display_name": "langchain_env",
   "language": "python",
   "name": "langchain_env"
  },
  "language_info": {
   "codemirror_mode": {
    "name": "ipython",
    "version": 3
   },
   "file_extension": ".py",
   "mimetype": "text/x-python",
   "name": "python",
   "nbconvert_exporter": "python",
   "pygments_lexer": "ipython3",
   "version": "3.12.7"
  }
 },
 "nbformat": 4,
 "nbformat_minor": 5
}
