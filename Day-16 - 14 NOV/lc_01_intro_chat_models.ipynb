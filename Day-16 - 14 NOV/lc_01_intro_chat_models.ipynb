{
 "cells": [
  {
   "cell_type": "markdown",
   "id": "1adb7961-edd3-4f1b-8822-eddce4b1994b",
   "metadata": {},
   "source": [
    "#### Intro on Langchain"
   ]
  },
  {
   "cell_type": "code",
   "execution_count": null,
   "id": "b03e32cf-ce6d-46da-af20-5c83af019618",
   "metadata": {},
   "outputs": [],
   "source": [
    "#pip install langchain"
   ]
  },
  {
   "cell_type": "code",
   "execution_count": null,
   "id": "6ba3822b-4b48-446e-8020-4bc9d5ba020a",
   "metadata": {},
   "outputs": [],
   "source": [
    "#pip install langchain-core"
   ]
  },
  {
   "cell_type": "code",
   "execution_count": null,
   "id": "04bd5d2b-1518-47d4-97ac-ca1905ee861c",
   "metadata": {},
   "outputs": [],
   "source": [
    "#pip install langchain-openai"
   ]
  },
  {
   "cell_type": "code",
   "execution_count": null,
   "id": "e08dd3ed-fa26-4324-855d-51afbceca42f",
   "metadata": {},
   "outputs": [],
   "source": [
    "#pip install langchain-community"
   ]
  },
  {
   "cell_type": "markdown",
   "id": "7190effe-906d-4cc5-a4cf-19f8bf76dbdb",
   "metadata": {},
   "source": [
    "-------------------------------\n",
    "#### Chatmodels integration \n",
    "------------------------------------\n",
    "\n",
    "- **Large Language Models (LLMs)**:\n",
    "  - Powerful machine learning models adept at various language-related tasks, including:\n",
    "    - Text generation\n",
    "    - Translation\n",
    "    - Summarization\n",
    "    - Question answering\n",
    "  - Capable of performing these tasks without specific fine-tuning for each scenario.\n",
    "\n",
    "- **Chat Model Interface**:\n",
    "  - Commonly used to interact with modern LLMs.\n",
    "  - Accepts a list of messages as input and returns a single message as output.\n",
    "\n",
    "- **New Features in Chat Models**:\n",
    "  - **Tool Calling**:\n",
    "    - Many chat models now support a native tool-calling API.\n",
    "    - Allows the model to interact with external services, APIs, and databases.\n",
    "    - Useful for extracting structured information from unstructured data.\n",
    "    - Enables the creation of advanced applications with AI-driven interactions.\n",
    "\n",
    "  - **Structured Output**:\n",
    "    - Enables chat models to respond in specific formats, such as JSON.\n",
    "    - Useful for producing outputs that follow a predefined schema.\n",
    "\n",
    "  - **Multimodality**:\n",
    "    - Extends the model’s capabilities beyond text processing.\n",
    "    - Supports handling of diverse data types, including images, audio, and video, broadening the range of tasks it can perform."
   ]
  },
  {
   "cell_type": "markdown",
   "id": "0b5df38a-a407-4552-a4da-fae89667318c",
   "metadata": {},
   "source": [
    "#### OpenAI LLM"
   ]
  },
  {
   "cell_type": "code",
   "execution_count": 1,
   "id": "b7f8a1a0-ca1e-4a69-aec3-4ec99cf100e2",
   "metadata": {},
   "outputs": [],
   "source": [
    "from langchain_openai import OpenAI\n",
    "from langchain_openai import ChatOpenAI"
   ]
  },
  {
   "cell_type": "code",
   "execution_count": 3,
   "id": "553d353b-5e87-4364-87bd-662e814ec26a",
   "metadata": {},
   "outputs": [],
   "source": [
    "# client (model) \n",
    "model = OpenAI()"
   ]
  },
  {
   "cell_type": "code",
   "execution_count": 4,
   "id": "d123dd1e-b032-41a1-8f8f-19a5c6f50389",
   "metadata": {},
   "outputs": [],
   "source": [
    "# user question\n",
    "question = \"Which NFL team won the Super Bowl in the 2010 season?\""
   ]
  },
  {
   "cell_type": "code",
   "execution_count": 5,
   "id": "b13e04e3-d4a5-4858-a22f-a166dd6658a5",
   "metadata": {},
   "outputs": [],
   "source": [
    "template = \"\"\"\n",
    "\n",
    "Question: {question}\n",
    "\n",
    "Answer:\n",
    "\n",
    "\"\"\""
   ]
  },
  {
   "cell_type": "code",
   "execution_count": 6,
   "id": "1fd455bb-b840-487e-8f06-1d931c978aa7",
   "metadata": {},
   "outputs": [],
   "source": [
    "from langchain import PromptTemplate"
   ]
  },
  {
   "cell_type": "code",
   "execution_count": 9,
   "id": "9ad7e10b-24c2-4617-b7db-f65de0b8905a",
   "metadata": {},
   "outputs": [],
   "source": [
    "prompt = PromptTemplate(\n",
    "    input_variables = ['question'],\n",
    "    template        = template\n",
    ")"
   ]
  },
  {
   "cell_type": "code",
   "execution_count": 10,
   "id": "a32b51fd-1f58-4f91-9809-59e525464bbd",
   "metadata": {},
   "outputs": [
    {
     "data": {
      "text/plain": [
       "PromptTemplate(input_variables=['question'], input_types={}, partial_variables={}, template='\\n\\nQuestion: {question}\\n\\nAnswer:\\n\\n')"
      ]
     },
     "execution_count": 10,
     "metadata": {},
     "output_type": "execute_result"
    }
   ],
   "source": [
    "prompt"
   ]
  },
  {
   "cell_type": "code",
   "execution_count": 7,
   "id": "65e96105-3122-4415-b955-1aad3bb20b54",
   "metadata": {},
   "outputs": [],
   "source": [
    "from langchain import LLMChain"
   ]
  },
  {
   "cell_type": "code",
   "execution_count": 12,
   "id": "9d39b4f5-45f0-4f07-9163-62260fce81bd",
   "metadata": {},
   "outputs": [
    {
     "name": "stderr",
     "output_type": "stream",
     "text": [
      "C:\\Users\\bhupe\\AppData\\Local\\Temp\\ipykernel_28312\\4263139895.py:1: LangChainDeprecationWarning: The class `LLMChain` was deprecated in LangChain 0.1.17 and will be removed in 1.0. Use :meth:`~RunnableSequence, e.g., `prompt | llm`` instead.\n",
      "  llm_chain = LLMChain(\n"
     ]
    }
   ],
   "source": [
    "llm_chain = LLMChain(\n",
    "                prompt = prompt,\n",
    "                llm    = model\n",
    "            )"
   ]
  },
  {
   "cell_type": "code",
   "execution_count": null,
   "id": "c375a141-2fa9-42be-81ac-77241d132f6e",
   "metadata": {},
   "outputs": [],
   "source": [
    "llm_chain.invoke(question)"
   ]
  },
  {
   "cell_type": "code",
   "execution_count": null,
   "id": "853169c5-65fd-4980-a0f8-df91be6a6003",
   "metadata": {},
   "outputs": [],
   "source": []
  }
 ],
 "metadata": {
  "kernelspec": {
   "display_name": "langchain_env",
   "language": "python",
   "name": "langchain_env"
  },
  "language_info": {
   "codemirror_mode": {
    "name": "ipython",
    "version": 3
   },
   "file_extension": ".py",
   "mimetype": "text/x-python",
   "name": "python",
   "nbconvert_exporter": "python",
   "pygments_lexer": "ipython3",
   "version": "3.12.7"
  }
 },
 "nbformat": 4,
 "nbformat_minor": 5
}
