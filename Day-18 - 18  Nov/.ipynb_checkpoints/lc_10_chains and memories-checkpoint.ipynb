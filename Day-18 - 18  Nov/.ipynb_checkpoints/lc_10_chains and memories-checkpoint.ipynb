{
 "cells": [
  {
   "cell_type": "markdown",
   "id": "93b0a50f-f881-4ab3-b249-bbf4a6fad551",
   "metadata": {},
   "source": [
    "-----------------------\n",
    "#### basic chain\n",
    "--------------------------"
   ]
  },
  {
   "cell_type": "code",
   "execution_count": 1,
   "id": "9afde2ca-109a-4f7d-924a-6a2706115814",
   "metadata": {},
   "outputs": [],
   "source": [
    "from langchain import PromptTemplate, LLMChain\n",
    "from langchain_openai  import ChatOpenAI\n",
    "from langchain.prompts import ChatPromptTemplate"
   ]
  },
  {
   "cell_type": "code",
   "execution_count": 2,
   "id": "f51d7c48-8e6b-4544-af31-2894b8ab3729",
   "metadata": {},
   "outputs": [],
   "source": [
    "# Define the prompt template\n",
    "prompt = PromptTemplate.from_template(\"What is the capital of {country}?\")"
   ]
  },
  {
   "cell_type": "code",
   "execution_count": 3,
   "id": "6831c297-d527-4834-83aa-58498aacdd54",
   "metadata": {},
   "outputs": [
    {
     "name": "stderr",
     "output_type": "stream",
     "text": [
      "C:\\Users\\bhupe\\AppData\\Local\\Temp\\ipykernel_14080\\2838644879.py:4: LangChainDeprecationWarning: The class `LLMChain` was deprecated in LangChain 0.1.17 and will be removed in 1.0. Use :meth:`~RunnableSequence, e.g., `prompt | llm`` instead.\n",
      "  chain = LLMChain(llm   = llm,\n"
     ]
    }
   ],
   "source": [
    "# Initialize the LLM and chain\n",
    "llm   = ChatOpenAI()\n",
    "\n",
    "chain = LLMChain(llm   = llm, \n",
    "                 prompt= prompt)"
   ]
  },
  {
   "cell_type": "code",
   "execution_count": 4,
   "id": "191e20d1-e49f-4cba-9802-f490897c1851",
   "metadata": {},
   "outputs": [
    {
     "name": "stdout",
     "output_type": "stream",
     "text": [
      "{'country': 'France', 'text': 'The capital of France is Paris.'}\n"
     ]
    }
   ],
   "source": [
    "# Run the chain\n",
    "result = chain.invoke({\"country\": \"France\"})\n",
    "print(result)  # Output should be \"Paris\""
   ]
  },
  {
   "cell_type": "markdown",
   "id": "eeec3421-f625-4515-8f4b-e68bd71e0f97",
   "metadata": {},
   "source": [
    "example"
   ]
  },
  {
   "cell_type": "code",
   "execution_count": 5,
   "id": "16577783-662a-403d-ad29-a5364c471eb7",
   "metadata": {},
   "outputs": [],
   "source": [
    "prompt = ChatPromptTemplate.from_template(\n",
    "    \"What is the best name to describe a company that makes {product}?\"\n",
    ")"
   ]
  },
  {
   "cell_type": "code",
   "execution_count": 6,
   "id": "df452975-3247-4361-bd93-c8f62864e9cd",
   "metadata": {},
   "outputs": [],
   "source": [
    "chain = LLMChain(llm=llm, prompt=prompt)"
   ]
  },
  {
   "cell_type": "code",
   "execution_count": 15,
   "id": "bcc470ef-7742-44d6-b6ae-36cf49d7ed3a",
   "metadata": {},
   "outputs": [],
   "source": [
    "product = \"Nexon\""
   ]
  },
  {
   "cell_type": "code",
   "execution_count": 16,
   "id": "87abde71-531c-4399-99ee-9d2582691e9a",
   "metadata": {},
   "outputs": [
    {
     "name": "stdout",
     "output_type": "stream",
     "text": [
      "{'product': 'Nexon', 'text': 'Nexon Innovations'}\n"
     ]
    }
   ],
   "source": [
    "# Run the chain\n",
    "result = chain.invoke({\"product\": product})\n",
    "print(result)  "
   ]
  },
  {
   "cell_type": "markdown",
   "id": "fc0ecfbc-8b96-4295-84b9-7b9ed443f0ad",
   "metadata": {},
   "source": [
    "**Simple sequential chain**"
   ]
  },
  {
   "cell_type": "code",
   "execution_count": 7,
   "id": "8c94bd88-db64-4c46-a6be-9dd68cfe1ddd",
   "metadata": {},
   "outputs": [],
   "source": [
    "from langchain.chains import SimpleSequentialChain"
   ]
  },
  {
   "cell_type": "code",
   "execution_count": 8,
   "id": "2cf939c8-857d-4f92-807f-ea617cab3e8a",
   "metadata": {},
   "outputs": [],
   "source": [
    "llm_model = 'gpt-3.5-turbo'"
   ]
  },
  {
   "cell_type": "code",
   "execution_count": 17,
   "id": "0dbb8a46-1952-4041-aa52-9ec0d2e0ffb9",
   "metadata": {},
   "outputs": [],
   "source": [
    "llm = ChatOpenAI(temperature=0.9, model=llm_model)\n",
    "\n",
    "# prompt template 1\n",
    "first_prompt = ChatPromptTemplate.from_template(\n",
    "    \"What is the best name to describe a company that makes {product}?\"\n",
    ")\n",
    "\n",
    "# Chain 1\n",
    "chain_one = LLMChain(llm=llm, prompt=first_prompt)"
   ]
  },
  {
   "cell_type": "code",
   "execution_count": 18,
   "id": "7d75ca22-665d-48b8-b4c8-07ae0ae1af00",
   "metadata": {},
   "outputs": [],
   "source": [
    "# prompt template 2\n",
    "second_prompt = ChatPromptTemplate.from_template(\n",
    "    \"Write a 20 words description for the following company:{company_name}\"\n",
    ")\n",
    "# chain 2\n",
    "chain_two = LLMChain(llm=llm, prompt=second_prompt)"
   ]
  },
  {
   "cell_type": "code",
   "execution_count": 19,
   "id": "2379e17a-be7c-4e21-8f8b-8d76d5cc0d4d",
   "metadata": {},
   "outputs": [],
   "source": [
    "overall_simple_chain = SimpleSequentialChain(chains =[chain_one, chain_two],\n",
    "                                             verbose=True\n",
    "                                            )"
   ]
  },
  {
   "cell_type": "code",
   "execution_count": 20,
   "id": "9d0b3234-dab4-4237-b00b-5cca7f8bff7e",
   "metadata": {},
   "outputs": [],
   "source": [
    "product = \"fitbit\""
   ]
  },
  {
   "cell_type": "code",
   "execution_count": 21,
   "id": "c2fbd6d4-bc86-47f1-8bbd-be7679d3d5f1",
   "metadata": {},
   "outputs": [
    {
     "name": "stdout",
     "output_type": "stream",
     "text": [
      "\n",
      "\n",
      "\u001b[1m> Entering new SimpleSequentialChain chain...\u001b[0m\n",
      "\u001b[36;1m\u001b[1;3mActiveLife Technologies\u001b[0m\n",
      "\u001b[33;1m\u001b[1;3mActiveLife Technologies is a leading provider of innovative health and wellness products, promoting an active lifestyle for improved well-being.\u001b[0m\n",
      "\n",
      "\u001b[1m> Finished chain.\u001b[0m\n"
     ]
    },
    {
     "data": {
      "text/plain": [
       "{'input': 'fitbit',\n",
       " 'output': 'ActiveLife Technologies is a leading provider of innovative health and wellness products, promoting an active lifestyle for improved well-being.'}"
      ]
     },
     "execution_count": 21,
     "metadata": {},
     "output_type": "execute_result"
    }
   ],
   "source": [
    "overall_simple_chain.invoke(product)"
   ]
  },
  {
   "cell_type": "markdown",
   "id": "3901d09c-f8ff-45e1-aada-e9655f03f8d2",
   "metadata": {},
   "source": [
    "**Exercise on Simple Sequential chain**\n",
    "\n",
    "- Text Processing Pipeline\n",
    "\n",
    "    - Remove punctuation from a text.\n",
    "    - Convert the text to lowercase.\n",
    "    - Count the number of words in the text."
   ]
  },
  {
   "cell_type": "code",
   "execution_count": 39,
   "id": "e1f7ba83-f964-48f0-8125-b429625ed282",
   "metadata": {},
   "outputs": [],
   "source": [
    "# Remove punctuation\n",
    "prompt_remove_punctuation = PromptTemplate(\n",
    "    input_variables = [\"text\"],\n",
    "    template        = \"Remove all punctuation from the following text:\\n{text}\"\n",
    ")\n",
    "\n",
    "# Chain 1\n",
    "chain_one = LLMChain(llm=llm, prompt=prompt_remove_punctuation)"
   ]
  },
  {
   "cell_type": "code",
   "execution_count": 40,
   "id": "364c8927-adf1-422b-ab11-10f2333fc6dd",
   "metadata": {},
   "outputs": [],
   "source": [
    "# Convert to lowercase\n",
    "prompt_to_lowercase = PromptTemplate(\n",
    "    input_variables = [\"text\"],\n",
    "    template        = \"Convert the following text to lowercase:\\n{text}\"\n",
    ")\n",
    "\n",
    "# Chain 2\n",
    "chain_two = LLMChain(llm=llm, prompt=prompt_to_lowercase)"
   ]
  },
  {
   "cell_type": "code",
   "execution_count": 41,
   "id": "d292e0f3-99fc-4bda-8143-11924675982b",
   "metadata": {},
   "outputs": [],
   "source": [
    "# Count the words\n",
    "prompt_count_words = PromptTemplate(\n",
    "    input_variables =[\"text\"],\n",
    "    template        = \"Count the number of words in the following text and return only the number:\\n{text}\"\n",
    ")\n",
    "\n",
    "# Chain 3\n",
    "chain_three = LLMChain(llm=llm, prompt=prompt_count_words)"
   ]
  },
  {
   "cell_type": "code",
   "execution_count": 42,
   "id": "87687b53-c8c0-410a-bb52-7e20081dce45",
   "metadata": {},
   "outputs": [],
   "source": [
    "overall_simple_chain = SimpleSequentialChain(chains =[chain_one, chain_two, chain_three],\n",
    "                                             verbose=True\n",
    "                                            )"
   ]
  },
  {
   "cell_type": "code",
   "execution_count": 43,
   "id": "73a8219a-1c79-4c2a-88c1-37f3dee5c45c",
   "metadata": {},
   "outputs": [
    {
     "name": "stdout",
     "output_type": "stream",
     "text": [
      "\n",
      "\n",
      "\u001b[1m> Entering new SimpleSequentialChain chain...\u001b[0m\n",
      "\u001b[36;1m\u001b[1;3mModern humans arrived on the Indian subcontinent\u001b[0m\n",
      "\u001b[33;1m\u001b[1;3mmodern humans arrived on the indian subcontinent\u001b[0m\n",
      "\u001b[38;5;200m\u001b[1;3m7\u001b[0m\n",
      "\n",
      "\u001b[1m> Finished chain.\u001b[0m\n"
     ]
    },
    {
     "data": {
      "text/plain": [
       "{'input': 'Modern humans arrived on the Indian subcontinent', 'output': '7'}"
      ]
     },
     "execution_count": 43,
     "metadata": {},
     "output_type": "execute_result"
    }
   ],
   "source": [
    "text = 'Modern humans arrived on the Indian subcontinent'\n",
    "\n",
    "overall_simple_chain.invoke(text)"
   ]
  },
  {
   "cell_type": "code",
   "execution_count": null,
   "id": "3b9fe8ba-1003-4cb8-b722-1e1b6fbf4bed",
   "metadata": {},
   "outputs": [],
   "source": [
    "overall_simple_chain."
   ]
  }
 ],
 "metadata": {
  "kernelspec": {
   "display_name": "langchain_env",
   "language": "python",
   "name": "langchain_env"
  },
  "language_info": {
   "codemirror_mode": {
    "name": "ipython",
    "version": 3
   },
   "file_extension": ".py",
   "mimetype": "text/x-python",
   "name": "python",
   "nbconvert_exporter": "python",
   "pygments_lexer": "ipython3",
   "version": "3.12.7"
  }
 },
 "nbformat": 4,
 "nbformat_minor": 5
}
