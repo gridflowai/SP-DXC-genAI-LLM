{
 "cells": [
  {
   "cell_type": "markdown",
   "id": "93b0a50f-f881-4ab3-b249-bbf4a6fad551",
   "metadata": {},
   "source": [
    "-----------------------\n",
    "#### basic chain\n",
    "--------------------------"
   ]
  },
  {
   "cell_type": "code",
   "execution_count": 1,
   "id": "9afde2ca-109a-4f7d-924a-6a2706115814",
   "metadata": {},
   "outputs": [],
   "source": [
    "from langchain import PromptTemplate, LLMChain\n",
    "from langchain_openai  import ChatOpenAI\n",
    "from langchain.prompts import ChatPromptTemplate"
   ]
  },
  {
   "cell_type": "code",
   "execution_count": 2,
   "id": "f51d7c48-8e6b-4544-af31-2894b8ab3729",
   "metadata": {},
   "outputs": [],
   "source": [
    "# Define the prompt template\n",
    "prompt = PromptTemplate.from_template(\"What is the capital of {country}?\")"
   ]
  },
  {
   "cell_type": "code",
   "execution_count": 3,
   "id": "6831c297-d527-4834-83aa-58498aacdd54",
   "metadata": {},
   "outputs": [
    {
     "name": "stderr",
     "output_type": "stream",
     "text": [
      "C:\\Users\\bhupe\\AppData\\Local\\Temp\\ipykernel_14080\\2838644879.py:4: LangChainDeprecationWarning: The class `LLMChain` was deprecated in LangChain 0.1.17 and will be removed in 1.0. Use :meth:`~RunnableSequence, e.g., `prompt | llm`` instead.\n",
      "  chain = LLMChain(llm   = llm,\n"
     ]
    }
   ],
   "source": [
    "# Initialize the LLM and chain\n",
    "llm   = ChatOpenAI()\n",
    "\n",
    "chain = LLMChain(llm   = llm, \n",
    "                 prompt= prompt)"
   ]
  },
  {
   "cell_type": "code",
   "execution_count": 4,
   "id": "191e20d1-e49f-4cba-9802-f490897c1851",
   "metadata": {},
   "outputs": [
    {
     "name": "stdout",
     "output_type": "stream",
     "text": [
      "{'country': 'France', 'text': 'The capital of France is Paris.'}\n"
     ]
    }
   ],
   "source": [
    "# Run the chain\n",
    "result = chain.invoke({\"country\": \"France\"})\n",
    "print(result)  # Output should be \"Paris\""
   ]
  },
  {
   "cell_type": "markdown",
   "id": "eeec3421-f625-4515-8f4b-e68bd71e0f97",
   "metadata": {},
   "source": [
    "example"
   ]
  },
  {
   "cell_type": "code",
   "execution_count": 5,
   "id": "16577783-662a-403d-ad29-a5364c471eb7",
   "metadata": {},
   "outputs": [],
   "source": [
    "prompt = ChatPromptTemplate.from_template(\n",
    "    \"What is the best name to describe a company that makes {product}?\"\n",
    ")"
   ]
  },
  {
   "cell_type": "code",
   "execution_count": 6,
   "id": "df452975-3247-4361-bd93-c8f62864e9cd",
   "metadata": {},
   "outputs": [],
   "source": [
    "chain = LLMChain(llm=llm, prompt=prompt)"
   ]
  },
  {
   "cell_type": "code",
   "execution_count": 15,
   "id": "bcc470ef-7742-44d6-b6ae-36cf49d7ed3a",
   "metadata": {},
   "outputs": [],
   "source": [
    "product = \"Nexon\""
   ]
  },
  {
   "cell_type": "code",
   "execution_count": 16,
   "id": "87abde71-531c-4399-99ee-9d2582691e9a",
   "metadata": {},
   "outputs": [
    {
     "name": "stdout",
     "output_type": "stream",
     "text": [
      "{'product': 'Nexon', 'text': 'Nexon Innovations'}\n"
     ]
    }
   ],
   "source": [
    "# Run the chain\n",
    "result = chain.invoke({\"product\": product})\n",
    "print(result)  "
   ]
  },
  {
   "cell_type": "markdown",
   "id": "fc0ecfbc-8b96-4295-84b9-7b9ed443f0ad",
   "metadata": {},
   "source": [
    "**Simple sequential chain**"
   ]
  },
  {
   "cell_type": "code",
   "execution_count": 7,
   "id": "8c94bd88-db64-4c46-a6be-9dd68cfe1ddd",
   "metadata": {},
   "outputs": [],
   "source": [
    "from langchain.chains import SimpleSequentialChain"
   ]
  },
  {
   "cell_type": "code",
   "execution_count": 8,
   "id": "2cf939c8-857d-4f92-807f-ea617cab3e8a",
   "metadata": {},
   "outputs": [],
   "source": [
    "llm_model = 'gpt-3.5-turbo'"
   ]
  },
  {
   "cell_type": "code",
   "execution_count": 17,
   "id": "0dbb8a46-1952-4041-aa52-9ec0d2e0ffb9",
   "metadata": {},
   "outputs": [],
   "source": [
    "llm = ChatOpenAI(temperature=0.9, model=llm_model)\n",
    "\n",
    "# prompt template 1\n",
    "first_prompt = ChatPromptTemplate.from_template(\n",
    "    \"What is the best name to describe a company that makes {product}?\"\n",
    ")\n",
    "\n",
    "# Chain 1\n",
    "chain_one = LLMChain(llm=llm, prompt=first_prompt)"
   ]
  },
  {
   "cell_type": "code",
   "execution_count": 18,
   "id": "7d75ca22-665d-48b8-b4c8-07ae0ae1af00",
   "metadata": {},
   "outputs": [],
   "source": [
    "# prompt template 2\n",
    "second_prompt = ChatPromptTemplate.from_template(\n",
    "    \"Write a 20 words description for the following company:{company_name}\"\n",
    ")\n",
    "# chain 2\n",
    "chain_two = LLMChain(llm=llm, prompt=second_prompt)"
   ]
  },
  {
   "cell_type": "code",
   "execution_count": 19,
   "id": "2379e17a-be7c-4e21-8f8b-8d76d5cc0d4d",
   "metadata": {},
   "outputs": [],
   "source": [
    "overall_simple_chain = SimpleSequentialChain(chains =[chain_one, chain_two],\n",
    "                                             verbose=True\n",
    "                                            )"
   ]
  },
  {
   "cell_type": "code",
   "execution_count": 20,
   "id": "9d0b3234-dab4-4237-b00b-5cca7f8bff7e",
   "metadata": {},
   "outputs": [],
   "source": [
    "product = \"fitbit\""
   ]
  },
  {
   "cell_type": "code",
   "execution_count": 21,
   "id": "c2fbd6d4-bc86-47f1-8bbd-be7679d3d5f1",
   "metadata": {},
   "outputs": [
    {
     "name": "stdout",
     "output_type": "stream",
     "text": [
      "\n",
      "\n",
      "\u001b[1m> Entering new SimpleSequentialChain chain...\u001b[0m\n",
      "\u001b[36;1m\u001b[1;3mActiveLife Technologies\u001b[0m\n",
      "\u001b[33;1m\u001b[1;3mActiveLife Technologies is a leading provider of innovative health and wellness products, promoting an active lifestyle for improved well-being.\u001b[0m\n",
      "\n",
      "\u001b[1m> Finished chain.\u001b[0m\n"
     ]
    },
    {
     "data": {
      "text/plain": [
       "{'input': 'fitbit',\n",
       " 'output': 'ActiveLife Technologies is a leading provider of innovative health and wellness products, promoting an active lifestyle for improved well-being.'}"
      ]
     },
     "execution_count": 21,
     "metadata": {},
     "output_type": "execute_result"
    }
   ],
   "source": [
    "overall_simple_chain.invoke(product)"
   ]
  },
  {
   "cell_type": "markdown",
   "id": "3901d09c-f8ff-45e1-aada-e9655f03f8d2",
   "metadata": {},
   "source": [
    "**Exercise on Simple Sequential chain**\n",
    "\n",
    "- Text Processing Pipeline\n",
    "\n",
    "    - Remove punctuation from a text.\n",
    "    - Convert the text to lowercase.\n",
    "    - Count the number of words in the text."
   ]
  },
  {
   "cell_type": "code",
   "execution_count": 39,
   "id": "e1f7ba83-f964-48f0-8125-b429625ed282",
   "metadata": {},
   "outputs": [],
   "source": [
    "# Remove punctuation\n",
    "prompt_remove_punctuation = PromptTemplate(\n",
    "    input_variables = [\"text\"],\n",
    "    template        = \"Remove all punctuation from the following text:\\n{text}\"\n",
    ")\n",
    "\n",
    "# Chain 1\n",
    "chain_one = LLMChain(llm=llm, prompt=prompt_remove_punctuation)"
   ]
  },
  {
   "cell_type": "code",
   "execution_count": 40,
   "id": "364c8927-adf1-422b-ab11-10f2333fc6dd",
   "metadata": {},
   "outputs": [],
   "source": [
    "# Convert to lowercase\n",
    "prompt_to_lowercase = PromptTemplate(\n",
    "    input_variables = [\"text\"],\n",
    "    template        = \"Convert the following text to lowercase:\\n{text}\"\n",
    ")\n",
    "\n",
    "# Chain 2\n",
    "chain_two = LLMChain(llm=llm, prompt=prompt_to_lowercase)"
   ]
  },
  {
   "cell_type": "code",
   "execution_count": 41,
   "id": "d292e0f3-99fc-4bda-8143-11924675982b",
   "metadata": {},
   "outputs": [],
   "source": [
    "# Count the words\n",
    "prompt_count_words = PromptTemplate(\n",
    "    input_variables =[\"text\"],\n",
    "    template        = \"Count the number of words in the following text and return only the number:\\n{text}\"\n",
    ")\n",
    "\n",
    "# Chain 3\n",
    "chain_three = LLMChain(llm=llm, prompt=prompt_count_words)"
   ]
  },
  {
   "cell_type": "code",
   "execution_count": 42,
   "id": "87687b53-c8c0-410a-bb52-7e20081dce45",
   "metadata": {},
   "outputs": [],
   "source": [
    "overall_simple_chain = SimpleSequentialChain(chains =[chain_one, chain_two, chain_three],\n",
    "                                             verbose=True\n",
    "                                            )"
   ]
  },
  {
   "cell_type": "code",
   "execution_count": 43,
   "id": "73a8219a-1c79-4c2a-88c1-37f3dee5c45c",
   "metadata": {},
   "outputs": [
    {
     "name": "stdout",
     "output_type": "stream",
     "text": [
      "\n",
      "\n",
      "\u001b[1m> Entering new SimpleSequentialChain chain...\u001b[0m\n",
      "\u001b[36;1m\u001b[1;3mModern humans arrived on the Indian subcontinent\u001b[0m\n",
      "\u001b[33;1m\u001b[1;3mmodern humans arrived on the indian subcontinent\u001b[0m\n",
      "\u001b[38;5;200m\u001b[1;3m7\u001b[0m\n",
      "\n",
      "\u001b[1m> Finished chain.\u001b[0m\n"
     ]
    },
    {
     "data": {
      "text/plain": [
       "{'input': 'Modern humans arrived on the Indian subcontinent', 'output': '7'}"
      ]
     },
     "execution_count": 43,
     "metadata": {},
     "output_type": "execute_result"
    }
   ],
   "source": [
    "text = 'Modern humans arrived on the Indian subcontinent'\n",
    "\n",
    "overall_simple_chain.invoke(text)"
   ]
  },
  {
   "cell_type": "markdown",
   "id": "a1ce5eb5-7036-4338-98e4-233a2351d2ae",
   "metadata": {},
   "source": [
    "#### Sequential chains"
   ]
  },
  {
   "cell_type": "code",
   "execution_count": 44,
   "id": "02c064f8-32fb-4ab7-9ff6-8432aa327b11",
   "metadata": {},
   "outputs": [],
   "source": [
    "from langchain.chains.sequential import SequentialChain"
   ]
  },
  {
   "cell_type": "code",
   "execution_count": 45,
   "id": "1c1fe401-0222-4bff-8f4a-fe897855257d",
   "metadata": {},
   "outputs": [],
   "source": [
    "# Define the prompt templates\n",
    "prompt1 = PromptTemplate.from_template(\"What is the capital of {country}?\")\n",
    "prompt2 = PromptTemplate.from_template(\"Describe the main attractions in {city}.\")"
   ]
  },
  {
   "cell_type": "code",
   "execution_count": 46,
   "id": "01f8c2c3-3841-467d-8c41-9808a9142270",
   "metadata": {},
   "outputs": [],
   "source": [
    "# Initialize the language model\n",
    "llm = ChatOpenAI()"
   ]
  },
  {
   "cell_type": "code",
   "execution_count": 47,
   "id": "cae729c3-fbcb-4a8c-bb7b-27d30ab9ff18",
   "metadata": {},
   "outputs": [],
   "source": [
    "# Create individual chains with explicit output\n",
    "chain1 = LLMChain(llm       = llm, \n",
    "                  prompt    = prompt1, \n",
    "                  output_key=\"city\")               # Sets \"city\" as output for chain1\n",
    "\n",
    "chain2 = LLMChain(llm       = llm, \n",
    "                  prompt    = prompt2, \n",
    "                  output_key= \"city_description\")  # Sets \"city_description\" as output for chain2"
   ]
  },
  {
   "cell_type": "code",
   "execution_count": 49,
   "id": "51035d70-b930-42ee-8d82-bfafaae398f2",
   "metadata": {},
   "outputs": [],
   "source": [
    "# Set up the SequentialChain\n",
    "sequential_chain = SequentialChain(\n",
    "    chains           = [chain1, chain2],\n",
    "    input_variables  = [\"country\"],          # Input to the first chain\n",
    "    output_variables = [\"city_description\"]  # Output from the last chain\n",
    ")"
   ]
  },
  {
   "cell_type": "code",
   "execution_count": 50,
   "id": "cf8c79e1-f797-4827-b198-d3b23e4848f8",
   "metadata": {},
   "outputs": [
    {
     "name": "stdout",
     "output_type": "stream",
     "text": [
      "Tokyo, the bustling capital of Japan, is a vibrant city with a plethora of attractions to offer visitors. Some of the main attractions in Tokyo include:\n",
      "\n",
      "1. Tokyo Tower: A symbol of the city, this iconic red and white tower offers panoramic views of Tokyo from its observation decks.\n",
      "\n",
      "2. Meiji Shrine: A peaceful oasis in the heart of the city, this Shinto shrine is dedicated to Emperor Meiji and Empress Shoken.\n",
      "\n",
      "3. Tsukiji Fish Market: One of the largest fish markets in the world, Tsukiji is a must-visit for seafood lovers looking to sample fresh sushi and seafood.\n",
      "\n",
      "4. Shibuya Crossing: Known as the busiest pedestrian crossing in the world, Shibuya Crossing is a must-see for visitors looking to experience the chaos and energy of Tokyo.\n",
      "\n",
      "5. Harajuku: A vibrant district known for its quirky fashion, Harajuku is a popular shopping destination with trendy boutiques, cafes, and street food stalls.\n",
      "\n",
      "6. Shinjuku Gyoen National Garden: A tranquil escape from the hustle and bustle of the city, this expansive garden features traditional Japanese landscapes, French-style gardens, and a greenhouse.\n",
      "\n",
      "7. Akihabara: Known as the electric town, Akihabara is a mecca for tech enthusiasts and anime fans, with countless electronics stores, manga shops, and arcades.\n",
      "\n",
      "8. Tokyo Disneyland and DisneySea: Located just outside the city, these two Disney theme parks offer a magical escape for visitors of all ages.\n",
      "\n",
      "9. Asakusa: Home to Senso-ji Temple, Tokyo's oldest temple, Asakusa is a historic district with traditional shops, restaurants, and a bustling street market.\n",
      "\n",
      "10. Roppongi Hills: A modern entertainment complex with shopping, dining, art galleries, and a panoramic observation deck offering views of the city skyline.\n"
     ]
    }
   ],
   "source": [
    "# Run the SequentialChain\n",
    "result = sequential_chain.invoke({\"country\": \"Japan\"})\n",
    "print(result[\"city_description\"])  # Should describe attractions in the capital city"
   ]
  },
  {
   "cell_type": "markdown",
   "id": "7feec4a1-fa1f-40b7-8e78-e0c52276b4b8",
   "metadata": {},
   "source": [
    "**Exercise on Sequential chain with multiple input variables**\n",
    "\n",
    "Design a Sequential Chain to analyze medical data from a patient's record. The chain should:\n",
    "\n",
    "- Take multiple inputs: age, blood_pressure, cholesterol_level, and smoking_status.\n",
    "\n",
    "    - Step 1: Assess the patient's `risk level` for heart disease based on the inputs (e.g., Low, Moderate, High).\n",
    "    - Step 2: Suggest `lifestyle changes` based on the risk level and smoking status.\n",
    "    - Step 3: Provide a `follow-up recommendation` based on the risk level and age."
   ]
  },
  {
   "cell_type": "code",
   "execution_count": 51,
   "id": "cd3fb79d-315e-41ee-adc7-3137ed35d7e5",
   "metadata": {},
   "outputs": [],
   "source": [
    "# Step 1: Assess heart disease risk level\n",
    "prompt_risk_assessment = PromptTemplate(\n",
    "    input_variables = [\"age\", \"blood_pressure\", \"cholesterol_level\", \"smoking_status\"],\n",
    "    template        = (\n",
    "        \"Based on the following information:\\n\"\n",
    "        \"- Age: {age}\\n\"\n",
    "        \"- Blood Pressure: {blood_pressure}\\n\"\n",
    "        \"- Cholesterol Level: {cholesterol_level}\\n\"\n",
    "        \"- Smoking Status: {smoking_status}\\n\"\n",
    "        \"Assess the risk level for heart disease as Low, Moderate, or High.\"\n",
    "    )\n",
    ")"
   ]
  },
  {
   "cell_type": "code",
   "execution_count": 52,
   "id": "61a993b3-86f1-4b0c-879b-d5c67600a7e2",
   "metadata": {},
   "outputs": [],
   "source": [
    "# Step 2: Suggest lifestyle changes\n",
    "prompt_lifestyle_changes = PromptTemplate(\n",
    "    input_variables = [\"risk_level\", \"smoking_status\"],\n",
    "    template        = (\n",
    "        \"Given that the heart disease risk level is {risk_level} and the patient is a \"\n",
    "        \"{smoking_status} smoker, suggest lifestyle changes to improve health.\"\n",
    "    )\n",
    ")"
   ]
  },
  {
   "cell_type": "code",
   "execution_count": 53,
   "id": "43c69c0d-05d6-4a4e-b7a8-157af4d482c1",
   "metadata": {},
   "outputs": [],
   "source": [
    "# Step 3: Provide follow-up recommendation\n",
    "prompt_follow_up = PromptTemplate(\n",
    "    input_variables = [\"risk_level\", \"age\"],\n",
    "    template = (\n",
    "        \"For a patient with a heart disease risk level of {risk_level} and age {age}, \"\n",
    "        \"provide a follow-up recommendation (e.g., frequency of doctor visits or specific tests).\"\n",
    "    )\n",
    ")"
   ]
  },
  {
   "cell_type": "code",
   "execution_count": 56,
   "id": "838c5d8e-0f80-49d0-a762-5ee4a43bba41",
   "metadata": {},
   "outputs": [],
   "source": [
    "# Create individual chains with explicit output\n",
    "chain1 = LLMChain(llm       = llm, \n",
    "                  prompt    = prompt_risk_assessment, \n",
    "                  output_key=\"risk_level\")              \n",
    "\n",
    "chain2 = LLMChain(llm       = llm, \n",
    "                  prompt    = prompt_lifestyle_changes, \n",
    "                  output_key= \"lifestyle_changes\")  \n",
    "\n",
    "chain3 = LLMChain(llm       = llm, \n",
    "                  prompt    = prompt_lifestyle_changes, \n",
    "                  output_key= \"recommendation\")  "
   ]
  },
  {
   "cell_type": "code",
   "execution_count": 57,
   "id": "87168d0e-a7bf-472e-8810-bce1648bd1ed",
   "metadata": {},
   "outputs": [],
   "source": [
    "# Set up the SequentialChain\n",
    "sequential_chain = SequentialChain(\n",
    "    chains           = [chain1, chain2, chain3],\n",
    "    input_variables  = [\"age\", \"blood_pressure\", \"cholesterol_level\", \"smoking_status\"],         \n",
    "    output_variables = [\"recommendation\"]         # Output from the last chain\n",
    ")"
   ]
  },
  {
   "cell_type": "code",
   "execution_count": 59,
   "id": "be356354-04dd-4047-9454-8ce1db7f519f",
   "metadata": {},
   "outputs": [],
   "source": [
    "# input data\n",
    "patient_data = {\n",
    "    \"age\": 43,\n",
    "    \"blood_pressure\": \"130/100\",\n",
    "    \"cholesterol_level\": \"200 mg/dL\",\n",
    "    \"smoking_status\": 'current'\n",
    "}\n"
   ]
  },
  {
   "cell_type": "code",
   "execution_count": 61,
   "id": "5e505cce-bd0c-4ced-b94b-15e840c30d61",
   "metadata": {},
   "outputs": [
    {
     "name": "stdout",
     "output_type": "stream",
     "text": [
      "1. Quit smoking: Quitting smoking is one of the most important steps you can take to improve your heart health. Smoking damages your blood vessels, increases your blood pressure, and raises your risk of heart disease. Talk to your healthcare provider about resources and support to help you quit smoking.\n",
      "\n",
      "2. Eat a heart-healthy diet: Focus on eating a diet rich in fruits, vegetables, whole grains, lean proteins, and healthy fats. Limit your intake of saturated and trans fats, cholesterol, and sodium. Eating a balanced diet can help lower your cholesterol levels and blood pressure.\n",
      "\n",
      "3. Exercise regularly: Aim for at least 150 minutes of moderate-intensity exercise per week, such as brisk walking, cycling, or swimming. Regular physical activity can help lower your blood pressure, improve your cholesterol levels, and maintain a healthy weight.\n",
      "\n",
      "4. Manage stress: Chronic stress can contribute to high blood pressure and heart disease. Practice stress-reducing activities such as meditation, deep breathing exercises, yoga, or spending time in nature.\n",
      "\n",
      "5. Get regular check-ups: Make sure to see your healthcare provider regularly for check-ups and screenings to monitor your blood pressure, cholesterol levels, and overall heart health. They can provide guidance on managing your risk factors and making necessary lifestyle changes.\n"
     ]
    }
   ],
   "source": [
    "# Run the SequentialChain\n",
    "result = sequential_chain.invoke(patient_data)\n",
    "print(result[\"recommendation\"])"
   ]
  },
  {
   "cell_type": "markdown",
   "id": "b2d3b399-4925-4a63-9c38-6bcd7a83b5f4",
   "metadata": {},
   "source": [
    "#### Router chain"
   ]
  },
  {
   "cell_type": "code",
   "execution_count": 62,
   "id": "b4c58fca-ae09-4022-8a78-48564b4aae4d",
   "metadata": {},
   "outputs": [],
   "source": [
    "physics_template = \"\"\"\n",
    "You are a very smart physics professor. You are great at answering questions about physics in a concise\n",
    "and easy to understand manner. When you don't know the answer to a question you admit that you don't know.\n",
    "\n",
    "Here is a question:\n",
    "{input}\n",
    "\"\"\"\n",
    "\n",
    "math_template = \"\"\"\n",
    "You are a very good mathematician. You are great at answering math questions. \n",
    "You are so good because you are able to break down hard problems into their component parts, \n",
    "answer the component parts, and then put them together to answer the broader question.\n",
    "\n",
    "Here is a question:\n",
    "{input}\n",
    "\"\"\"\n",
    "\n",
    "history_template = \"\"\"\n",
    "You are a very good historian. You have an excellent knowledge of and understanding of people,\n",
    "events and contexts from a range of historical periods. \n",
    "You have the ability to think, reflect, debate, discuss and evaluate the past. \n",
    "You have a respect for historical evidence and the ability to make use of it to support your explanations \n",
    "and judgements.\n",
    "\n",
    "Here is a question:\n",
    "{input}\n",
    "\"\"\"\n",
    "\n",
    "computerscience_template = \"\"\"\n",
    "You are a successful computer scientist. You have a passion for creativity, collaboration,\n",
    "forward-thinking, confidence, strong problem-solving capabilities,\n",
    "understanding of theories and algorithms, and excellent communication skills.\n",
    "You are great at answering coding questions. \n",
    "You are so good because you know how to solve a problem by \n",
    "describing the solution in imperative steps \n",
    "that a machine can easily interpret and you know how to \n",
    "choose a solution that has a good balance between \n",
    "time complexity and space complexity. \n",
    "\n",
    "Here is a question:\n",
    "{input}\n",
    "\"\"\""
   ]
  },
  {
   "cell_type": "code",
   "execution_count": 63,
   "id": "837c187c-d36c-4233-b1a9-d55ab3e139e5",
   "metadata": {},
   "outputs": [],
   "source": [
    "prompt_infos = [\n",
    "    {\n",
    "        \"name\": \"physics\", \n",
    "        \"description\": \"Good for answering questions about physics\", \n",
    "        \"prompt_template\": physics_template\n",
    "    },\n",
    "    {\n",
    "        \"name\": \"math\", \n",
    "        \"description\": \"Good for answering math questions\", \n",
    "        \"prompt_template\": math_template\n",
    "    },\n",
    "    {\n",
    "        \"name\": \"History\", \n",
    "        \"description\": \"Good for answering history questions\", \n",
    "        \"prompt_template\": history_template\n",
    "    },\n",
    "    {\n",
    "        \"name\": \"computer science\", \n",
    "        \"description\": \"Good for answering computer science questions\", \n",
    "        \"prompt_template\": computerscience_template\n",
    "    }\n",
    "]"
   ]
  },
  {
   "cell_type": "code",
   "execution_count": 64,
   "id": "4780a491-4dcc-45a8-9527-a41bdf740a69",
   "metadata": {},
   "outputs": [],
   "source": [
    "from langchain.chains.router import MultiPromptChain\n",
    "from langchain.chains.router.llm_router import LLMRouterChain, RouterOutputParser\n",
    "from langchain.prompts import PromptTemplate"
   ]
  },
  {
   "cell_type": "code",
   "execution_count": 65,
   "id": "e02519a4-323c-424a-ace7-199e113f3b69",
   "metadata": {},
   "outputs": [],
   "source": [
    "llm = ChatOpenAI(temperature=0, model=llm_model)"
   ]
  },
  {
   "cell_type": "code",
   "execution_count": 66,
   "id": "ade019e4-0a8d-4617-9284-36ca497804f0",
   "metadata": {},
   "outputs": [],
   "source": [
    "destination_chains = {}\n",
    "\n",
    "for p_info in prompt_infos:\n",
    "    name            = p_info[\"name\"]\n",
    "    prompt_template = p_info[\"prompt_template\"]\n",
    "    \n",
    "    prompt = ChatPromptTemplate.from_template(template=prompt_template)\n",
    "    \n",
    "    chain  = LLMChain(llm=llm, prompt=prompt)\n",
    "    destination_chains[name] = chain  \n",
    "    \n",
    "destinations     = [f\"{p['name']}: {p['description']}\" for p in prompt_infos]\n",
    "destinations_str = \"\\n\".join(destinations)"
   ]
  },
  {
   "cell_type": "code",
   "execution_count": 67,
   "id": "8d34e63f-c3e1-415a-82ab-cfc06201b1a3",
   "metadata": {},
   "outputs": [
    {
     "name": "stdout",
     "output_type": "stream",
     "text": [
      "physics: Good for answering questions about physics\n",
      "math: Good for answering math questions\n",
      "History: Good for answering history questions\n",
      "computer science: Good for answering computer science questions\n"
     ]
    }
   ],
   "source": [
    "print(destinations_str)"
   ]
  },
  {
   "cell_type": "code",
   "execution_count": 68,
   "id": "1fa0a07a-d1d4-4b5c-af4b-9462d212a78b",
   "metadata": {},
   "outputs": [],
   "source": [
    "# when LLM cant decide which chain to use\n",
    "default_prompt = ChatPromptTemplate.from_template(\"{input}\")\n",
    "\n",
    "default_chain  = LLMChain(llm=llm, prompt=default_prompt)"
   ]
  },
  {
   "cell_type": "code",
   "execution_count": 69,
   "id": "72b0a07a-fe9d-4f1c-b6a0-8d30fefd4901",
   "metadata": {},
   "outputs": [],
   "source": [
    "MULTI_PROMPT_ROUTER_TEMPLATE = \"\"\"Given a raw text input to a \n",
    "language model select the model prompt best suited for the input. \n",
    "\n",
    "You will be given the names of the available prompts and a \n",
    "description of what the prompt is best suited for. \n",
    "\n",
    "You may also revise the original input if you think that revising\n",
    "it will ultimately lead to a better response from the language model.\n",
    "\n",
    "<< FORMATTING >>\n",
    "Return a markdown code snippet with a JSON object formatted to look like:\n",
    "```json\n",
    "{{{{\n",
    "    \"destination\": string  name of the prompt to use or \"DEFAULT\"\n",
    "    \"next_inputs\": string  a potentially modified version of the original input\n",
    "}}}}\n",
    "```\n",
    "\n",
    "REMEMBER: \"destination\" MUST be one of the candidate prompt \\\n",
    "names specified below OR it can be \"DEFAULT\" if the input is not\\\n",
    "well suited for any of the candidate prompts.\n",
    "REMEMBER: \"next_inputs\" can just be the original input \\\n",
    "if you don't think any modifications are needed.\n",
    "\n",
    "<< CANDIDATE PROMPTS >>\n",
    "{destinations}\n",
    "\n",
    "<< INPUT >>\n",
    "{{input}}\n",
    "\n",
    "<< OUTPUT (remember to include the ```json)>>\"\"\""
   ]
  },
  {
   "cell_type": "code",
   "execution_count": 70,
   "id": "f3e913ba-1ac8-40a6-9dd1-f14e8d755239",
   "metadata": {},
   "outputs": [
    {
     "name": "stdout",
     "output_type": "stream",
     "text": [
      "Given a raw text input to a \n",
      "language model select the model prompt best suited for the input. \n",
      "\n",
      "You will be given the names of the available prompts and a \n",
      "description of what the prompt is best suited for. \n",
      "\n",
      "You may also revise the original input if you think that revising\n",
      "it will ultimately lead to a better response from the language model.\n",
      "\n",
      "<< FORMATTING >>\n",
      "Return a markdown code snippet with a JSON object formatted to look like:\n",
      "```json\n",
      "{{\n",
      "    \"destination\": string  name of the prompt to use or \"DEFAULT\"\n",
      "    \"next_inputs\": string  a potentially modified version of the original input\n",
      "}}\n",
      "```\n",
      "\n",
      "REMEMBER: \"destination\" MUST be one of the candidate prompt names specified below OR it can be \"DEFAULT\" if the input is notwell suited for any of the candidate prompts.\n",
      "REMEMBER: \"next_inputs\" can just be the original input if you don't think any modifications are needed.\n",
      "\n",
      "<< CANDIDATE PROMPTS >>\n",
      "physics: Good for answering questions about physics\n",
      "math: Good for answering math questions\n",
      "History: Good for answering history questions\n",
      "computer science: Good for answering computer science questions\n",
      "\n",
      "<< INPUT >>\n",
      "{input}\n",
      "\n",
      "<< OUTPUT (remember to include the ```json)>>\n"
     ]
    }
   ],
   "source": [
    "router_template = MULTI_PROMPT_ROUTER_TEMPLATE.format(\n",
    "    destinations=destinations_str\n",
    ")\n",
    "\n",
    "print(router_template)"
   ]
  },
  {
   "cell_type": "code",
   "execution_count": 71,
   "id": "e1f4f0ea-c2fd-42e2-8e6c-bb92cd03d778",
   "metadata": {},
   "outputs": [],
   "source": [
    "router_prompt = PromptTemplate(\n",
    "    template       = router_template,\n",
    "    input_variables= [\"input\"],\n",
    "    output_parser  = RouterOutputParser(),\n",
    ")\n",
    "\n",
    "router_chain = LLMRouterChain.from_llm(llm, router_prompt)"
   ]
  },
  {
   "cell_type": "code",
   "execution_count": 72,
   "id": "764f32aa-1cd4-4071-a1c4-fb7b2a4c878e",
   "metadata": {},
   "outputs": [
    {
     "name": "stderr",
     "output_type": "stream",
     "text": [
      "C:\\Users\\bhupe\\AppData\\Local\\Temp\\ipykernel_14080\\1422575192.py:1: LangChainDeprecationWarning: Use RunnableLambda to select from multiple prompt templates. See example in API reference: https://api.python.langchain.com/en/latest/chains/langchain.chains.router.multi_prompt.MultiPromptChain.html\n",
      "  chain = MultiPromptChain(router_chain      =router_chain,\n"
     ]
    }
   ],
   "source": [
    "chain = MultiPromptChain(router_chain      =router_chain, \n",
    "                         destination_chains=destination_chains, \n",
    "                         default_chain     =default_chain, \n",
    "                         verbose           =True\n",
    "                        )"
   ]
  },
  {
   "cell_type": "code",
   "execution_count": 73,
   "id": "58fe3326-4d54-4283-bf27-bb954a443412",
   "metadata": {},
   "outputs": [
    {
     "name": "stderr",
     "output_type": "stream",
     "text": [
      "C:\\Users\\bhupe\\AppData\\Local\\Temp\\ipykernel_14080\\1733274077.py:1: LangChainDeprecationWarning: The method `Chain.run` was deprecated in langchain 0.1.0 and will be removed in 1.0. Use :meth:`~invoke` instead.\n",
      "  chain.run(\"What is black body radiation?\")\n"
     ]
    },
    {
     "name": "stdout",
     "output_type": "stream",
     "text": [
      "\n",
      "\n",
      "\u001b[1m> Entering new MultiPromptChain chain...\u001b[0m\n",
      "physics: {'input': 'What is black body radiation?'}\n",
      "\u001b[1m> Finished chain.\u001b[0m\n"
     ]
    },
    {
     "data": {
      "text/plain": [
       "\"Black body radiation refers to the electromagnetic radiation emitted by a perfect black body, which is an idealized physical body that absorbs all incident electromagnetic radiation. The radiation emitted by a black body depends only on its temperature and follows a specific distribution known as Planck's law. This radiation is characterized by a continuous spectrum of wavelengths and intensities, with the peak intensity shifting to shorter wavelengths as the temperature of the black body increases. Black body radiation plays a crucial role in understanding various phenomena in physics, such as thermal radiation and the behavior of stars.\""
      ]
     },
     "execution_count": 73,
     "metadata": {},
     "output_type": "execute_result"
    }
   ],
   "source": [
    "chain.run(\"What is black body radiation?\")"
   ]
  },
  {
   "cell_type": "code",
   "execution_count": 74,
   "id": "c2e33530-2e2f-4b26-ae33-b452d3141888",
   "metadata": {},
   "outputs": [
    {
     "name": "stdout",
     "output_type": "stream",
     "text": [
      "\n",
      "\n",
      "\u001b[1m> Entering new MultiPromptChain chain...\u001b[0m\n",
      "math: {'input': 'what is 2 + 2'}\n",
      "\u001b[1m> Finished chain.\u001b[0m\n"
     ]
    },
    {
     "data": {
      "text/plain": [
       "'The answer to 2 + 2 is 4.'"
      ]
     },
     "execution_count": 74,
     "metadata": {},
     "output_type": "execute_result"
    }
   ],
   "source": [
    "chain.run(\"what is 2 + 2\")"
   ]
  },
  {
   "cell_type": "code",
   "execution_count": 75,
   "id": "22b1d1f3-ab53-4520-a613-4638bc21f08e",
   "metadata": {},
   "outputs": [
    {
     "name": "stdout",
     "output_type": "stream",
     "text": [
      "\n",
      "\n",
      "\u001b[1m> Entering new MultiPromptChain chain...\u001b[0m\n",
      "None: {'input': 'What is the capital of Karnataka state in India?'}\n",
      "\u001b[1m> Finished chain.\u001b[0m\n"
     ]
    },
    {
     "data": {
      "text/plain": [
       "'The capital of Karnataka state in India is Bangalore.'"
      ]
     },
     "execution_count": 75,
     "metadata": {},
     "output_type": "execute_result"
    }
   ],
   "source": [
    "chain.run(\"What is the capital of Karnataka state in India?\")"
   ]
  },
  {
   "cell_type": "markdown",
   "id": "6656671b-31c0-4c9d-afdd-0e76c1dd9e3f",
   "metadata": {},
   "source": [
    "**Exercise problem on router chain**\n",
    "\n",
    "- Create prompt templates for each of the three specialized chains.\n",
    "- Use the Router Chain to select the appropriate specialized chain based on the `symptom description`.\n",
    "- Simulate a case where the user provides a symptom, and the system correctly identifies and processes it through the appropriate specialized chain."
   ]
  },
  {
   "cell_type": "code",
   "execution_count": 76,
   "id": "09d7dcc8-6d02-4bab-92fd-3a486567e14c",
   "metadata": {},
   "outputs": [],
   "source": [
    "# Specialized Chain Prompts\n",
    "cardiology_prompt = PromptTemplate(\n",
    "    input_variables= [\"symptom\"],\n",
    "    template       = (\n",
    "        \"A patient presents with the following symptom: {symptom}. \"\n",
    "        \"As a cardiologist, provide a preliminary diagnosis and next steps.\"\n",
    "    )\n",
    ")\n",
    "\n",
    "neurology_prompt = PromptTemplate(\n",
    "    input_variables= [\"symptom\"],\n",
    "    template       = (\n",
    "        \"A patient presents with the following symptom: {symptom}. \"\n",
    "        \"As a neurologist, provide a preliminary diagnosis and next steps.\"\n",
    "    )\n",
    ")\n",
    "\n",
    "general_medicine_prompt = PromptTemplate(\n",
    "    input_variables = [\"symptom\"],\n",
    "    template        = (\n",
    "        \"A patient presents with the following symptom: {symptom}. \"\n",
    "        \"As a general physician, provide a preliminary diagnosis and next steps.\"\n",
    "    )\n",
    ")\n"
   ]
  },
  {
   "cell_type": "code",
   "execution_count": 77,
   "id": "7ece4d7f-c561-49db-bb45-8e4ef2e575a6",
   "metadata": {},
   "outputs": [],
   "source": [
    "# Mapping of conditions to specialized chains\n",
    "condition_to_prompt = {\n",
    "    \"Cardiology\": cardiology_prompt,\n",
    "    \"Neurology\": neurology_prompt,\n",
    "    \"General Medicine\": general_medicine_prompt,\n",
    "}"
   ]
  },
  {
   "cell_type": "code",
   "execution_count": 78,
   "id": "a09208c5-408c-46a9-a978-f4187238782e",
   "metadata": {},
   "outputs": [
    {
     "ename": "TypeError",
     "evalue": "tuple indices must be integers or slices, not str",
     "output_type": "error",
     "traceback": [
      "\u001b[1;31m---------------------------------------------------------------------------\u001b[0m",
      "\u001b[1;31mTypeError\u001b[0m                                 Traceback (most recent call last)",
      "Cell \u001b[1;32mIn[78], line 2\u001b[0m\n\u001b[0;32m      1\u001b[0m \u001b[38;5;66;03m# Initialize Router Chain\u001b[39;00m\n\u001b[1;32m----> 2\u001b[0m router_chain \u001b[38;5;241m=\u001b[39m \u001b[43mMultiPromptChain\u001b[49m\u001b[38;5;241;43m.\u001b[39;49m\u001b[43mfrom_prompts\u001b[49m\u001b[43m(\u001b[49m\u001b[43mcondition_to_prompt\u001b[49m\u001b[43m,\u001b[49m\u001b[43m \u001b[49m\u001b[43mllm\u001b[49m\u001b[43m)\u001b[49m\n",
      "File \u001b[1;32mD:\\ANACONDA3\\envs\\langchain_env\\Lib\\site-packages\\langchain\\chains\\router\\multi_prompt.py:109\u001b[0m, in \u001b[0;36mMultiPromptChain.from_prompts\u001b[1;34m(cls, llm, prompt_infos, default_chain, **kwargs)\u001b[0m\n\u001b[0;32m    100\u001b[0m \u001b[38;5;129m@classmethod\u001b[39m\n\u001b[0;32m    101\u001b[0m \u001b[38;5;28;01mdef\u001b[39;00m \u001b[38;5;21mfrom_prompts\u001b[39m(\n\u001b[0;32m    102\u001b[0m     \u001b[38;5;28mcls\u001b[39m,\n\u001b[1;32m   (...)\u001b[0m\n\u001b[0;32m    106\u001b[0m     \u001b[38;5;241m*\u001b[39m\u001b[38;5;241m*\u001b[39mkwargs: Any,\n\u001b[0;32m    107\u001b[0m ) \u001b[38;5;241m-\u001b[39m\u001b[38;5;241m>\u001b[39m MultiPromptChain:\n\u001b[0;32m    108\u001b[0m \u001b[38;5;250m    \u001b[39m\u001b[38;5;124;03m\"\"\"Convenience constructor for instantiating from destination prompts.\"\"\"\u001b[39;00m\n\u001b[1;32m--> 109\u001b[0m     destinations \u001b[38;5;241m=\u001b[39m [\u001b[38;5;124mf\u001b[39m\u001b[38;5;124m\"\u001b[39m\u001b[38;5;132;01m{\u001b[39;00m\u001b[43mp\u001b[49m\u001b[43m[\u001b[49m\u001b[38;5;124;43m'\u001b[39;49m\u001b[38;5;124;43mname\u001b[39;49m\u001b[38;5;124;43m'\u001b[39;49m\u001b[43m]\u001b[49m\u001b[38;5;132;01m}\u001b[39;00m\u001b[38;5;124m: \u001b[39m\u001b[38;5;132;01m{\u001b[39;00mp[\u001b[38;5;124m'\u001b[39m\u001b[38;5;124mdescription\u001b[39m\u001b[38;5;124m'\u001b[39m]\u001b[38;5;132;01m}\u001b[39;00m\u001b[38;5;124m\"\u001b[39m \u001b[38;5;28;01mfor\u001b[39;00m p \u001b[38;5;129;01min\u001b[39;00m prompt_infos]\n\u001b[0;32m    110\u001b[0m     destinations_str \u001b[38;5;241m=\u001b[39m \u001b[38;5;124m\"\u001b[39m\u001b[38;5;130;01m\\n\u001b[39;00m\u001b[38;5;124m\"\u001b[39m\u001b[38;5;241m.\u001b[39mjoin(destinations)\n\u001b[0;32m    111\u001b[0m     router_template \u001b[38;5;241m=\u001b[39m MULTI_PROMPT_ROUTER_TEMPLATE\u001b[38;5;241m.\u001b[39mformat(\n\u001b[0;32m    112\u001b[0m         destinations\u001b[38;5;241m=\u001b[39mdestinations_str\n\u001b[0;32m    113\u001b[0m     )\n",
      "\u001b[1;31mTypeError\u001b[0m: tuple indices must be integers or slices, not str"
     ]
    }
   ],
   "source": [
    "# Initialize Router Chain\n",
    "router_chain = MultiPromptChain.from_prompts(condition_to_prompt, llm)"
   ]
  },
  {
   "cell_type": "markdown",
   "id": "21e0ae56-4a97-4c19-9c41-f5c1fe1b4150",
   "metadata": {},
   "source": [
    "#### ConversationBufferMemory\n",
    "with simple LLMChain"
   ]
  },
  {
   "cell_type": "code",
   "execution_count": 79,
   "id": "4e409ece-b914-46d3-be68-8cc2cd9d981c",
   "metadata": {},
   "outputs": [],
   "source": [
    "from langchain.chains import LLMChain\n",
    "from langchain.memory import ConversationBufferMemory"
   ]
  },
  {
   "cell_type": "code",
   "execution_count": 80,
   "id": "3e3fd197-a479-4e26-b652-6cf974ed911f",
   "metadata": {},
   "outputs": [],
   "source": [
    "llm = ChatOpenAI()"
   ]
  },
  {
   "cell_type": "code",
   "execution_count": 81,
   "id": "1d64b3d1-6255-4f55-abb0-d0d96641df2f",
   "metadata": {},
   "outputs": [
    {
     "name": "stderr",
     "output_type": "stream",
     "text": [
      "C:\\Users\\bhupe\\AppData\\Local\\Temp\\ipykernel_14080\\995385594.py:1: LangChainDeprecationWarning: Please see the migration guide at: https://python.langchain.com/docs/versions/migrating_memory/\n",
      "  memory = ConversationBufferMemory()\n"
     ]
    }
   ],
   "source": [
    "memory = ConversationBufferMemory()"
   ]
  },
  {
   "cell_type": "code",
   "execution_count": 82,
   "id": "f66aab67-e3d1-4530-a0bf-c67bd62fd6c5",
   "metadata": {},
   "outputs": [],
   "source": [
    "# Get user input\n",
    "user_input = \"Where is Bangalore?\""
   ]
  },
  {
   "cell_type": "code",
   "execution_count": 83,
   "id": "6b9208d0-1b89-4c73-8109-992a57c66e4c",
   "metadata": {},
   "outputs": [],
   "source": [
    "# Load previous memory (initially empty)\n",
    "previous_memory = memory.load_memory_variables({})  # No input needed for initial load"
   ]
  },
  {
   "cell_type": "code",
   "execution_count": 84,
   "id": "9b5c946b-d6b5-48c8-a800-84dedbc07314",
   "metadata": {},
   "outputs": [
    {
     "data": {
      "text/plain": [
       "{'history': ''}"
      ]
     },
     "execution_count": 84,
     "metadata": {},
     "output_type": "execute_result"
    }
   ],
   "source": [
    "previous_memory"
   ]
  },
  {
   "cell_type": "code",
   "execution_count": 85,
   "id": "5d80b8c4-d196-4de6-be8f-adebca380e42",
   "metadata": {},
   "outputs": [
    {
     "data": {
      "text/plain": [
       "''"
      ]
     },
     "execution_count": 85,
     "metadata": {},
     "output_type": "execute_result"
    }
   ],
   "source": [
    "previous_memory.get('history', \"\")"
   ]
  },
  {
   "cell_type": "code",
   "execution_count": 87,
   "id": "75867581-90de-4fca-ac64-6dca02ffa08e",
   "metadata": {},
   "outputs": [
    {
     "data": {
      "text/plain": [
       "''"
      ]
     },
     "execution_count": 87,
     "metadata": {},
     "output_type": "execute_result"
    }
   ],
   "source": [
    "# Construct the context from previous interactions\n",
    "context = previous_memory.get('history', \"\")\n",
    "context"
   ]
  },
  {
   "cell_type": "code",
   "execution_count": 88,
   "id": "37c4af91-8596-4a67-8b77-d61556238d6f",
   "metadata": {},
   "outputs": [],
   "source": [
    "# Create a prompt using context and user input\n",
    "prompt_template = PromptTemplate.from_template(\n",
    "    f'''You are a helpful assistant.  \n",
    "    \n",
    "    Here are the previous interactions: {context.strip()}\n",
    "    \n",
    "    User: {user_input}\n",
    "    Bot:\n",
    "    '''\n",
    ")"
   ]
  },
  {
   "cell_type": "code",
   "execution_count": 89,
   "id": "24dbbf47-1eec-4ebd-a392-3046bca006cb",
   "metadata": {},
   "outputs": [],
   "source": [
    "# Create an LLMChain\n",
    "chain = LLMChain(llm=llm, prompt=prompt_template)"
   ]
  },
  {
   "cell_type": "code",
   "execution_count": 90,
   "id": "f76be870-2fed-4776-93c5-d3ffec1c5fac",
   "metadata": {},
   "outputs": [],
   "source": [
    "# Get response from the chain\n",
    "combined_input = {\"context\": context.strip(), \"input\": user_input}\n",
    "response = chain.invoke(combined_input)"
   ]
  },
  {
   "cell_type": "code",
   "execution_count": 91,
   "id": "0758d048-c679-4809-8537-b2e755148d9f",
   "metadata": {},
   "outputs": [
    {
     "data": {
      "text/plain": [
       "{'context': '',\n",
       " 'input': 'Where is Bangalore?',\n",
       " 'text': 'Bangalore is located in the southern part of India, in the state of Karnataka. It is known for being a major technology hub and is often referred to as the \"Silicon Valley of India.\"'}"
      ]
     },
     "execution_count": 91,
     "metadata": {},
     "output_type": "execute_result"
    }
   ],
   "source": [
    "response"
   ]
  },
  {
   "cell_type": "code",
   "execution_count": 92,
   "id": "d12742f2-fe76-41bf-8796-c71673cf92ee",
   "metadata": {},
   "outputs": [],
   "source": [
    "# Save user input and bot response to memory\n",
    "# Ensure we pass the correct values to save_context\n",
    "memory.save_context({\"input\": user_input}, {\"output\": str(response)})"
   ]
  },
  {
   "cell_type": "code",
   "execution_count": 93,
   "id": "75efef10-ddf1-47d7-9bcf-c80f09198750",
   "metadata": {},
   "outputs": [
    {
     "name": "stdout",
     "output_type": "stream",
     "text": [
      "{\n",
      "    \"lc\": 1,\n",
      "    \"type\": \"not_implemented\",\n",
      "    \"id\": [\n",
      "        \"langchain\",\n",
      "        \"memory\",\n",
      "        \"buffer\",\n",
      "        \"ConversationBufferMemory\"\n",
      "    ],\n",
      "    \"repr\": \"ConversationBufferMemory(chat_memory=InMemoryChatMessageHistory(messages=[HumanMessage(content='Where is Bangalore?', additional_kwargs={}, response_metadata={}), AIMessage(content='{\\\\'context\\\\': \\\\'\\\\', \\\\'input\\\\': \\\\'Where is Bangalore?\\\\', \\\\'text\\\\': \\\\'Bangalore is located in the southern part of India, in the state of Karnataka. It is known for being a major technology hub and is often referred to as the \\\"Silicon Valley of India.\\\"\\\\'}', additional_kwargs={}, response_metadata={})]))\"\n",
      "}\n"
     ]
    }
   ],
   "source": [
    "import json\n",
    "\n",
    "# Directly pretty-print the dictionary with indentation\n",
    "print(json.dumps(memory.to_json(), indent=4))"
   ]
  },
  {
   "cell_type": "code",
   "execution_count": 94,
   "id": "147a6de5-e676-4376-a733-41b2eb92b6ca",
   "metadata": {},
   "outputs": [],
   "source": [
    "# Load previous memory (initially empty)\n",
    "context = dict(memory.load_memory_variables({}))  # No input needed for initial load"
   ]
  },
  {
   "cell_type": "code",
   "execution_count": 95,
   "id": "e1959e06-5437-44ad-83ad-62608306b011",
   "metadata": {},
   "outputs": [
    {
     "data": {
      "text/plain": [
       "{'history': 'Human: Where is Bangalore?\\nAI: {\\'context\\': \\'\\', \\'input\\': \\'Where is Bangalore?\\', \\'text\\': \\'Bangalore is located in the southern part of India, in the state of Karnataka. It is known for being a major technology hub and is often referred to as the \"Silicon Valley of India.\"\\'}'}"
      ]
     },
     "execution_count": 95,
     "metadata": {},
     "output_type": "execute_result"
    }
   ],
   "source": [
    "context"
   ]
  },
  {
   "cell_type": "code",
   "execution_count": 96,
   "id": "7f297740-f79c-44c9-90dc-cef43f4a9819",
   "metadata": {},
   "outputs": [],
   "source": [
    "# Initialize the LLM and prompt template\n",
    "llm = ChatOpenAI()"
   ]
  },
  {
   "cell_type": "code",
   "execution_count": 97,
   "id": "39eddf98-d4ba-4af4-ac85-ae7e351a1257",
   "metadata": {},
   "outputs": [],
   "source": [
    "prompt_template = PromptTemplate(input_variables= [\"context\", \"input\"], \n",
    "                                 template       = \"{context}\\nUser: {input}\\nAI:\")"
   ]
  },
  {
   "cell_type": "code",
   "execution_count": 98,
   "id": "81316d59-9677-4d15-9395-977ae80de0c9",
   "metadata": {},
   "outputs": [],
   "source": [
    "# Initialize LLMChain with the LLM and template\n",
    "chain = LLMChain(llm   = llm, \n",
    "                 prompt= prompt_template)"
   ]
  },
  {
   "cell_type": "code",
   "execution_count": 99,
   "id": "f9434441-a5f0-4b57-b780-e865e4b6a746",
   "metadata": {},
   "outputs": [],
   "source": [
    "# Initialize an empty context\n",
    "context = \"\""
   ]
  },
  {
   "cell_type": "code",
   "execution_count": 100,
   "id": "f7c5eb2c-0509-4394-a14f-5a5572476763",
   "metadata": {},
   "outputs": [],
   "source": [
    "# Example interactions\n",
    "user_inputs = [\"What is the capital of France?\", \n",
    "               \"And its population?\", \n",
    "               \"What about Germany?\",\n",
    "               \"Compare the 2 citites in terms of job opportunities\"\n",
    "              ]"
   ]
  },
  {
   "cell_type": "code",
   "execution_count": 101,
   "id": "8a03b152-fcc2-415a-b969-4a6f3ab20c19",
   "metadata": {},
   "outputs": [],
   "source": [
    "from pprint import pprint"
   ]
  },
  {
   "cell_type": "code",
   "execution_count": 102,
   "id": "4a6fcbfc-e945-4283-8fec-bdd7aa5e9448",
   "metadata": {},
   "outputs": [
    {
     "name": "stdout",
     "output_type": "stream",
     "text": [
      "What is the capital of France?\n",
      "{'context': '',\n",
      " 'input': 'What is the capital of France?',\n",
      " 'text': 'The capital of France is Paris.'}\n",
      "-----------------\n",
      "And its population?\n",
      "{'context': '\\n'\n",
      "            'User: What is the capital of France?\\n'\n",
      "            \"AI: {'context': '', 'input': 'What is the capital of France?', \"\n",
      "            \"'text': 'The capital of France is Paris.'}\",\n",
      " 'input': 'And its population?',\n",
      " 'text': 'The population of Paris is approximately 2.2 million people.'}\n",
      "-----------------\n",
      "What about Germany?\n",
      "{'context': '\\n'\n",
      "            'User: What is the capital of France?\\n'\n",
      "            \"AI: {'context': '', 'input': 'What is the capital of France?', \"\n",
      "            \"'text': 'The capital of France is Paris.'}\\n\"\n",
      "            'User: And its population?\\n'\n",
      "            'AI: {\\'context\\': \"\\\\nUser: What is the capital of France?\\\\nAI: '\n",
      "            \"{'context': '', 'input': 'What is the capital of France?', \"\n",
      "            '\\'text\\': \\'The capital of France is Paris.\\'}\", \\'input\\': \\'And '\n",
      "            \"its population?', 'text': 'The population of Paris is \"\n",
      "            \"approximately 2.2 million people.'}\",\n",
      " 'input': 'What about Germany?',\n",
      " 'text': \"Germany's capital city is Berlin.\"}\n",
      "-----------------\n",
      "Compare the 2 citites in terms of job opportunities\n",
      "{'context': '\\n'\n",
      "            'User: What is the capital of France?\\n'\n",
      "            \"AI: {'context': '', 'input': 'What is the capital of France?', \"\n",
      "            \"'text': 'The capital of France is Paris.'}\\n\"\n",
      "            'User: And its population?\\n'\n",
      "            'AI: {\\'context\\': \"\\\\nUser: What is the capital of France?\\\\nAI: '\n",
      "            \"{'context': '', 'input': 'What is the capital of France?', \"\n",
      "            '\\'text\\': \\'The capital of France is Paris.\\'}\", \\'input\\': \\'And '\n",
      "            \"its population?', 'text': 'The population of Paris is \"\n",
      "            \"approximately 2.2 million people.'}\\n\"\n",
      "            'User: What about Germany?\\n'\n",
      "            \"AI: {'context': '\\\\nUser: What is the capital of France?\\\\nAI: \"\n",
      "            \"{\\\\'context\\\\': \\\\'\\\\', \\\\'input\\\\': \\\\'What is the capital of \"\n",
      "            \"France?\\\\', \\\\'text\\\\': \\\\'The capital of France is \"\n",
      "            \"Paris.\\\\'}\\\\nUser: And its population?\\\\nAI: {\\\\'context\\\\': \"\n",
      "            '\"\\\\\\\\nUser: What is the capital of France?\\\\\\\\nAI: '\n",
      "            \"{\\\\'context\\\\': \\\\'\\\\', \\\\'input\\\\': \\\\'What is the capital of \"\n",
      "            \"France?\\\\', \\\\'text\\\\': \\\\'The capital of France is \"\n",
      "            'Paris.\\\\\\'}\", \\\\\\'input\\\\\\': \\\\\\'And its population?\\\\\\', '\n",
      "            \"\\\\'text\\\\': \\\\'The population of Paris is approximately 2.2 \"\n",
      "            \"million people.\\\\'}', 'input': 'What about Germany?', 'text': \"\n",
      "            '\"Germany\\'s capital city is Berlin.\"}',\n",
      " 'input': 'Compare the 2 citites in terms of job opportunities',\n",
      " 'text': \"I'm sorry, I do not have that information available. Would you like \"\n",
      "         'me to provide an overview of job opportunities in Paris and Berlin '\n",
      "         'separately?'}\n",
      "-----------------\n"
     ]
    }
   ],
   "source": [
    "for user_input in user_inputs:\n",
    "    # Run the LLM chain, adding context\n",
    "    response = chain.invoke({\"context\": context, \"input\": user_input})\n",
    "    print(user_input)\n",
    "    pprint(response)\n",
    "    print(\"-----------------\")\n",
    "\n",
    "    # Update context with user input and LLM response\n",
    "    context += f\"\\nUser: {user_input}\\nAI: {response}\""
   ]
  },
  {
   "cell_type": "code",
   "execution_count": null,
   "id": "687c676a-7282-4df7-b914-029d6664961c",
   "metadata": {},
   "outputs": [],
   "source": []
  },
  {
   "cell_type": "code",
   "execution_count": null,
   "id": "d62a35e7-2f97-4572-ae6b-3bc7c471579d",
   "metadata": {},
   "outputs": [],
   "source": []
  },
  {
   "cell_type": "code",
   "execution_count": null,
   "id": "e5632b5f-cc9a-46a2-b701-4f81619ede3d",
   "metadata": {},
   "outputs": [],
   "source": []
  }
 ],
 "metadata": {
  "kernelspec": {
   "display_name": "langchain_env",
   "language": "python",
   "name": "langchain_env"
  },
  "language_info": {
   "codemirror_mode": {
    "name": "ipython",
    "version": 3
   },
   "file_extension": ".py",
   "mimetype": "text/x-python",
   "name": "python",
   "nbconvert_exporter": "python",
   "pygments_lexer": "ipython3",
   "version": "3.12.7"
  }
 },
 "nbformat": 4,
 "nbformat_minor": 5
}
