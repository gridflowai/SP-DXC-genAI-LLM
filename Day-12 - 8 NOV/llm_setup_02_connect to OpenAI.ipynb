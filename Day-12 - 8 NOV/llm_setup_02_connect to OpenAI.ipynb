{
 "cells": [
  {
   "cell_type": "markdown",
   "id": "93499ef7-ad5a-407f-a54e-3edc9fcf3198",
   "metadata": {},
   "source": [
    "#### Setup\n",
    "\n",
    "- local windows machine\n",
    "    - in the env sections\n",
    "        - add key OPENAI_API_KEY\n",
    "            - add the actual key"
   ]
  },
  {
   "cell_type": "code",
   "execution_count": 1,
   "id": "518bb7d0-ad7a-4ce2-b04c-6878379d1017",
   "metadata": {},
   "outputs": [
    {
     "name": "stdout",
     "output_type": "stream",
     "text": [
      "Requirement already satisfied: openai in d:\\anaconda3\\envs\\langchain_env\\lib\\site-packages (1.53.0)Note: you may need to restart the kernel to use updated packages.\n",
      "\n",
      "Requirement already satisfied: anyio<5,>=3.5.0 in d:\\anaconda3\\envs\\langchain_env\\lib\\site-packages (from openai) (4.6.2.post1)\n",
      "Requirement already satisfied: distro<2,>=1.7.0 in d:\\anaconda3\\envs\\langchain_env\\lib\\site-packages (from openai) (1.9.0)\n",
      "Requirement already satisfied: httpx<1,>=0.23.0 in d:\\anaconda3\\envs\\langchain_env\\lib\\site-packages (from openai) (0.27.0)\n",
      "Requirement already satisfied: jiter<1,>=0.4.0 in d:\\anaconda3\\envs\\langchain_env\\lib\\site-packages (from openai) (0.7.0)\n",
      "Requirement already satisfied: pydantic<3,>=1.9.0 in d:\\anaconda3\\envs\\langchain_env\\lib\\site-packages (from openai) (2.9.2)\n",
      "Requirement already satisfied: sniffio in d:\\anaconda3\\envs\\langchain_env\\lib\\site-packages (from openai) (1.3.1)\n",
      "Requirement already satisfied: tqdm>4 in d:\\anaconda3\\envs\\langchain_env\\lib\\site-packages (from openai) (4.66.6)\n",
      "Requirement already satisfied: typing-extensions<5,>=4.11 in d:\\anaconda3\\envs\\langchain_env\\lib\\site-packages (from openai) (4.12.2)\n",
      "Requirement already satisfied: idna>=2.8 in d:\\anaconda3\\envs\\langchain_env\\lib\\site-packages (from anyio<5,>=3.5.0->openai) (3.10)\n",
      "Requirement already satisfied: certifi in d:\\anaconda3\\envs\\langchain_env\\lib\\site-packages (from httpx<1,>=0.23.0->openai) (2024.8.30)\n",
      "Requirement already satisfied: httpcore==1.* in d:\\anaconda3\\envs\\langchain_env\\lib\\site-packages (from httpx<1,>=0.23.0->openai) (1.0.6)\n",
      "Requirement already satisfied: h11<0.15,>=0.13 in d:\\anaconda3\\envs\\langchain_env\\lib\\site-packages (from httpcore==1.*->httpx<1,>=0.23.0->openai) (0.14.0)\n",
      "Requirement already satisfied: annotated-types>=0.6.0 in d:\\anaconda3\\envs\\langchain_env\\lib\\site-packages (from pydantic<3,>=1.9.0->openai) (0.7.0)\n",
      "Requirement already satisfied: pydantic-core==2.23.4 in d:\\anaconda3\\envs\\langchain_env\\lib\\site-packages (from pydantic<3,>=1.9.0->openai) (2.23.4)\n",
      "Requirement already satisfied: colorama in d:\\anaconda3\\envs\\langchain_env\\lib\\site-packages (from tqdm>4->openai) (0.4.6)\n"
     ]
    }
   ],
   "source": [
    "pip install openai"
   ]
  },
  {
   "cell_type": "code",
   "execution_count": 2,
   "id": "857c9255-32f5-4c67-aaeb-35219f7031ec",
   "metadata": {},
   "outputs": [],
   "source": [
    "import openai"
   ]
  },
  {
   "cell_type": "code",
   "execution_count": 3,
   "id": "22e17fd1-d719-425d-b238-de37dd933525",
   "metadata": {},
   "outputs": [
    {
     "data": {
      "text/plain": [
       "'1.53.0'"
      ]
     },
     "execution_count": 3,
     "metadata": {},
     "output_type": "execute_result"
    }
   ],
   "source": [
    "openai.__version__"
   ]
  },
  {
   "cell_type": "code",
   "execution_count": 4,
   "id": "552f48f2-00e4-4810-8177-3da37f70b4dd",
   "metadata": {},
   "outputs": [],
   "source": [
    "from openai import OpenAI"
   ]
  },
  {
   "cell_type": "code",
   "execution_count": 6,
   "id": "313d307d-11e8-4788-8389-3b03c3e3f642",
   "metadata": {},
   "outputs": [],
   "source": [
    "client = OpenAI(\n",
    "\n",
    ")"
   ]
  },
  {
   "cell_type": "markdown",
   "id": "85d1b1ec-d7f0-41c8-a1a5-9f87e683c9f4",
   "metadata": {},
   "source": [
    "Example 01"
   ]
  },
  {
   "cell_type": "code",
   "execution_count": 11,
   "id": "58b799f8-f296-45e4-8926-125c0aa5e6ea",
   "metadata": {},
   "outputs": [],
   "source": [
    "reponse = client.chat.completions.create(\n",
    "                        messages = [\n",
    "                            {\"role\": \"user\", \"content\": \"Define Generative AI\" }\n",
    "                        ],\n",
    "                        model = \"gpt-4o-mini\"\n",
    "            )"
   ]
  },
  {
   "cell_type": "code",
   "execution_count": 13,
   "id": "95f1a418-8572-41f2-9304-457a2611b2e7",
   "metadata": {},
   "outputs": [
    {
     "data": {
      "text/plain": [
       "{'id': 'chatcmpl-ARIrNSauOky50h0VCrLB858gmxqAF',\n",
       " 'choices': [Choice(finish_reason='stop', index=0, logprobs=None, message=ChatCompletionMessage(content=\"Generative AI refers to a subset of artificial intelligence that can generate new content, data, or information based on training data. It utilizes algorithms, particularly those involving machine learning and neural networks, to create outputs that mimic the characteristics of the input data. The types of content that generative AI can produce include text, images, music, videos, and even complex data structures.\\n\\nSome of the most notable techniques and models used in generative AI include:\\n\\n1. **Generative Adversarial Networks (GANs)**: A framework where two neural networks (a generator and a discriminator) work against each other. The generator creates data, while the discriminator evaluates it against real data to improve the generator's output.\\n\\n2. **Variational Autoencoders (VAEs)**: These models encode input data into a lower-dimensional latent space and then decode it back into data, allowing for the generation of new instances that resemble the training data.\\n\\n3. **Transformers**: A type of model architecture that has proven highly effective for generating text, as seen in systems like OpenAI's GPT (Generative Pretrained Transformer). These models leverage attention mechanisms to generate coherent and contextually relevant sequences of text.\\n\\nGenerative AI has a wide range of applications, from creating art and designing products to automating content creation, enhancing virtual reality environments, and even aiding drug discovery in pharmaceuticals. Its capabilities raise various ethical considerations, including issues related to deepfakes, copyright, and the potential for misinformation.\", refusal=None, role='assistant', audio=None, function_call=None, tool_calls=None))],\n",
       " 'created': 1731070717,\n",
       " 'model': 'gpt-4o-mini-2024-07-18',\n",
       " 'object': 'chat.completion',\n",
       " 'service_tier': None,\n",
       " 'system_fingerprint': 'fp_0ba0d124f1',\n",
       " 'usage': CompletionUsage(completion_tokens=298, prompt_tokens=11, total_tokens=309, completion_tokens_details=CompletionTokensDetails(audio_tokens=0, reasoning_tokens=0, accepted_prediction_tokens=0, rejected_prediction_tokens=0), prompt_tokens_details=PromptTokensDetails(audio_tokens=0, cached_tokens=0))}"
      ]
     },
     "execution_count": 13,
     "metadata": {},
     "output_type": "execute_result"
    }
   ],
   "source": [
    "dict(reponse)"
   ]
  },
  {
   "cell_type": "code",
   "execution_count": null,
   "id": "456db629-72d5-445c-a121-090eb96346da",
   "metadata": {},
   "outputs": [],
   "source": []
  }
 ],
 "metadata": {
  "kernelspec": {
   "display_name": "langchain_env",
   "language": "python",
   "name": "langchain_env"
  },
  "language_info": {
   "codemirror_mode": {
    "name": "ipython",
    "version": 3
   },
   "file_extension": ".py",
   "mimetype": "text/x-python",
   "name": "python",
   "nbconvert_exporter": "python",
   "pygments_lexer": "ipython3",
   "version": "3.12.7"
  }
 },
 "nbformat": 4,
 "nbformat_minor": 5
}
