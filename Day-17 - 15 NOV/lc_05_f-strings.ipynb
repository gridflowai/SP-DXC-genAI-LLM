{
 "cells": [
  {
   "cell_type": "markdown",
   "id": "e7fd61e2-2fbb-48cc-bb47-ee677d99ade4",
   "metadata": {},
   "source": [
    "-----------------------\n",
    "#### basic prompts with f-strings\n",
    "----------------------"
   ]
  },
  {
   "cell_type": "code",
   "execution_count": 1,
   "id": "79a5b5ac-265b-4948-af83-63d4a3c25c38",
   "metadata": {},
   "outputs": [],
   "source": [
    "user_name = \"Alice\"\n",
    "topic     = \"machine learning\""
   ]
  },
  {
   "cell_type": "code",
   "execution_count": 2,
   "id": "f501a374-9096-48e9-bea7-7f58267fe9ee",
   "metadata": {},
   "outputs": [],
   "source": [
    "prompt = f\"Hello {user_name}, looks like you are interested in {topic} How can I assist you today?\""
   ]
  },
  {
   "cell_type": "code",
   "execution_count": 4,
   "id": "c28eafda-07e4-4195-ba17-1fffa89d1f0a",
   "metadata": {},
   "outputs": [
    {
     "data": {
      "text/plain": [
       "'Hell Alice, looks like you are interested in machine learning How can I assist you today?'"
      ]
     },
     "execution_count": 4,
     "metadata": {},
     "output_type": "execute_result"
    }
   ],
   "source": [
    "prompt"
   ]
  },
  {
   "cell_type": "markdown",
   "id": "c2d0c6f5-b817-4240-b5b4-cf8daba3018f",
   "metadata": {},
   "source": [
    "#### Conditional Prompt Based on User Input"
   ]
  },
  {
   "cell_type": "code",
   "execution_count": 5,
   "id": "5296f6d1-4326-4f6e-87b3-beb83a00a00b",
   "metadata": {},
   "outputs": [],
   "source": [
    "user_name       = \"Alex\"\n",
    "topic           = \"machine learning\"\n",
    "expertise_level = \"intermediate\"  # Could be \"beginner\", \"intermediate\", or \"advanced\""
   ]
  },
  {
   "cell_type": "code",
   "execution_count": 6,
   "id": "727432de-d23f-4cb7-9a00-17a0dcc42b93",
   "metadata": {},
   "outputs": [],
   "source": [
    "# Construct a prompt with different messages based on expertise level\n",
    "if expertise_level == \"beginner\":\n",
    "    prompt = f\"Hi {user_name}, since you're new to {topic}, I recommend starting with the basics. Let's go over fundamental concepts first.\"\n",
    "elif expertise_level == \"intermediate\":\n",
    "    prompt = f\"Hello {user_name}, as someone with a bit of experience in {topic}, let's dive into more advanced techniques and best practices.\"\n",
    "elif expertise_level == \"advanced\":\n",
    "    prompt = f\"Hi {user_name}, given your advanced knowledge in {topic}, we can explore cutting-edge research and optimization strategies.\"\n"
   ]
  },
  {
   "cell_type": "code",
   "execution_count": 7,
   "id": "3f7f0f0c-0841-4b86-ab53-7b1556e475c7",
   "metadata": {},
   "outputs": [
    {
     "name": "stdout",
     "output_type": "stream",
     "text": [
      "Hello Alex, as someone with a bit of experience in machine learning, let's dive into more advanced techniques and best practices.\n"
     ]
    }
   ],
   "source": [
    "print(prompt)"
   ]
  },
  {
   "cell_type": "markdown",
   "id": "1a0b4deb-73e3-4bd5-bcb5-d72abc306665",
   "metadata": {},
   "source": [
    "#### Multiline Prompts with Embedded Variables"
   ]
  },
  {
   "cell_type": "code",
   "execution_count": 8,
   "id": "4951c78a-03ee-430c-a68f-d7d1ffde239e",
   "metadata": {},
   "outputs": [],
   "source": [
    "user_name = \"Bob\"\n",
    "project   = \"AI-driven chatbot development\"\n",
    "deadline  = \"next month\""
   ]
  },
  {
   "cell_type": "code",
   "execution_count": 9,
   "id": "2271fa08-7dfb-4396-b516-7ce40b3af194",
   "metadata": {},
   "outputs": [
    {
     "name": "stdout",
     "output_type": "stream",
     "text": [
      "\n",
      "Hi Bob,\n",
      "\n",
      "I understand you're working on AI-driven chatbot development. Given the deadline is next month, here are some advanced resources and tips to help you stay on track.\n",
      "\n",
      "Best of luck!\n",
      "\n"
     ]
    }
   ],
   "source": [
    "# Creating a detailed prompt with multiline f-string\n",
    "prompt = f\"\"\"\n",
    "Hi {user_name},\n",
    "\n",
    "I understand you're working on {project}. Given the deadline is {deadline}, here are some advanced resources and tips to help you stay on track.\n",
    "\n",
    "Best of luck!\n",
    "\"\"\"\n",
    "print(prompt)"
   ]
  },
  {
   "cell_type": "code",
   "execution_count": null,
   "id": "a4607d7e-db17-4011-80c6-5e51ec23a3c3",
   "metadata": {},
   "outputs": [],
   "source": []
  }
 ],
 "metadata": {
  "kernelspec": {
   "display_name": "Python 3 (ipykernel)",
   "language": "python",
   "name": "python3"
  },
  "language_info": {
   "codemirror_mode": {
    "name": "ipython",
    "version": 3
   },
   "file_extension": ".py",
   "mimetype": "text/x-python",
   "name": "python",
   "nbconvert_exporter": "python",
   "pygments_lexer": "ipython3",
   "version": "3.12.7"
  }
 },
 "nbformat": 4,
 "nbformat_minor": 5
}
