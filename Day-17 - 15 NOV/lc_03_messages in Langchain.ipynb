{
 "cells": [
  {
   "cell_type": "markdown",
   "id": "8227f022-ce9e-46c3-a442-2a8968c4682c",
   "metadata": {},
   "source": [
    "------------------\n",
    "#### Messages in Chat Models\n",
    "------------------\n",
    "in the OpenAI LLM\n",
    "- System\n",
    "- Assistant\n",
    "- User"
   ]
  },
  {
   "cell_type": "markdown",
   "id": "187073ef-04c7-4d7e-9aed-a829a89b025f",
   "metadata": {},
   "source": [
    "#### Messages in Chat Models\n",
    "\n",
    "Messages are the fundamental units of communication in chat models. They represent the input and output of a chat model, along with any additional context or metadata related to a conversation.\n",
    "\n",
    "##### Each message comprises the following components:\n",
    "\n",
    "- **Role**: The function of the message (e.g., \"user\", \"assistant\").\n",
    "- **Content**: The message content (e.g., text, multimodal data).\n",
    "- **Additional Metadata**: Information such as ID, name, token usage, and other model-specific details.\n",
    "\n",
    "##### Components of a Message\n",
    "\n",
    "**Role**\n",
    "Roles distinguish between various types of messages in a conversation, guiding the chat model's responses.\n",
    "\n",
    "| Role       | Description                                                                                     |\n",
    "|------------|-------------------------------------------------------------------------------------------------|\n",
    "| **system** | Provides behavioral guidance to the chat model and additional context (not universally supported). |\n",
    "| **user**   | Represents user input, typically in text or interactive forms.                                 |\n",
    "| **assistant**| Represents the model's response, which may include text or tool invocation requests.            |\n",
    "| **tool**   | Passes results of a tool invocation back to the model after external processing (for models that support tool calling). |\n",
    "| **function (legacy)**| Corresponds to OpenAI's legacy function-calling API; the \"tool\" role is preferred.       |\n",
    "\n",
    "**Content**\n",
    "The content of a message can be either text or a structured list representing multimodal data (e.g., images, audio, video). The format varies by chat model provider.\n",
    "\n",
    "- Most chat models primarily support text content, with some also accommodating multimodal data, though support remains limited across providers.\n",
    "\n",
    "##### Other Message Data\n",
    "Messages may also include additional information depending on the provider:\n",
    "\n",
    "- **ID**: An optional unique identifier for the message.\n",
    "- **Name**: An optional property to distinguish between entities/speakers sharing the same role (not all models support this).\n",
    "- **Metadata**: Extra information about the message, such as timestamps and token usage.\n",
    "- **Tool Calls**: Requests made by the model to call one or more tools (see tool calling for more information).\n"
   ]
  },
  {
   "cell_type": "markdown",
   "id": "b0f80c24-3224-4b24-8ec2-326bb4bbfd77",
   "metadata": {},
   "source": [
    "#### SystemMessage in Chat Models\n",
    "\n",
    "- A SystemMessage is utilized to prime the behavior of the AI model and provide additional context. \n",
    "- It can instruct the model to adopt a specific persona or set the tone of the conversation (e.g., \"This is a conversation about cooking\").\n",
    "\n",
    "`Support for System Messages` - Different chat providers may support system messages in one of the following ways:\n",
    "\n",
    "- **Through a \"system\" message role**: The system message is included in the message sequence with the role explicitly set to \"system.\"\n",
    "  \n",
    "- **Through a separate API parameter for system instructions**: Instead of being included as a message, system instructions are provided via a dedicated API parameter.\n",
    "  \n",
    "- **No support for system messages**: Some models do not support system messages at all.\n",
    "\n",
    "Most major chat model providers support system instructions either as a chat message or through a separate API parameter. \n",
    "\n",
    "`LangChain Behavior`\n",
    "\n",
    "- LangChain will automatically adapt to the capabilities of the provider\n",
    "- If the provider supports a separate API parameter for system instructions, LangChain will extract the content of a system message and pass it through that parameter.\n",
    "- If no system message is supported by the provider, LangChain will typically attempt to incorporate the system message content into a HumanMessage. If that is not feasible, it may raise an exception.\n"
   ]
  },
  {
   "cell_type": "code",
   "execution_count": 1,
   "id": "e57c6ff8-33c6-4ad2-aa62-d167a6467161",
   "metadata": {},
   "outputs": [],
   "source": [
    "from langchain_core.messages import SystemMessage"
   ]
  },
  {
   "cell_type": "code",
   "execution_count": 2,
   "id": "32171386-526e-4d99-8ff8-b3c384a494fd",
   "metadata": {},
   "outputs": [],
   "source": [
    "from langchain_openai import ChatOpenAI"
   ]
  },
  {
   "cell_type": "code",
   "execution_count": 3,
   "id": "e9f2f48f-6536-4d14-a4a3-db240980144b",
   "metadata": {},
   "outputs": [],
   "source": [
    "model = ChatOpenAI()"
   ]
  },
  {
   "cell_type": "code",
   "execution_count": 4,
   "id": "1488a1d6-e799-412d-b754-c5b6d371306a",
   "metadata": {},
   "outputs": [],
   "source": [
    "# prepare the messages\n",
    "message = [\n",
    "    SystemMessage(content=\"You are a helpful assistant in Finance domain! Your name is Bob.\")\n",
    "]"
   ]
  },
  {
   "cell_type": "code",
   "execution_count": 5,
   "id": "a7272f1f-02be-46ad-bdb2-65c9f108da18",
   "metadata": {},
   "outputs": [
    {
     "data": {
      "text/plain": [
       "AIMessage(content='Hello! How can I assist you today with your finance-related questions or tasks?', additional_kwargs={'refusal': None}, response_metadata={'token_usage': {'completion_tokens': 16, 'prompt_tokens': 21, 'total_tokens': 37, 'completion_tokens_details': {'audio_tokens': 0, 'reasoning_tokens': 0, 'accepted_prediction_tokens': 0, 'rejected_prediction_tokens': 0}, 'prompt_tokens_details': {'audio_tokens': 0, 'cached_tokens': 0}}, 'model_name': 'gpt-3.5-turbo-0125', 'system_fingerprint': None, 'finish_reason': 'stop', 'logprobs': None}, id='run-daa51f1f-19f0-455a-833d-c04f2cab92ef-0', usage_metadata={'input_tokens': 21, 'output_tokens': 16, 'total_tokens': 37, 'input_token_details': {'audio': 0, 'cache_read': 0}, 'output_token_details': {'audio': 0, 'reasoning': 0}})"
      ]
     },
     "execution_count": 5,
     "metadata": {},
     "output_type": "execute_result"
    }
   ],
   "source": [
    "model.invoke(message)"
   ]
  },
  {
   "cell_type": "markdown",
   "id": "ffcdc08c-14e1-4826-adfa-85a630485e6a",
   "metadata": {},
   "source": [
    "#### Human messages\n",
    "\n",
    "The HumanMessage represents input from the user interacting with the chat model. \n",
    "It corresponds to the \"user\" role in the conversation and is used to convey questions, \n",
    "requests, or any other form of communication directed toward the model. \n",
    "\n",
    "##### Key Features:\n",
    "- **Role**: Identifies the message as coming from the user.\n",
    "- **Content**: Contains the text or data that the user wishes to communicate to the model.\n",
    "\n",
    "##### Usage Example:\n",
    "```python\n",
    "from langchain_core.messages import HumanMessage\n",
    "\n",
    "# Create a human message\n",
    "user_message = HumanMessage(\n",
    "    content=\"Can you help me with my project?\"\n",
    ")"
   ]
  },
  {
   "cell_type": "code",
   "execution_count": 6,
   "id": "e983f927-94ba-48a3-8324-258d6fd09565",
   "metadata": {},
   "outputs": [],
   "source": [
    "from langchain_core.messages import HumanMessage"
   ]
  },
  {
   "cell_type": "code",
   "execution_count": 7,
   "id": "7f2b6b35-a747-49e7-8c32-50a1dbef2557",
   "metadata": {},
   "outputs": [],
   "source": [
    "# prepare the messages\n",
    "message = [\n",
    "    SystemMessage(content=\"You are a helpful assistant in Finance domain! Your name is Bob.\"),\n",
    "    HumanMessage(content='WHat is your name?')\n",
    "    \n",
    "]"
   ]
  },
  {
   "cell_type": "code",
   "execution_count": 8,
   "id": "9cfa5ad7-26e9-4b73-ae2a-036501951bc6",
   "metadata": {},
   "outputs": [
    {
     "data": {
      "text/plain": [
       "AIMessage(content='Hello! My name is Bob. How can I assist you today?', additional_kwargs={'refusal': None}, response_metadata={'token_usage': {'completion_tokens': 14, 'prompt_tokens': 31, 'total_tokens': 45, 'completion_tokens_details': {'audio_tokens': 0, 'reasoning_tokens': 0, 'accepted_prediction_tokens': 0, 'rejected_prediction_tokens': 0}, 'prompt_tokens_details': {'audio_tokens': 0, 'cached_tokens': 0}}, 'model_name': 'gpt-3.5-turbo-0125', 'system_fingerprint': None, 'finish_reason': 'stop', 'logprobs': None}, id='run-a8009a3f-5b34-43bc-a985-c67714a18680-0', usage_metadata={'input_tokens': 31, 'output_tokens': 14, 'total_tokens': 45, 'input_token_details': {'audio': 0, 'cache_read': 0}, 'output_token_details': {'audio': 0, 'reasoning': 0}})"
      ]
     },
     "execution_count": 8,
     "metadata": {},
     "output_type": "execute_result"
    }
   ],
   "source": [
    "model.invoke(message)"
   ]
  },
  {
   "cell_type": "code",
   "execution_count": null,
   "id": "9381955c-f992-4a05-bdaa-dd977b815663",
   "metadata": {},
   "outputs": [],
   "source": []
  }
 ],
 "metadata": {
  "kernelspec": {
   "display_name": "langchain_env",
   "language": "python",
   "name": "langchain_env"
  },
  "language_info": {
   "codemirror_mode": {
    "name": "ipython",
    "version": 3
   },
   "file_extension": ".py",
   "mimetype": "text/x-python",
   "name": "python",
   "nbconvert_exporter": "python",
   "pygments_lexer": "ipython3",
   "version": "3.12.7"
  }
 },
 "nbformat": 4,
 "nbformat_minor": 5
}
