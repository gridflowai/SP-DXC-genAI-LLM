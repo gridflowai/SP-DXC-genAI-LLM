{
 "cells": [
  {
   "cell_type": "markdown",
   "id": "8f27c612-0a53-468b-ae67-c02fc2cd9d91",
   "metadata": {},
   "source": [
    "--------------------------\n",
    "#### Dynamic Prompt Generation (jinja2)\n",
    "--------------------------\n",
    "- **Jinja2**: A widely used templating engine for generating dynamic outputs from static templates using placeholders.\n",
    "- **Origins**: Originally designed for creating dynamic HTML content.\n",
    "- **Applications**: Commonly applied in areas requiring dynamic text generation, such as AI prompting.\n",
    "- **Features**: Supports advanced features like inheritance, looping, and conditional logic.\n",
    "- **Use in GenAI**: Well-suited for Generative AI (GenAI) applications where prompts are crafted to guide Large Language Models (LLMs) toward specific responses.\n",
    "- **Dynamic Prompts**: Prompts can be tailored based on user inputs, previous interactions, and other variables."
   ]
  },
  {
   "cell_type": "code",
   "execution_count": 1,
   "id": "4971c72a-9a80-46e7-acbd-0d0ab451c4ed",
   "metadata": {},
   "outputs": [],
   "source": [
    "#pip install jinja2"
   ]
  },
  {
   "cell_type": "code",
   "execution_count": 2,
   "id": "e8a53402-c1ff-46ba-9cb6-e996cf488c4a",
   "metadata": {},
   "outputs": [],
   "source": [
    "from jinja2 import Template"
   ]
  },
  {
   "cell_type": "code",
   "execution_count": 3,
   "id": "b72ed524-5b2c-4e21-a300-3eb8fa9eeb84",
   "metadata": {},
   "outputs": [],
   "source": [
    "# Define the template\n",
    "template_str = \"Hello {{ user_name }}, I see that you prefer {{ user_preference }}. How can I assist you today?\"\n"
   ]
  },
  {
   "cell_type": "code",
   "execution_count": 4,
   "id": "50db9946-811e-4e09-88ed-56e1d7dfc726",
   "metadata": {},
   "outputs": [],
   "source": [
    "# Create a Jinja2 Template object\n",
    "template = Template(template_str)"
   ]
  },
  {
   "cell_type": "code",
   "execution_count": 5,
   "id": "3241b894-03d1-49d7-bb91-843b9a968d38",
   "metadata": {},
   "outputs": [
    {
     "data": {
      "text/plain": [
       "<Template memory:2024847f7a0>"
      ]
     },
     "execution_count": 5,
     "metadata": {},
     "output_type": "execute_result"
    }
   ],
   "source": [
    "template"
   ]
  },
  {
   "cell_type": "code",
   "execution_count": 6,
   "id": "fddb78af-f08a-47f2-9f57-09ca03e74338",
   "metadata": {},
   "outputs": [
    {
     "name": "stdout",
     "output_type": "stream",
     "text": [
      "Hello Alice, I see that you prefer sports. How can I assist you today?\n"
     ]
    }
   ],
   "source": [
    "# Render the template with dynamic variables\n",
    "prompt = template.render(user_name=\"Alice\", user_preference=\"sports\")\n",
    "\n",
    "print(prompt)"
   ]
  },
  {
   "cell_type": "markdown",
   "id": "40e30c0f-be05-4826-bc53-8b08a3a33c1e",
   "metadata": {},
   "source": [
    "ex"
   ]
  },
  {
   "cell_type": "code",
   "execution_count": 7,
   "id": "d794c971-ff2b-40e3-9367-c7b8182d25cd",
   "metadata": {},
   "outputs": [],
   "source": [
    "# Define a more complex template with conditional logic\n",
    "template_str = \"\"\"\n",
    "{% if user_preference == \"sports\" %}\n",
    "    Here's the latest sports news!\n",
    "{% elif user_preference == \"technology\" %}\n",
    "    Here's the latest tech updates!\n",
    "{% else %}\n",
    "    Here's some general news for you.\n",
    "{% endif %}\n",
    "\"\"\""
   ]
  },
  {
   "cell_type": "code",
   "execution_count": 8,
   "id": "41a3e563-cadd-476d-91d6-3d879db1df66",
   "metadata": {},
   "outputs": [],
   "source": [
    "# Create a Jinja2 Template object\n",
    "template = Template(template_str)"
   ]
  },
  {
   "cell_type": "code",
   "execution_count": 9,
   "id": "da5e4d58-8728-47c2-aabb-7c2c998f3aed",
   "metadata": {},
   "outputs": [
    {
     "data": {
      "text/plain": [
       "\"\\n\\n    Here's the latest tech updates!\\n\""
      ]
     },
     "execution_count": 9,
     "metadata": {},
     "output_type": "execute_result"
    }
   ],
   "source": [
    "# Render the template with dynamic variables\n",
    "prompt = template.render(user_preference=\"technology\")\n",
    "prompt"
   ]
  },
  {
   "cell_type": "markdown",
   "id": "f9e4e97c-f308-4958-afc7-0e77166e6dbe",
   "metadata": {},
   "source": [
    "Prompt templates in Langchain"
   ]
  },
  {
   "cell_type": "code",
   "execution_count": 2,
   "id": "9faf8f6c-1604-4bb3-88ba-46c38981ba5a",
   "metadata": {},
   "outputs": [],
   "source": [
    "from langchain.prompts import PromptTemplate"
   ]
  },
  {
   "cell_type": "code",
   "execution_count": 3,
   "id": "e1ef4f2d-ef71-42b3-9781-303f274bdea9",
   "metadata": {},
   "outputs": [],
   "source": [
    "# Define a more complex template\n",
    "template_str = \"\"\"\n",
    "Hi {user_name}, based on your preferences:\n",
    "- Your favorite topic: {topic}\n",
    "- Your level of expertise: {expertise}\n",
    "\n",
    "Here's some content tailored for you.\n",
    "\"\"\""
   ]
  },
  {
   "cell_type": "code",
   "execution_count": 4,
   "id": "dca609d0-efbe-4517-8b98-9438edc1faef",
   "metadata": {},
   "outputs": [],
   "source": [
    "# Initialize the PromptTemplate\n",
    "prompt_template = PromptTemplate(\n",
    "    input_variables=[\"user_name\", \"topic\", \"expertise\"],\n",
    "    template       =template_str\n",
    ")"
   ]
  },
  {
   "cell_type": "code",
   "execution_count": 5,
   "id": "a6e5a7e4-12c3-4a77-8d04-a9058a8a9995",
   "metadata": {},
   "outputs": [
    {
     "name": "stdout",
     "output_type": "stream",
     "text": [
      "\n",
      "Hi Bob, based on your preferences:\n",
      "- Your favorite topic: AI\n",
      "- Your level of expertise: intermediate\n",
      "\n",
      "Here's some content tailored for you.\n",
      "\n"
     ]
    }
   ],
   "source": [
    "# Define variables\n",
    "prompt = prompt_template.format(user_name=\"Bob\", topic=\"AI\", expertise=\"intermediate\")\n",
    "\n",
    "print(prompt)"
   ]
  },
  {
   "cell_type": "code",
   "execution_count": 6,
   "id": "12c0ff02-c11a-4116-80b9-74495a8464ee",
   "metadata": {},
   "outputs": [],
   "source": [
    "from langchain_openai import OpenAI"
   ]
  },
  {
   "cell_type": "code",
   "execution_count": 7,
   "id": "253688da-96d8-456f-907b-7abd8ec256ae",
   "metadata": {},
   "outputs": [],
   "source": [
    "llm = OpenAI()"
   ]
  },
  {
   "cell_type": "code",
   "execution_count": 8,
   "id": "c439a05d-86a1-4edd-b8a0-fa2de202fd01",
   "metadata": {},
   "outputs": [
    {
     "data": {
      "text/plain": [
       "'\\n1. \"Understanding Artificial Intelligence: A Beginner\\'s Guide\" - This article breaks down the basics of AI, including its definition, history, and applications. It\\'s perfect for someone with intermediate knowledge who wants to deepen their understanding of the subject.\\n\\n2. \"The Ethics of AI: Exploring the Moral Implications of Artificial Intelligence\" - As AI continues to advance, questions of ethics and morality become more pressing. This article delves into the ethical considerations surrounding AI and how they impact our society.\\n\\n3. \"Machine Learning vs. Deep Learning: What\\'s the Difference?\" - As a fan of AI, you\\'re likely familiar with both machine learning and deep learning. This article compares and contrasts the two techniques, helping you understand their unique strengths and applications.\\n\\n4. \"AI in Healthcare: How Artificial Intelligence is Revolutionizing the Medical Field\" - One of the most exciting and impactful applications of AI is in healthcare. This article explores the current and future uses of AI in the medical field, from diagnosis to treatment.\\n\\n5. \"Building Your Own AI Assistant: A Step-by-Step Guide\" - For those with intermediate knowledge of AI, building your own AI assistant can be a fun and challenging project. This step-by-step guide walks you through the process, from choosing'"
      ]
     },
     "execution_count": 8,
     "metadata": {},
     "output_type": "execute_result"
    }
   ],
   "source": [
    "llm.invoke(prompt)"
   ]
  },
  {
   "cell_type": "code",
   "execution_count": null,
   "id": "a16e4955-c752-459f-ad36-ac4e6e3821ba",
   "metadata": {},
   "outputs": [],
   "source": []
  }
 ],
 "metadata": {
  "kernelspec": {
   "display_name": "langchain_env",
   "language": "python",
   "name": "langchain_env"
  },
  "language_info": {
   "codemirror_mode": {
    "name": "ipython",
    "version": 3
   },
   "file_extension": ".py",
   "mimetype": "text/x-python",
   "name": "python",
   "nbconvert_exporter": "python",
   "pygments_lexer": "ipython3",
   "version": "3.12.7"
  }
 },
 "nbformat": 4,
 "nbformat_minor": 5
}
