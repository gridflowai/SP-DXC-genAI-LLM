{
 "cells": [
  {
   "cell_type": "markdown",
   "id": "65c9b51e-a968-4691-95e8-342dae562177",
   "metadata": {},
   "source": [
    "---------------------------------\n",
    "#### return structured data from a model\n",
    "---------------------------------"
   ]
  },
  {
   "cell_type": "code",
   "execution_count": 1,
   "id": "98a00ab7-1975-4b11-a361-5eb0a11272b3",
   "metadata": {},
   "outputs": [],
   "source": [
    "from langchain_openai import ChatOpenAI"
   ]
  },
  {
   "cell_type": "code",
   "execution_count": 2,
   "id": "5f5de154-ce77-4f9d-9c1c-5dbf461cffcb",
   "metadata": {},
   "outputs": [],
   "source": [
    "llm = ChatOpenAI(model=\"gpt-4o-mini\")"
   ]
  },
  {
   "cell_type": "markdown",
   "id": "9f2d2db8-6940-487e-aaf9-34118481af1a",
   "metadata": {},
   "source": [
    "#### using pydantic "
   ]
  },
  {
   "cell_type": "code",
   "execution_count": 3,
   "id": "aa6e67f7-e09a-46ae-95ca-e5e7e94a30d5",
   "metadata": {},
   "outputs": [],
   "source": [
    "from pydantic import BaseModel, Field"
   ]
  },
  {
   "cell_type": "code",
   "execution_count": 5,
   "id": "d4f3dcef-4a23-44b4-8ae1-df4d815156df",
   "metadata": {},
   "outputs": [],
   "source": [
    "# pydantic\n",
    "class Joke(BaseModel):\n",
    "    \"\"\"text will be for a joke from LLM\"\"\"\n",
    "\n",
    "    setup:     str = Field(description=\"this is the setup context about the joke\")\n",
    "    punchline: str = Field(description=\"this is the punchline about the joke\")\n",
    "    rating:    int = Field(\n",
    "                            default     = None,\n",
    "                            description = \"How funny is the joke, scale of 1 to 10\"\n",
    "                        )"
   ]
  },
  {
   "cell_type": "code",
   "execution_count": 6,
   "id": "54a5321a-0889-4b9f-a2bf-e03c9e79dc07",
   "metadata": {},
   "outputs": [],
   "source": [
    "structured_call_to_llm = llm.with_structured_output(Joke)"
   ]
  },
  {
   "cell_type": "code",
   "execution_count": 7,
   "id": "bb92ac1d-d8a8-4e16-b7e6-d19ecc374ce4",
   "metadata": {},
   "outputs": [
    {
     "data": {
      "text/plain": [
       "Joke(setup='Why did the LLM break up with its partner?', punchline='Because it found someone who could better understand its neural networks!', rating=None)"
      ]
     },
     "execution_count": 7,
     "metadata": {},
     "output_type": "execute_result"
    }
   ],
   "source": [
    "response = structured_call_to_llm.invoke(\"Tell me a joke about LLM\")\n",
    "response"
   ]
  },
  {
   "cell_type": "code",
   "execution_count": null,
   "id": "3bab8815-90fe-4c3f-93e9-7b9efa412291",
   "metadata": {},
   "outputs": [],
   "source": []
  },
  {
   "cell_type": "code",
   "execution_count": null,
   "id": "8e7f1861-1c96-49f2-b54d-eeeb4a62765d",
   "metadata": {},
   "outputs": [],
   "source": []
  },
  {
   "cell_type": "code",
   "execution_count": null,
   "id": "06719200-7d74-40f3-b62a-f47a1131965d",
   "metadata": {},
   "outputs": [],
   "source": []
  }
 ],
 "metadata": {
  "kernelspec": {
   "display_name": "langchain_env",
   "language": "python",
   "name": "langchain_env"
  },
  "language_info": {
   "codemirror_mode": {
    "name": "ipython",
    "version": 3
   },
   "file_extension": ".py",
   "mimetype": "text/x-python",
   "name": "python",
   "nbconvert_exporter": "python",
   "pygments_lexer": "ipython3",
   "version": "3.12.7"
  }
 },
 "nbformat": 4,
 "nbformat_minor": 5
}
