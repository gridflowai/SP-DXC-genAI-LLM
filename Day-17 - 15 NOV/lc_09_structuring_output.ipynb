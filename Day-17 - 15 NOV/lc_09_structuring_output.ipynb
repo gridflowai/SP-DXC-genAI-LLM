{
 "cells": [
  {
   "cell_type": "markdown",
   "id": "65c9b51e-a968-4691-95e8-342dae562177",
   "metadata": {},
   "source": [
    "---------------------------------\n",
    "#### return structured data from a model\n",
    "---------------------------------"
   ]
  },
  {
   "cell_type": "code",
   "execution_count": 1,
   "id": "98a00ab7-1975-4b11-a361-5eb0a11272b3",
   "metadata": {},
   "outputs": [],
   "source": [
    "from langchain_openai import ChatOpenAI"
   ]
  },
  {
   "cell_type": "code",
   "execution_count": 2,
   "id": "5f5de154-ce77-4f9d-9c1c-5dbf461cffcb",
   "metadata": {},
   "outputs": [],
   "source": [
    "llm = ChatOpenAI(model=\"gpt-4o-mini\")"
   ]
  },
  {
   "cell_type": "markdown",
   "id": "9f2d2db8-6940-487e-aaf9-34118481af1a",
   "metadata": {},
   "source": [
    "#### using pydantic "
   ]
  },
  {
   "cell_type": "code",
   "execution_count": 3,
   "id": "aa6e67f7-e09a-46ae-95ca-e5e7e94a30d5",
   "metadata": {},
   "outputs": [],
   "source": [
    "from pydantic import BaseModel, Field"
   ]
  },
  {
   "cell_type": "code",
   "execution_count": 34,
   "id": "d4f3dcef-4a23-44b4-8ae1-df4d815156df",
   "metadata": {},
   "outputs": [],
   "source": [
    "# pydantic\n",
    "class Joke(BaseModel):\n",
    "    \"\"\"text will be for a joke from LLM\"\"\"\n",
    "\n",
    "    setup:     str = Field(description=\"this is the setup context about the joke\")\n",
    "    punchline: str = Field(description=\"this is the punchline about the joke\")\n",
    "    rating:    int = Field(\n",
    "                            default     = 3,\n",
    "                            description = \"How funny is the joke, scale of 1 to 5\"\n",
    "                        )"
   ]
  },
  {
   "cell_type": "code",
   "execution_count": 35,
   "id": "54a5321a-0889-4b9f-a2bf-e03c9e79dc07",
   "metadata": {},
   "outputs": [],
   "source": [
    "structured_call_to_llm = llm.with_structured_output(Joke)"
   ]
  },
  {
   "cell_type": "code",
   "execution_count": 37,
   "id": "bb92ac1d-d8a8-4e16-b7e6-d19ecc374ce4",
   "metadata": {},
   "outputs": [
    {
     "data": {
      "text/plain": [
       "Joke(setup='Why did the funny actor bring a ladder to the audition?', punchline='Because he wanted to reach new heights in his career!', rating=3)"
      ]
     },
     "execution_count": 37,
     "metadata": {},
     "output_type": "execute_result"
    }
   ],
   "source": [
    "response = structured_call_to_llm.invoke(\"Tell me a joke about funny actor\")\n",
    "response"
   ]
  },
  {
   "cell_type": "markdown",
   "id": "beac51d5-e68a-42b7-9cd0-ead9ae6e3e5b",
   "metadata": {},
   "source": [
    "Example .."
   ]
  },
  {
   "cell_type": "code",
   "execution_count": 39,
   "id": "ab206777-0bdb-4b64-bd79-fab516d6615c",
   "metadata": {},
   "outputs": [],
   "source": [
    "from typing import List"
   ]
  },
  {
   "cell_type": "code",
   "execution_count": 40,
   "id": "8e7f1861-1c96-49f2-b54d-eeeb4a62765d",
   "metadata": {},
   "outputs": [],
   "source": [
    "class Recipe(BaseModel):\n",
    "    \"\"\"Recipe details.\"\"\"\n",
    "\n",
    "    title:        str       = Field(description=\"The title of the recipe\")\n",
    "    ingredients:  List[str] = Field(description=\"List of ingredients needed\")\n",
    "    cooking_time: int       = Field(description=\"Cooking time in minutes\")\n",
    "    steps:        List[str] = Field(description=\"Step-by-step instructions\")"
   ]
  },
  {
   "cell_type": "code",
   "execution_count": 41,
   "id": "06719200-7d74-40f3-b62a-f47a1131965d",
   "metadata": {},
   "outputs": [],
   "source": [
    "structured_llm = llm.with_structured_output(Recipe)"
   ]
  },
  {
   "cell_type": "code",
   "execution_count": 43,
   "id": "9854d52a-f42b-459a-a5ed-bd0e9e9c37a2",
   "metadata": {},
   "outputs": [
    {
     "data": {
      "text/plain": [
       "{'title': 'Chocolate Chip Cookies',\n",
       " 'ingredients': ['2 1/4 cups all-purpose flour',\n",
       "  '1/2 teaspoon baking soda',\n",
       "  '1 cup unsalted butter, room temperature',\n",
       "  '1/2 cup granulated sugar',\n",
       "  '1 cup packed light-brown sugar',\n",
       "  '1 teaspoon salt',\n",
       "  '2 teaspoons pure vanilla extract',\n",
       "  '2 large eggs',\n",
       "  '2 cups semisweet and/or milk chocolate chips'],\n",
       " 'cooking_time': 15,\n",
       " 'steps': ['Preheat your oven to 350°F (175°C).',\n",
       "  'In a small bowl, whisk together the flour and baking soda; set aside.',\n",
       "  'In a large bowl, using an electric mixer, cream the butter and sugars on medium speed until light and fluffy, about 2 minutes.',\n",
       "  'Add the salt, vanilla, and eggs; beat until well combined.',\n",
       "  'Gradually add the flour mixture, mixing until just combined.',\n",
       "  'Stir in the chocolate chips with a spatula or wooden spoon.',\n",
       "  'Drop tablespoon-sized balls of dough onto baking sheets lined with parchment paper, spacing them about 2 inches apart.',\n",
       "  'Bake in the preheated oven for 10-12 minutes, or until the edges are golden brown and the centers are soft.',\n",
       "  'Remove from the oven and let cool on the baking sheets for a few minutes before transferring to wire racks to cool completely.']}"
      ]
     },
     "execution_count": 43,
     "metadata": {},
     "output_type": "execute_result"
    }
   ],
   "source": [
    "dict(structured_llm.invoke(\"Give me a recipe for chocolate chip cookies.\"))"
   ]
  },
  {
   "cell_type": "code",
   "execution_count": null,
   "id": "2f5bec54-8f65-41ed-862d-f9fddb1ec71c",
   "metadata": {},
   "outputs": [],
   "source": []
  }
 ],
 "metadata": {
  "kernelspec": {
   "display_name": "langchain_env",
   "language": "python",
   "name": "langchain_env"
  },
  "language_info": {
   "codemirror_mode": {
    "name": "ipython",
    "version": 3
   },
   "file_extension": ".py",
   "mimetype": "text/x-python",
   "name": "python",
   "nbconvert_exporter": "python",
   "pygments_lexer": "ipython3",
   "version": "3.12.7"
  }
 },
 "nbformat": 4,
 "nbformat_minor": 5
}
