{
 "cells": [
  {
   "cell_type": "markdown",
   "id": "de516cb2-b9ff-4eb0-b1d3-c715e406f91f",
   "metadata": {},
   "source": [
    "-------------------------\n",
    "#### prompt types\n",
    "-----------------------\n",
    "\n",
    "- Zero Shot prompting\n",
    "    - we are using a pre-trained model\n",
    "    - GPT 3.5\n",
    "- Text Generation\n",
    "- Question Answering (QnA)\n",
    "- Summarization\n",
    "- LT"
   ]
  },
  {
   "cell_type": "code",
   "execution_count": 2,
   "id": "4996c583-340a-4144-a2b6-64ce4675c08c",
   "metadata": {},
   "outputs": [],
   "source": [
    "import openai\n",
    "from openai import OpenAI\n",
    "import json"
   ]
  },
  {
   "cell_type": "code",
   "execution_count": 3,
   "id": "45b6c1af-9d27-4ae1-9b28-88e1f30a4508",
   "metadata": {},
   "outputs": [],
   "source": [
    "client = OpenAI(\n",
    "    # defaults to os.environ.get(\"OPENAI_API_KEY\")\n",
    "    # api_key = openai_api_key\n",
    ")"
   ]
  },
  {
   "cell_type": "markdown",
   "id": "3b9fa9e8-8230-4003-be58-f10c9dd334a2",
   "metadata": {},
   "source": [
    "#### define a function for QnA"
   ]
  },
  {
   "cell_type": "code",
   "execution_count": 24,
   "id": "57a66b6d-c506-46cf-9de7-edc20c68317d",
   "metadata": {},
   "outputs": [],
   "source": [
    "def question_answering(question, context):\n",
    "    prompt = f\"Q: {question}\\nContext: {context}\\nA:\"\n",
    "\n",
    "    response = client.chat.completions.create(\n",
    "            model    = 'gpt-3.5-turbo',\n",
    "            messages = [\n",
    "                {\"role\" : \"system\", \"content\": \"You are a helpful expert\"},\n",
    "                {\"role\" : \"user\",   \"content\": f\"{prompt}\"}\n",
    "            ],\n",
    "            max_tokens  = 500,\n",
    "            temperature = 0.9,\n",
    "            n           = 1\n",
    "    )\n",
    "\n",
    "    # extract the the answer from the response\n",
    "    answer = response.choices[0].message.content\n",
    "\n",
    "    return answer"
   ]
  },
  {
   "cell_type": "markdown",
   "id": "974dacd7-dc89-44ac-b99b-7b1108c9dec3",
   "metadata": {},
   "source": [
    "Example - 01"
   ]
  },
  {
   "cell_type": "code",
   "execution_count": 7,
   "id": "1fbf3f2a-7fb1-4021-8048-a41b72d485b7",
   "metadata": {},
   "outputs": [],
   "source": [
    "context = '''patient seems to be stable but 5 days ago she suspected highly recurrent symptoms'''"
   ]
  },
  {
   "cell_type": "code",
   "execution_count": 8,
   "id": "68781034-338f-41c5-9971-0282952930f5",
   "metadata": {},
   "outputs": [],
   "source": [
    "question = '''Is the patient's condition stable presently\" with a label prefix \"Answer\" '''"
   ]
  },
  {
   "cell_type": "code",
   "execution_count": 9,
   "id": "34904f82-faf2-4b02-8f9f-c06ef9843807",
   "metadata": {},
   "outputs": [
    {
     "name": "stdout",
     "output_type": "stream",
     "text": [
      "**Answer:** The patient's condition is currently stable, although it is important to monitor closely due to the highly recurrent symptoms reported 5 days ago. Regular assessments and follow-up are recommended to ensure the patient's well-being.\n"
     ]
    }
   ],
   "source": [
    "response = question_answering(question, context)\n",
    "print(response)"
   ]
  },
  {
   "cell_type": "markdown",
   "id": "81a19409-aba1-4c8f-b8fa-1ff6d137b46f",
   "metadata": {},
   "source": [
    "Ex - 02"
   ]
  },
  {
   "cell_type": "code",
   "execution_count": 10,
   "id": "6715e84a-5ec8-4a9a-a2bf-4995c8b4efa8",
   "metadata": {},
   "outputs": [],
   "source": [
    "context = '''positive for TTF 1, and napsin A, suggestive of lung adenocarcinoma. \n",
    "Molecular testing was performed, that did not reveal actionable therapeutically targetable mutations. \n",
    "She underwent chemotherapy and radiation therapy, to this paraspinal mass, administered concurrently \n",
    "with carboplatin and paclitaxel. She was then treated with 4 cycles of systemic therapy with carboplatin, \n",
    "and pemetrexed, and then'''\n",
    "\n",
    "question = '''Did the patient undergo radiation therapy? Your answer should be either \n",
    "'Yes' or 'NO' or \"Not sure\" with a label prefix \"Answer\" '''"
   ]
  },
  {
   "cell_type": "code",
   "execution_count": 11,
   "id": "d0ba5aba-d3a0-46b9-8b68-0a660fe696c3",
   "metadata": {},
   "outputs": [
    {
     "name": "stdout",
     "output_type": "stream",
     "text": [
      "Answer: Yes\n"
     ]
    }
   ],
   "source": [
    "response = question_answering(question, context)\n",
    "print(response)"
   ]
  },
  {
   "cell_type": "markdown",
   "id": "8431d812-6c83-404e-bdf6-9833b95f9927",
   "metadata": {},
   "source": [
    "Ex - 03"
   ]
  },
  {
   "cell_type": "code",
   "execution_count": 23,
   "id": "8a2d319e-c500-4cab-88d5-b84f99966336",
   "metadata": {},
   "outputs": [
    {
     "name": "stdout",
     "output_type": "stream",
     "text": [
      "Answer: Yes\n",
      "\n",
      "Explanation: The patient has been recommended radiation therapy to the brain in the form of gamma knife therapy by a Radiation Oncologist.\n"
     ]
    }
   ],
   "source": [
    "context = '''consistent with parenchymal and potential leptomeningeal metastatic disease. \n",
    "There was no vasogenic edema shift or effect. A PET-CT scan also showed evidence of \n",
    "progression of disease. She met with Radiation Oncology, who has recommended radiation \n",
    "therapy to the brain, in the form of gamma knife therapy. She is consulting with other doctors if she really needs \n",
    "to undergo the radiation therapy\n",
    "'''\n",
    "\n",
    "question = '''Did the patient undergo radiation therapy ever? Your answer should be either \n",
    "'Yes' or 'NO' or \"Not sure\" with a label prefix \"Answer\" \n",
    "\n",
    "Also display \"Explanation : \" after displaying output of the question\n",
    "'''\n",
    "\n",
    "response = question_answering(question, context)\n",
    "print(response)"
   ]
  },
  {
   "cell_type": "markdown",
   "id": "e395a41f-ba11-4482-85f6-d3bedfea5934",
   "metadata": {},
   "source": [
    "Example - 04"
   ]
  },
  {
   "cell_type": "code",
   "execution_count": 26,
   "id": "72e80467-82dd-4749-aa18-5e005ae1c278",
   "metadata": {},
   "outputs": [],
   "source": [
    "context = '''\n",
    "11-12 o'clock position of left breast, 6 CFN. Enlarged axillary lymph nodes were noted. \n",
    "Her right breast and axilla were benign. A small 8 mm lesion was noted in the left hepatic \n",
    "lobe that appeared benign. A chest CT scan performed that same day showed enlarged \n",
    "lymph nodes in the left axilla, no lytic or blastic disease within the bones, \n",
    "and an 8 mm benign appearing hemangioma in the liver. \n",
    "\n",
    "On 6/24/2020 left breast ultrasound biopsy was performed. \n",
    "This showed infiltrating ductal carcinoma that was grade 3 and triple negative.\n",
    "Several weeks ago she had negative staging abdominal/pelvic CT and bone scan. \n",
    "\n",
    "A small left hepatic lesion was found and was felt to be consistent with a hemangioma. \n",
    "\n",
    "She has had a Port-A-Cath placed.\n",
    "1 again reviewed and discussed extensively with the patient, and with her husband, \n",
    "her course to date. \n",
    "\n",
    "We outlined her node positive disease and probability that she has TNBC. \n",
    "We discussed the recommendation of neoadjuvant, and within this context discussed \n",
    "standard neoadjuvant chemotherapy, including traditional dose-dense AC followed by weekly paclitaxel, \n",
    "neoadjuvant chemo immunotherapy per the KEYNOTE-522 trial, and an open clinical trial, \n",
    "NSABP B-59. \n",
    "\n",
    "For various reasons, she does not wish to pursue treatment on B-59. \n",
    "\n",
    "We discussed the potential of delivering chemotherapy plus pembrolizumab per the KEYNOTE-522 trial, \n",
    "pending insurance approval. We reviewed potential side effects of chemotherapy including, \n",
    "but not limited to cytopenias, nausea, alopecia, and neuropathy. \n",
    "\n",
    "We discussed possible untoward effects of immunotherapy including autoimmune diseases. \n",
    "Through this discussion she provided consent to proceed.\n",
    "'''"
   ]
  },
  {
   "cell_type": "code",
   "execution_count": 27,
   "id": "c5a200d1-8cb4-4e6e-981a-97e9a3e3ee64",
   "metadata": {},
   "outputs": [
    {
     "name": "stdout",
     "output_type": "stream",
     "text": [
      "- AC (Adriamycin, Cyclophosphamide)\n",
      "- Paclitaxel\n",
      "- Pembrolizumab\n"
     ]
    }
   ],
   "source": [
    "question = '''List out the names of the medications prescribed to the patients, in a bulleted text form\" \n",
    "'''\n",
    "\n",
    "response = question_answering(question, context)\n",
    "print(response)"
   ]
  },
  {
   "cell_type": "code",
   "execution_count": null,
   "id": "1eee0fe8-d20f-477f-9190-d9e53e77bd44",
   "metadata": {},
   "outputs": [],
   "source": []
  }
 ],
 "metadata": {
  "kernelspec": {
   "display_name": "Python 3 (ipykernel)",
   "language": "python",
   "name": "python3"
  },
  "language_info": {
   "codemirror_mode": {
    "name": "ipython",
    "version": 3
   },
   "file_extension": ".py",
   "mimetype": "text/x-python",
   "name": "python",
   "nbconvert_exporter": "python",
   "pygments_lexer": "ipython3",
   "version": "3.12.7"
  }
 },
 "nbformat": 4,
 "nbformat_minor": 5
}
