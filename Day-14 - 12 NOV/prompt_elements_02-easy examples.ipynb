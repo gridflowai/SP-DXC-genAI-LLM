{
 "cells": [
  {
   "cell_type": "markdown",
   "id": "1a4a4e1c-b46e-4e4c-8664-f58426126071",
   "metadata": {},
   "source": [
    "---------------------------\n",
    "#### Prompt - elements\n",
    "--------------------------"
   ]
  },
  {
   "cell_type": "code",
   "execution_count": 1,
   "id": "81e1df94-f8b4-4d8c-8fc8-f6b2c5489341",
   "metadata": {},
   "outputs": [],
   "source": [
    "import openai\n",
    "import os"
   ]
  },
  {
   "cell_type": "code",
   "execution_count": 3,
   "id": "01bebdb8-c78a-4390-8302-2813dcfcdbf3",
   "metadata": {},
   "outputs": [],
   "source": [
    "api_key = os.getenv(\"OPENAI_API_KEY\")"
   ]
  },
  {
   "cell_type": "code",
   "execution_count": 4,
   "id": "56e8a0de-995c-4e1d-8284-f1d7c9bba62e",
   "metadata": {},
   "outputs": [],
   "source": [
    "client = openai.OpenAI()"
   ]
  },
  {
   "cell_type": "code",
   "execution_count": 5,
   "id": "e2560d09-650a-421d-ac05-eab4c2d1c32b",
   "metadata": {},
   "outputs": [],
   "source": [
    "# Define prompt elements\n",
    "instruction = \"Evaluate the benefits of telemedicine.\""
   ]
  },
  {
   "cell_type": "code",
   "execution_count": 6,
   "id": "b2745b26-3e82-4995-bef1-3d2adabee334",
   "metadata": {},
   "outputs": [],
   "source": [
    "context = (\n",
    "    \"In the context of healthcare, where access to medical services is increasingly challenged \"\n",
    "    \"by geographical barriers and the COVID-19 pandemic.\"\n",
    ")"
   ]
  },
  {
   "cell_type": "code",
   "execution_count": 7,
   "id": "73038a3e-c059-4716-a775-cdcd34d0e543",
   "metadata": {},
   "outputs": [],
   "source": [
    "input_data = (\n",
    "    \"Consider the following benefits of telemedicine:\\n\"\n",
    "    \"- Increased access to healthcare for rural populations.\\n\"\n",
    "    \"- Reduced waiting times for consultations.\\n\"\n",
    "    \"- Improved patient monitoring through remote care.\\n\"\n",
    "    \"- Enhanced convenience for patients with mobility issues.\"\n",
    ")\n",
    "\n",
    "output_formatter = (\n",
    "    \"Provide your evaluation in bullet points, highlighting at least three key benefits, \"\n",
    "    \"and keep it under 150 words.\"\n",
    ")"
   ]
  },
  {
   "cell_type": "code",
   "execution_count": 8,
   "id": "8dfee2b1-bb03-4b67-95c6-e627900b2748",
   "metadata": {},
   "outputs": [
    {
     "data": {
      "text/plain": [
       "'Bhupen - here are the Evaluate the benefits of telemedicine.'"
      ]
     },
     "execution_count": 8,
     "metadata": {},
     "output_type": "execute_result"
    }
   ],
   "source": [
    "f\"Bhupen - here are the {instruction}\""
   ]
  },
  {
   "cell_type": "code",
   "execution_count": 9,
   "id": "634fc669-6be3-4ed2-b0d7-caeca4c1806b",
   "metadata": {},
   "outputs": [],
   "source": [
    "prompt = f\"{instruction} {context} {input_data} {output_formatter}\""
   ]
  },
  {
   "cell_type": "code",
   "execution_count": 10,
   "id": "8185334e-077c-4aff-a739-50a8f9f2ee02",
   "metadata": {},
   "outputs": [
    {
     "data": {
      "text/plain": [
       "'Evaluate the benefits of telemedicine. In the context of healthcare, where access to medical services is increasingly challenged by geographical barriers and the COVID-19 pandemic. Consider the following benefits of telemedicine:\\n- Increased access to healthcare for rural populations.\\n- Reduced waiting times for consultations.\\n- Improved patient monitoring through remote care.\\n- Enhanced convenience for patients with mobility issues. Provide your evaluation in bullet points, highlighting at least three key benefits, and keep it under 150 words.'"
      ]
     },
     "execution_count": 10,
     "metadata": {},
     "output_type": "execute_result"
    }
   ],
   "source": [
    "prompt"
   ]
  },
  {
   "cell_type": "code",
   "execution_count": 12,
   "id": "53160e73-98fe-4ca9-b213-4027634dffeb",
   "metadata": {},
   "outputs": [],
   "source": [
    "# call to LLM - should be like a function\n",
    "def get_evaluation(prompt):\n",
    "    try:\n",
    "        response = client.chat.completions.create(\n",
    "            model    = 'gpt-3.5-turbo',\n",
    "            messages = [\n",
    "                {\"role\" : \"user\", \"content\": prompt}\n",
    "            ],\n",
    "            max_tokens  = 500,\n",
    "            temperature = 0.7,\n",
    "            n           = 1\n",
    "        )\n",
    "    except Exception as e:\n",
    "        print(f\"An error occurred : {e}\")\n",
    "\n",
    "    return response"
   ]
  },
  {
   "cell_type": "code",
   "execution_count": 13,
   "id": "3bbc8530-0b09-422f-999f-142d04ce35f4",
   "metadata": {},
   "outputs": [],
   "source": [
    "response = get_evaluation(prompt)"
   ]
  },
  {
   "cell_type": "code",
   "execution_count": 14,
   "id": "96364faa-45d4-40a0-a47b-eae3f8e8c6ce",
   "metadata": {},
   "outputs": [
    {
     "data": {
      "text/plain": [
       "ChatCompletion(id='chatcmpl-ASje3cFHZFBSvxpPgJ4K7gkCiTPbT', choices=[Choice(finish_reason='stop', index=0, logprobs=None, message=ChatCompletionMessage(content='- Telemedicine provides increased access to healthcare for rural populations by allowing patients to consult with healthcare providers remotely, overcoming geographical barriers.\\n- Reduced waiting times for consultations enable patients to receive timely care and treatment, especially important during the COVID-19 pandemic when in-person visits may be limited.\\n- Improved patient monitoring through remote care allows for more frequent check-ins and real-time updates on patient health, leading to better outcomes and more personalized care.', refusal=None, role='assistant', audio=None, function_call=None, tool_calls=None))], created=1731412007, model='gpt-3.5-turbo-0125', object='chat.completion', service_tier=None, system_fingerprint=None, usage=CompletionUsage(completion_tokens=86, prompt_tokens=101, total_tokens=187, completion_tokens_details=CompletionTokensDetails(audio_tokens=0, reasoning_tokens=0, accepted_prediction_tokens=0, rejected_prediction_tokens=0), prompt_tokens_details=PromptTokensDetails(audio_tokens=0, cached_tokens=0)))"
      ]
     },
     "execution_count": 14,
     "metadata": {},
     "output_type": "execute_result"
    }
   ],
   "source": [
    "response"
   ]
  },
  {
   "cell_type": "code",
   "execution_count": 16,
   "id": "219333ba-1899-4376-a8fd-f26639911680",
   "metadata": {},
   "outputs": [
    {
     "name": "stdout",
     "output_type": "stream",
     "text": [
      "- Telemedicine provides increased access to healthcare for rural populations by allowing patients to consult with healthcare providers remotely, overcoming geographical barriers.\n",
      "- Reduced waiting times for consultations enable patients to receive timely care and treatment, especially important during the COVID-19 pandemic when in-person visits may be limited.\n",
      "- Improved patient monitoring through remote care allows for more frequent check-ins and real-time updates on patient health, leading to better outcomes and more personalized care.\n"
     ]
    }
   ],
   "source": [
    "print(response.choices[0].message.content)"
   ]
  },
  {
   "cell_type": "code",
   "execution_count": null,
   "id": "e319c209-2752-433a-a663-0225f327de48",
   "metadata": {},
   "outputs": [],
   "source": []
  }
 ],
 "metadata": {
  "kernelspec": {
   "display_name": "Python 3 (ipykernel)",
   "language": "python",
   "name": "python3"
  },
  "language_info": {
   "codemirror_mode": {
    "name": "ipython",
    "version": 3
   },
   "file_extension": ".py",
   "mimetype": "text/x-python",
   "name": "python",
   "nbconvert_exporter": "python",
   "pygments_lexer": "ipython3",
   "version": "3.12.7"
  }
 },
 "nbformat": 4,
 "nbformat_minor": 5
}
