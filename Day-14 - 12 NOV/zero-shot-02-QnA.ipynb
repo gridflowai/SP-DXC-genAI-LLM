{
 "cells": [
  {
   "cell_type": "markdown",
   "id": "de516cb2-b9ff-4eb0-b1d3-c715e406f91f",
   "metadata": {},
   "source": [
    "-------------------------\n",
    "#### prompt types\n",
    "-----------------------\n",
    "\n",
    "- Zero Shot prompting\n",
    "    - we are using a pre-trained model\n",
    "    - GPT 3.5\n",
    "- Text Generation\n",
    "- Question Answering (QnA)\n",
    "- Summarization\n",
    "- LT"
   ]
  },
  {
   "cell_type": "code",
   "execution_count": 2,
   "id": "4996c583-340a-4144-a2b6-64ce4675c08c",
   "metadata": {},
   "outputs": [],
   "source": [
    "import openai\n",
    "from openai import OpenAI\n",
    "import json"
   ]
  },
  {
   "cell_type": "code",
   "execution_count": 3,
   "id": "45b6c1af-9d27-4ae1-9b28-88e1f30a4508",
   "metadata": {},
   "outputs": [],
   "source": [
    "client = OpenAI(\n",
    "    # defaults to os.environ.get(\"OPENAI_API_KEY\")\n",
    "    # api_key = openai_api_key\n",
    ")"
   ]
  },
  {
   "cell_type": "markdown",
   "id": "3b9fa9e8-8230-4003-be58-f10c9dd334a2",
   "metadata": {},
   "source": [
    "#### define a function for QnA"
   ]
  },
  {
   "cell_type": "code",
   "execution_count": 4,
   "id": "57a66b6d-c506-46cf-9de7-edc20c68317d",
   "metadata": {},
   "outputs": [],
   "source": [
    "def question_answering(question, context):\n",
    "    prompt = f\"Q: {question}\\nContext: {context}\\nA:\"\n",
    "\n",
    "    response = client.chat.completions.create(\n",
    "            model    = 'gpt-3.5-turbo',\n",
    "            messages = [\n",
    "                {\"role\" : \"system\", \"content\": \"You are a helpful expert\"},\n",
    "                {\"role\" : \"user\",   \"content\": f\"{prompt}\"}\n",
    "            ],\n",
    "            max_tokens  = 500,\n",
    "            temperature = 0.9,\n",
    "            n           = 1\n",
    "    )\n",
    "\n",
    "    # extract the the answer from the response\n",
    "    answer = response.choices[0].message.content\n",
    "\n",
    "    return answer"
   ]
  },
  {
   "cell_type": "markdown",
   "id": "974dacd7-dc89-44ac-b99b-7b1108c9dec3",
   "metadata": {},
   "source": [
    "Example - 01"
   ]
  },
  {
   "cell_type": "code",
   "execution_count": 5,
   "id": "1fbf3f2a-7fb1-4021-8048-a41b72d485b7",
   "metadata": {},
   "outputs": [],
   "source": [
    "context = '''patient seems to be stable but 5 days ago she suspected highly recurrent symptoms'''"
   ]
  },
  {
   "cell_type": "code",
   "execution_count": 6,
   "id": "68781034-338f-41c5-9971-0282952930f5",
   "metadata": {},
   "outputs": [],
   "source": [
    "question = '''Is the patient's condition stable presently\" with a label prefix \"Answer\" '''"
   ]
  },
  {
   "cell_type": "code",
   "execution_count": 7,
   "id": "34904f82-faf2-4b02-8f9f-c06ef9843807",
   "metadata": {},
   "outputs": [
    {
     "name": "stdout",
     "output_type": "stream",
     "text": [
      "Answer: The patient's condition is currently stable, although it is noted that she experienced highly recurrent symptoms 5 days ago. It would be important to monitor her closely to ensure ongoing stability.\n"
     ]
    }
   ],
   "source": [
    "response = question_answering(question, context)\n",
    "print(response)"
   ]
  },
  {
   "cell_type": "markdown",
   "id": "81a19409-aba1-4c8f-b8fa-1ff6d137b46f",
   "metadata": {},
   "source": [
    "Ex - 02"
   ]
  },
  {
   "cell_type": "code",
   "execution_count": 8,
   "id": "6715e84a-5ec8-4a9a-a2bf-4995c8b4efa8",
   "metadata": {},
   "outputs": [],
   "source": [
    "context = '''positive for TTF 1, and napsin A, suggestive of lung adenocarcinoma. \n",
    "Molecular testing was performed, that did not reveal actionable therapeutically targetable mutations. \n",
    "She underwent chemotherapy and radiation therapy, to this paraspinal mass, administered concurrently \n",
    "with carboplatin and paclitaxel. She was then treated with 4 cycles of systemic therapy with carboplatin, \n",
    "and pemetrexed, and then'''\n",
    "\n",
    "question = '''Did the patient undergo radiation therapy? Your answer should be either \n",
    "'Yes' or 'NO' or \"Not sure\" with a label prefix \"Answer\" '''"
   ]
  },
  {
   "cell_type": "code",
   "execution_count": 9,
   "id": "d0ba5aba-d3a0-46b9-8b68-0a660fe696c3",
   "metadata": {},
   "outputs": [
    {
     "name": "stdout",
     "output_type": "stream",
     "text": [
      "Answer: Yes\n"
     ]
    }
   ],
   "source": [
    "response = question_answering(question, context)\n",
    "print(response)"
   ]
  },
  {
   "cell_type": "markdown",
   "id": "8431d812-6c83-404e-bdf6-9833b95f9927",
   "metadata": {},
   "source": [
    "Ex - 03"
   ]
  },
  {
   "cell_type": "code",
   "execution_count": 10,
   "id": "8a2d319e-c500-4cab-88d5-b84f99966336",
   "metadata": {},
   "outputs": [
    {
     "name": "stdout",
     "output_type": "stream",
     "text": [
      "Answer: Yes\n",
      "\n",
      "Explanation: The patient has been recommended radiation therapy to the brain in the form of gamma knife therapy, as mentioned in the medical report.\n"
     ]
    }
   ],
   "source": [
    "context = '''consistent with parenchymal and potential leptomeningeal metastatic disease. \n",
    "There was no vasogenic edema shift or effect. A PET-CT scan also showed evidence of \n",
    "progression of disease. She met with Radiation Oncology, who has recommended radiation \n",
    "therapy to the brain, in the form of gamma knife therapy. She is consulting with other doctors if she really needs \n",
    "to undergo the radiation therapy\n",
    "'''\n",
    "\n",
    "question = '''Did the patient undergo radiation therapy ever? Your answer should be either \n",
    "'Yes' or 'NO' or \"Not sure\" with a label prefix \"Answer\" \n",
    "\n",
    "Also display \"Explanation : \" after displaying output of the question\n",
    "'''\n",
    "\n",
    "response = question_answering(question, context)\n",
    "print(response)"
   ]
  },
  {
   "cell_type": "markdown",
   "id": "e395a41f-ba11-4482-85f6-d3bedfea5934",
   "metadata": {},
   "source": [
    "Example - 04"
   ]
  },
  {
   "cell_type": "code",
   "execution_count": 11,
   "id": "72e80467-82dd-4749-aa18-5e005ae1c278",
   "metadata": {},
   "outputs": [],
   "source": [
    "context = '''\n",
    "11-12 o'clock position of left breast, 6 CFN. Enlarged axillary lymph nodes were noted. \n",
    "Her right breast and axilla were benign. A small 8 mm lesion was noted in the left hepatic \n",
    "lobe that appeared benign. A chest CT scan performed that same day showed enlarged \n",
    "lymph nodes in the left axilla, no lytic or blastic disease within the bones, \n",
    "and an 8 mm benign appearing hemangioma in the liver. \n",
    "\n",
    "On 6/24/2020 left breast ultrasound biopsy was performed. \n",
    "This showed infiltrating ductal carcinoma that was grade 3 and triple negative.\n",
    "Several weeks ago she had negative staging abdominal/pelvic CT and bone scan. \n",
    "\n",
    "A small left hepatic lesion was found and was felt to be consistent with a hemangioma. \n",
    "\n",
    "She has had a Port-A-Cath placed.\n",
    "1 again reviewed and discussed extensively with the patient, and with her husband, \n",
    "her course to date. \n",
    "\n",
    "We outlined her node positive disease and probability that she has TNBC. \n",
    "We discussed the recommendation of neoadjuvant, and within this context discussed \n",
    "standard neoadjuvant chemotherapy, including traditional dose-dense AC followed by weekly paclitaxel, \n",
    "neoadjuvant chemo immunotherapy per the KEYNOTE-522 trial, and an open clinical trial, \n",
    "NSABP B-59. \n",
    "\n",
    "For various reasons, she does not wish to pursue treatment on B-59. \n",
    "\n",
    "We discussed the potential of delivering chemotherapy plus pembrolizumab per the KEYNOTE-522 trial, \n",
    "pending insurance approval. We reviewed potential side effects of chemotherapy including, \n",
    "but not limited to cytopenias, nausea, alopecia, and neuropathy. \n",
    "\n",
    "We discussed possible untoward effects of immunotherapy including autoimmune diseases. \n",
    "Through this discussion she provided consent to proceed.\n",
    "'''"
   ]
  },
  {
   "cell_type": "code",
   "execution_count": 14,
   "id": "c5a200d1-8cb4-4e6e-981a-97e9a3e3ee64",
   "metadata": {},
   "outputs": [
    {
     "name": "stdout",
     "output_type": "stream",
     "text": [
      "- Name of the medication: AC (Doxorubicin/Cyclophosphamide)\n",
      "  Dosage: Standard dose\n",
      "  Frequency: Every 2-3 weeks\n",
      "\n",
      "- Name of the medication: Paclitaxel\n",
      "  Dosage: Weekly\n",
      "  Frequency: Weekly\n",
      "\n",
      "- Name of the medication: Pembrolizumab\n",
      "  Dosage: Per the KEYNOTE-522 trial\n",
      "  Frequency: Pending insurance approval\n"
     ]
    }
   ],
   "source": [
    "question = '''List out the names of the medications prescribed to the patients, in a bulleted text form\n",
    "in the format below\n",
    "\n",
    "Name of the medication: \n",
    "Dosage :\n",
    "Frequency :\n",
    "'''\n",
    "\n",
    "response = question_answering(question, context)\n",
    "print(response)"
   ]
  },
  {
   "cell_type": "code",
   "execution_count": 28,
   "id": "1eee0fe8-d20f-477f-9190-d9e53e77bd44",
   "metadata": {},
   "outputs": [],
   "source": [
    "questions_list = [\n",
    "    'What is the diagnosis found in the left breast after the biopsy?',\n",
    "    'Where was the primary lesion located in the patient’s left breast?',\n",
    "    'What findings were noted in the left axillary region?',\n",
    "    'What was the result of the chest CT scan performed on the same day?',\n",
    "    'What were the findings regarding the small lesion in the liver?'\n",
    "]"
   ]
  },
  {
   "cell_type": "markdown",
   "id": "3f5ed40b-da0d-4e78-9099-8c63a8970ff7",
   "metadata": {},
   "source": [
    "#### Sentiment Analysis\n",
    "\n",
    "- classification (positive or negative or neutral)"
   ]
  },
  {
   "cell_type": "code",
   "execution_count": 36,
   "id": "3a2b27e8-cc07-4a83-9c39-6e2a10f5356c",
   "metadata": {},
   "outputs": [],
   "source": [
    "def get_completion(prompt, model=\"gpt-3.5-turbo\"):\n",
    "    \n",
    "    messages = [{\"role\": \"user\", \"content\": prompt}]\n",
    "    \n",
    "    response = client.chat.completions.create(\n",
    "        model      = model,\n",
    "        messages   = messages,\n",
    "        temperature= 0, # this is the degree of randomness of the model's output\n",
    "    )\n",
    "    return response.choices[0].message.content"
   ]
  },
  {
   "cell_type": "code",
   "execution_count": 37,
   "id": "db8bc16f-b7e3-4404-a18f-7e6c26b7b77c",
   "metadata": {},
   "outputs": [],
   "source": [
    "lamp_review = \"\"\"\n",
    "Needed a nice lamp for my bedroom, and this one had \\\n",
    "additional storage and not too high of a price point. \\\n",
    "Got it fast.  The string to our lamp broke during the \\\n",
    "transit and the company happily sent over a new one. \\\n",
    "Came within a few days as well. It was easy to put \\\n",
    "together.  I had a missing part, so I contacted their \\\n",
    "support and they very quickly got me the missing piece! \\\n",
    "Lumina seems to me to be a great company that cares \\\n",
    "about their customers and products!!\n",
    "\"\"\""
   ]
  },
  {
   "cell_type": "code",
   "execution_count": 38,
   "id": "6e6c3799-4046-40fa-97a6-ec7e4a5e8656",
   "metadata": {},
   "outputs": [],
   "source": [
    "prompt = f\"\"\"\n",
    "\n",
    "What is the sentiment of the following product review, which is delimited with triple backticks?\n",
    "\n",
    "Review text: '''{lamp_review}'''\n",
    "\n",
    "\"\"\""
   ]
  },
  {
   "cell_type": "code",
   "execution_count": 39,
   "id": "44920cc0-1643-4213-b74f-5cadecada550",
   "metadata": {},
   "outputs": [
    {
     "name": "stdout",
     "output_type": "stream",
     "text": [
      "The sentiment of the review is positive.\n"
     ]
    }
   ],
   "source": [
    "response = get_completion(prompt)\n",
    "print(response)"
   ]
  },
  {
   "cell_type": "markdown",
   "id": "6ceae878-1847-443b-85e7-aa9ce9e67660",
   "metadata": {},
   "source": [
    "Ex - 02"
   ]
  },
  {
   "cell_type": "code",
   "execution_count": 40,
   "id": "1d471f25-b189-464b-ab9f-7e93ade10c1c",
   "metadata": {},
   "outputs": [
    {
     "data": {
      "text/plain": [
       "'The sentiment of the review is disappointment.'"
      ]
     },
     "execution_count": 40,
     "metadata": {},
     "output_type": "execute_result"
    }
   ],
   "source": [
    "context = \"\"\"\n",
    "This film should be brilliant. It sounds like a great plot, the actors are first grade, and \n",
    "the supporting cast is good as well, and Stallone is attempting to deliver a good performance. \n",
    "However, it can’t hold up.\n",
    "\"\"\"\n",
    "\n",
    "prompt = f\"\"\"\n",
    "\n",
    "What is the sentiment of the  review, which is delimited with triple backticks?\n",
    "\n",
    "Review text: '''{context}'''\n",
    "\n",
    "\"\"\"\n",
    "\n",
    "response = get_completion(prompt)\n",
    "response"
   ]
  },
  {
   "cell_type": "code",
   "execution_count": 41,
   "id": "1fcf1366-482e-4521-99ed-3d3e904f015d",
   "metadata": {},
   "outputs": [
    {
     "name": "stdout",
     "output_type": "stream",
     "text": [
      "The sentiment of the review is negative.\n"
     ]
    }
   ],
   "source": [
    "context = \"\"\"\n",
    "How can anyone sit through this movie?\n",
    "\"\"\"\n",
    "\n",
    "prompt = f\"\"\"\n",
    "\n",
    "What is the sentiment of the following product review, which is delimited with triple backticks?\n",
    "\n",
    "Review text: '''{context}'''\n",
    "\n",
    "\"\"\"\n",
    "\n",
    "response = get_completion(prompt)\n",
    "print(response)"
   ]
  },
  {
   "cell_type": "code",
   "execution_count": 42,
   "id": "ab0dfebe-c50e-47f9-ba33-6982349b7b9e",
   "metadata": {},
   "outputs": [
    {
     "name": "stdout",
     "output_type": "stream",
     "text": [
      "The sentiment of the review is negative.\n"
     ]
    }
   ],
   "source": [
    "context = \"\"\"\n",
    "My flight’s been delayed. Brilliant! \n",
    "\n",
    "\"\"\"\n",
    "\n",
    "prompt = f\"\"\"\n",
    "\n",
    "What is the sentiment of the following product review, which is delimited with triple backticks?\n",
    "\n",
    "Review text: '''{context}'''\n",
    "\n",
    "\"\"\"\n",
    "\n",
    "response = get_completion(prompt)\n",
    "print(response)"
   ]
  },
  {
   "cell_type": "code",
   "execution_count": 43,
   "id": "cac8dd93-3ff3-49ce-892c-42dd611aa915",
   "metadata": {},
   "outputs": [
    {
     "name": "stdout",
     "output_type": "stream",
     "text": [
      "The sentiment of the review is positive.\n"
     ]
    }
   ],
   "source": [
    "context = \"\"\"\n",
    "My flight’s been delayed. It is great for me as I am running late! \n",
    "\n",
    "\"\"\"\n",
    "\n",
    "prompt = f\"\"\"\n",
    "\n",
    "What is the sentiment of the following product review, which is delimited with triple backticks?\n",
    "\n",
    "Review text: '''{context}'''\n",
    "\n",
    "\"\"\"\n",
    "\n",
    "response = get_completion(prompt)\n",
    "print(response)"
   ]
  },
  {
   "cell_type": "code",
   "execution_count": 44,
   "id": "74e85cd8-f44b-4fb5-8df1-450052d1d2a9",
   "metadata": {},
   "outputs": [
    {
     "name": "stdout",
     "output_type": "stream",
     "text": [
      "No\n"
     ]
    }
   ],
   "source": [
    "prompt = f\"\"\"\n",
    "Is the writer of the following review expressing anger?\\\n",
    "The review is delimited with triple backticks. \\\n",
    "Give your answer as either yes or no.\n",
    "\n",
    "Review text: '''{lamp_review}'''\n",
    "\"\"\"\n",
    "response = get_completion(prompt)\n",
    "print(response)"
   ]
  },
  {
   "cell_type": "code",
   "execution_count": 45,
   "id": "c7742bd7-9615-4a5e-8a07-b6871985812e",
   "metadata": {},
   "outputs": [
    {
     "name": "stdout",
     "output_type": "stream",
     "text": [
      "The sentiment of the movie review is positive, as the reviewer found the story unpredictable.\n"
     ]
    }
   ],
   "source": [
    "review = \"\"\"\n",
    "\n",
    "The movie story was unpredictable\n",
    "\n",
    "\"\"\"\n",
    "\n",
    "prompt = f\"\"\"\n",
    "What is the sentiment of the following movie review, \n",
    "which is delimited with triple backticks?\n",
    "\n",
    "Review text: '''{review}'''\n",
    "\"\"\"\n",
    "\n",
    "response = get_completion(prompt)\n",
    "print(response)"
   ]
  },
  {
   "cell_type": "code",
   "execution_count": 46,
   "id": "70d9d3aa-eaa0-4b5a-9c3b-3366f10629bb",
   "metadata": {},
   "outputs": [
    {
     "name": "stdout",
     "output_type": "stream",
     "text": [
      "The sentiment of the review is negative.\n"
     ]
    }
   ],
   "source": [
    "review = \"\"\"\n",
    "\n",
    "The steering of the car is unpredictable. \n",
    "\n",
    "\"\"\"\n",
    "\n",
    "prompt = f\"\"\"\n",
    "What is the sentiment of the following vehicle review, \n",
    "which is delimited with triple backticks?\n",
    "\n",
    "Review text: '''{review}'''\n",
    "\"\"\"\n",
    "response = get_completion(prompt)\n",
    "print(response)"
   ]
  },
  {
   "cell_type": "code",
   "execution_count": 47,
   "id": "84d50198-3cee-434b-85ff-fea4aff0cc61",
   "metadata": {},
   "outputs": [
    {
     "name": "stdout",
     "output_type": "stream",
     "text": [
      "Sentiment : Neutral\n"
     ]
    }
   ],
   "source": [
    "review = \"\"\"\n",
    "\n",
    "He thinks he is a Satyawadi Harishchandra. \n",
    "\n",
    "\"\"\"\n",
    "\n",
    "prompt = f\"\"\"\n",
    "What is the sentiment of the following review, which is delimited with triple backticks? \n",
    "\n",
    "State the output as Sentiment : <output>\n",
    "\n",
    "Review text: '''{review}'''\n",
    "\"\"\"\n",
    "response = get_completion(prompt)\n",
    "print(response)"
   ]
  },
  {
   "cell_type": "code",
   "execution_count": 49,
   "id": "fcf170e3-3ed8-4a7b-84eb-1929bcf6cef0",
   "metadata": {},
   "outputs": [
    {
     "name": "stdout",
     "output_type": "stream",
     "text": [
      "Sentiment: Negative\n"
     ]
    }
   ],
   "source": [
    "review = \"\"\"\n",
    "\n",
    "He thinks he is a Gandhi. \n",
    "\n",
    "\"\"\"\n",
    "\n",
    "prompt = f\"\"\"\n",
    "What is the sentiment of the following review, which is delimited with triple backticks? \n",
    "\n",
    "State the output as Sentiment : <output>\n",
    "\n",
    "Review text: '''{review}'''\n",
    "\"\"\"\n",
    "response = get_completion(prompt)\n",
    "print(response)"
   ]
  },
  {
   "cell_type": "code",
   "execution_count": 50,
   "id": "c93843f2-1f83-4e0b-b132-7fa87e070f9f",
   "metadata": {},
   "outputs": [
    {
     "name": "stdout",
     "output_type": "stream",
     "text": [
      "Sentiment : Negative\n"
     ]
    }
   ],
   "source": [
    "review = \"\"\"\n",
    "\n",
    "I hate love stories.\n",
    "\n",
    "\"\"\"\n",
    "\n",
    "prompt = f\"\"\"\n",
    "What is the sentiment of the following review, which is delimited with triple backticks? \n",
    "\n",
    "State the output as Sentiment : <output>\n",
    "\n",
    "Review text: '''{review}'''\n",
    "\"\"\"\n",
    "response = get_completion(prompt)\n",
    "print(response)"
   ]
  },
  {
   "cell_type": "code",
   "execution_count": 51,
   "id": "fe7c2ad6-627f-4f72-a7db-77479ce64902",
   "metadata": {},
   "outputs": [
    {
     "name": "stdout",
     "output_type": "stream",
     "text": [
      "Sentiment : Positive\n"
     ]
    }
   ],
   "source": [
    "review = \"\"\"\n",
    "\n",
    "I love violent stories.\n",
    "\n",
    "\"\"\"\n",
    "\n",
    "prompt = f\"\"\"\n",
    "What is the sentiment of the following review, which is delimited with triple backticks? \n",
    "\n",
    "State the output as Sentiment : <output>\n",
    "\n",
    "Review text: '''{review}'''\n",
    "\"\"\"\n",
    "response = get_completion(prompt)\n",
    "print(response)"
   ]
  },
  {
   "cell_type": "code",
   "execution_count": 53,
   "id": "03c69190-67b0-489a-8779-78283c6460f7",
   "metadata": {},
   "outputs": [
    {
     "name": "stdout",
     "output_type": "stream",
     "text": [
      "Sentiment : Positive\n"
     ]
    }
   ],
   "source": [
    "review = \"\"\"\n",
    "\n",
    "I love communal politics.\n",
    "\n",
    "\"\"\"\n",
    "\n",
    "prompt = f\"\"\"\n",
    "What is the sentiment of the following review, which is delimited with triple backticks? \n",
    "\n",
    "State the output as Sentiment : <output>\n",
    "\n",
    "Review text: '''{review}'''\n",
    "\"\"\"\n",
    "response = get_completion(prompt)\n",
    "print(response)"
   ]
  },
  {
   "cell_type": "code",
   "execution_count": null,
   "id": "7c4033a1-4a85-4434-8185-d2d2798b6497",
   "metadata": {},
   "outputs": [],
   "source": []
  }
 ],
 "metadata": {
  "kernelspec": {
   "display_name": "Python 3 (ipykernel)",
   "language": "python",
   "name": "python3"
  },
  "language_info": {
   "codemirror_mode": {
    "name": "ipython",
    "version": 3
   },
   "file_extension": ".py",
   "mimetype": "text/x-python",
   "name": "python",
   "nbconvert_exporter": "python",
   "pygments_lexer": "ipython3",
   "version": "3.12.7"
  }
 },
 "nbformat": 4,
 "nbformat_minor": 5
}
