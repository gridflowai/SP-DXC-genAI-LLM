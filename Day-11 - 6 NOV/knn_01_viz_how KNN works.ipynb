{
 "cells": [
  {
   "cell_type": "markdown",
   "id": "17b6f7b9-9a98-4af5-b4ae-893173741988",
   "metadata": {},
   "source": [
    "--------------------------\n",
    "#### visualize how KNN works\n",
    "-------------------"
   ]
  },
  {
   "cell_type": "code",
   "execution_count": 1,
   "id": "10644c25-6e19-456c-8f37-2c157ae700d5",
   "metadata": {},
   "outputs": [],
   "source": [
    "import pandas as pd\n",
    "import numpy as np\n",
    "\n",
    "# import plotting libraries\n",
    "import matplotlib.pyplot as plt\n",
    "from matplotlib.colors import ListedColormap\n",
    "\n",
    "from sklearn.neighbors import NearestNeighbors  # this is not a classifier"
   ]
  },
  {
   "cell_type": "code",
   "execution_count": 36,
   "id": "90886ca0-1af7-4f39-abec-d1a24b6a26a2",
   "metadata": {},
   "outputs": [],
   "source": [
    "X = np.random.rand(40, 2)\n",
    "y = np.random.choice([0, 1], size=40)"
   ]
  },
  {
   "cell_type": "code",
   "execution_count": 37,
   "id": "d84c7112-75a2-415d-89b0-cb869fa2aa42",
   "metadata": {},
   "outputs": [],
   "source": [
    "#X, y"
   ]
  },
  {
   "cell_type": "code",
   "execution_count": 38,
   "id": "3ad162c2-884a-460f-9f29-9305d9223919",
   "metadata": {},
   "outputs": [
    {
     "data": {
      "text/plain": [
       "Text(0.5, 1.0, 'Data Points')"
      ]
     },
     "execution_count": 38,
     "metadata": {},
     "output_type": "execute_result"
    },
    {
     "data": {
      "image/png": "[encoded data removed]",
      "text/plain": [
       "<Figure size 640x480 with 1 Axes>"
      ]
     },
     "metadata": {},
     "output_type": "display_data"
    }
   ],
   "source": [
    "plt.scatter(X[:, 0], X[:, 1], c=y, s=10)\n",
    "# Set plot labels and legend\n",
    "plt.xlabel('Feature 1')\n",
    "plt.ylabel('Feature 2')\n",
    "plt.title('Data Points', fontsize=8)"
   ]
  },
  {
   "cell_type": "code",
   "execution_count": 39,
   "id": "d5330ac8-e441-44b0-9ec0-c6253e9f5e52",
   "metadata": {},
   "outputs": [],
   "source": [
    "k = 5    # number of neighbors\n",
    "\n",
    "nbrs = NearestNeighbors(n_neighbors=k).fit(X)"
   ]
  },
  {
   "cell_type": "code",
   "execution_count": 40,
   "id": "d06580f9-b7b3-4a17-8cee-080354b334fd",
   "metadata": {},
   "outputs": [],
   "source": [
    "query_point = np.array([[0.4, 0.6]])  # Example query point"
   ]
  },
  {
   "cell_type": "code",
   "execution_count": 41,
   "id": "002c03a7-4738-4500-8e5b-aef54b204d17",
   "metadata": {},
   "outputs": [
    {
     "data": {
      "text/plain": [
       "(array([[0.02701308, 0.04358276, 0.0674319 , 0.13194624, 0.15519897]]),\n",
       " array([[15, 27, 18, 30, 22]], dtype=int64))"
      ]
     },
     "execution_count": 41,
     "metadata": {},
     "output_type": "execute_result"
    }
   ],
   "source": [
    "nbrs.kneighbors(query_point)"
   ]
  },
  {
   "cell_type": "code",
   "execution_count": 42,
   "id": "430a0bca-b15b-4d70-ae71-e074bbbecb22",
   "metadata": {},
   "outputs": [
    {
     "data": {
      "text/plain": [
       "array([[0.92189256, 0.60282146],\n",
       "       [0.4750053 , 0.38550277],\n",
       "       [0.5159389 , 0.93865924],\n",
       "       [0.60140379, 0.35309146],\n",
       "       [0.6479713 , 0.0731224 ],\n",
       "       [0.4002897 , 0.98956006],\n",
       "       [0.86565629, 0.99888101],\n",
       "       [0.16661214, 0.14518578],\n",
       "       [0.17912547, 0.04534466],\n",
       "       [0.15418649, 0.85810864],\n",
       "       [0.71247443, 0.05027953],\n",
       "       [0.08047791, 0.07904107],\n",
       "       [0.5727985 , 0.1057237 ],\n",
       "       [0.07053691, 0.95952916],\n",
       "       [0.19774217, 0.90875799],\n",
       "       [0.4224287 , 0.61505523],\n",
       "       [0.44747833, 0.25572084],\n",
       "       [0.00632655, 0.87472336],\n",
       "       [0.46559112, 0.58435182],\n",
       "       [0.65639645, 0.47214455],\n",
       "       [0.69328096, 0.76101915],\n",
       "       [0.80481961, 0.81800478],\n",
       "       [0.25215681, 0.64721348],\n",
       "       [0.99107441, 0.4901121 ],\n",
       "       [0.26401275, 0.42314248],\n",
       "       [0.01581581, 0.82199141],\n",
       "       [0.74573932, 0.03023449],\n",
       "       [0.35727596, 0.59139109],\n",
       "       [0.17655981, 0.97920113],\n",
       "       [0.89038517, 0.87504557],\n",
       "       [0.50328376, 0.51788863],\n",
       "       [0.19771616, 0.60991377],\n",
       "       [0.17705964, 0.42123355],\n",
       "       [0.31479079, 0.36999446],\n",
       "       [0.68529793, 0.39975535],\n",
       "       [0.2427105 , 0.30272469],\n",
       "       [0.45744047, 0.06919707],\n",
       "       [0.62888193, 0.72295674],\n",
       "       [0.09879184, 0.79233657],\n",
       "       [0.73400073, 0.3468656 ]])"
      ]
     },
     "execution_count": 42,
     "metadata": {},
     "output_type": "execute_result"
    }
   ],
   "source": [
    "X"
   ]
  },
  {
   "cell_type": "code",
   "execution_count": 43,
   "id": "4c466267-237f-4d61-9687-885595ac6cdc",
   "metadata": {},
   "outputs": [],
   "source": [
    "distances, indices = nbrs.kneighbors(query_point)"
   ]
  },
  {
   "cell_type": "code",
   "execution_count": 44,
   "id": "826c85c1-e2b4-43ac-9a61-e5725e6ccf74",
   "metadata": {},
   "outputs": [
    {
     "data": {
      "text/plain": [
       "array([[0.02701308, 0.04358276, 0.0674319 , 0.13194624, 0.15519897]])"
      ]
     },
     "execution_count": 44,
     "metadata": {},
     "output_type": "execute_result"
    }
   ],
   "source": [
    "distances"
   ]
  },
  {
   "cell_type": "code",
   "execution_count": 45,
   "id": "50c7d45c-246f-4f98-9479-08cdaaac525e",
   "metadata": {},
   "outputs": [
    {
     "data": {
      "text/plain": [
       "array([0.02701308, 0.04358276, 0.0674319 , 0.13194624, 0.15519897])"
      ]
     },
     "execution_count": 45,
     "metadata": {},
     "output_type": "execute_result"
    }
   ],
   "source": [
    "distances[0]"
   ]
  },
  {
   "cell_type": "code",
   "execution_count": 46,
   "id": "91e063d8-0474-423f-8a28-6801a441263b",
   "metadata": {},
   "outputs": [
    {
     "data": {
      "text/plain": [
       "0.155198974634716"
      ]
     },
     "execution_count": 46,
     "metadata": {},
     "output_type": "execute_result"
    }
   ],
   "source": [
    "distances[0][-1]"
   ]
  },
  {
   "cell_type": "code",
   "execution_count": 47,
   "id": "417d3ef9-3ca4-444c-b90d-8ba0b169adc0",
   "metadata": {},
   "outputs": [],
   "source": [
    "radius = distances[0][-1]"
   ]
  },
  {
   "cell_type": "code",
   "execution_count": 48,
   "id": "3dc3804a-9837-446d-b6c3-fc398b868fb4",
   "metadata": {},
   "outputs": [
    {
     "data": {
      "text/plain": [
       "array([[15, 27, 18, 30, 22]], dtype=int64)"
      ]
     },
     "execution_count": 48,
     "metadata": {},
     "output_type": "execute_result"
    }
   ],
   "source": [
    "indices"
   ]
  },
  {
   "cell_type": "code",
   "execution_count": 49,
   "id": "876bb90d-bf56-4000-a01b-7fcbc284f101",
   "metadata": {},
   "outputs": [
    {
     "data": {
      "text/plain": [
       "array([0, 0, 0, 1, 0, 1, 0, 1, 1, 0, 1, 0, 1, 1, 1, 1, 1, 1, 1, 1, 1, 0,\n",
       "       1, 0, 0, 0, 0, 0, 1, 1, 0, 1, 0, 0, 1, 0, 0, 1, 1, 1])"
      ]
     },
     "execution_count": 49,
     "metadata": {},
     "output_type": "execute_result"
    }
   ],
   "source": [
    "y"
   ]
  },
  {
   "cell_type": "code",
   "execution_count": 50,
   "id": "9bb4a1ea-6f9e-4ab2-81d2-92be7d182cca",
   "metadata": {},
   "outputs": [],
   "source": [
    "nearest_neighbor_labels = y[indices]"
   ]
  },
  {
   "cell_type": "code",
   "execution_count": 51,
   "id": "f62b8996-09b8-4c2b-bdc8-580f05a0b2ff",
   "metadata": {},
   "outputs": [
    {
     "name": "stdout",
     "output_type": "stream",
     "text": [
      "Predicted label for the query point: 1\n"
     ]
    }
   ],
   "source": [
    "# Perform a simple \"voting\" for the prediction\n",
    "prediction = np.bincount(nearest_neighbor_labels.flatten()).argmax()\n",
    "\n",
    "print(f\"Predicted label for the query point: {prediction}\")"
   ]
  },
  {
   "cell_type": "code",
   "execution_count": 53,
   "id": "d5dda09c-6cad-458d-bbff-e62a8596f9dd",
   "metadata": {},
   "outputs": [
    {
     "data": {
      "image/png": "[encoded data removed]",
      "text/plain": [
       "<Figure size 640x480 with 1 Axes>"
      ]
     },
     "metadata": {},
     "output_type": "display_data"
    }
   ],
   "source": [
    "# Plot a circle with the query point as the center\n",
    "circle = plt.Circle(query_point[0], \n",
    "                    radius, \n",
    "                    color='red', \n",
    "                    fill=False)\n",
    "plt.gca().add_patch(circle)\n",
    "\n",
    "# Highlight the query point\n",
    "# Create a scatter plot of the data points\n",
    "\n",
    "# Create a colormap with distinct colors for each class\n",
    "cmap = ListedColormap(['r', 'g'])  # Red, Green\n",
    "\n",
    "colors = {0: 'Red', 1: 'Green'}\n",
    "\n",
    "plt.scatter(X[:, 0], X[:, 1], c=y, cmap=cmap, s=25)\n",
    "\n",
    "plt.scatter(query_point[:, 0], \n",
    "            query_point[:, 1], \n",
    "            color='red', \n",
    "            marker='x', \n",
    "            s=50, \n",
    "            label='Query Point')\n",
    "\n",
    "# Annotate each data point\n",
    "# for i, (x_val, y_val) in enumerate(X):\n",
    "#     plt.annotate(text      = f'{x_val:.2f}, {y_val:.2f}', \n",
    "#                  xy        = (x_val, y_val), \n",
    "#                  textcoords= \"offset points\", \n",
    "#                  xytext    = (0,5), \n",
    "#                  ha        = 'center', \n",
    "#                  fontsize  = 4, \n",
    "#                  alpha     = .5,\n",
    "#                  color     = 'black')\n",
    "\n",
    "# Set plot labels and legend\n",
    "plt.xlabel('Feature 1')\n",
    "plt.ylabel('Feature 2')\n",
    "plt.title('KNN Visualization with Circle of Nearest Neighbors\\nPrediction = {}'.format(colors[prediction]), fontsize=8)\n",
    "plt.legend(loc='lower right')\n",
    "\n",
    "# Show the plot\n",
    "plt.axis('equal')  # Equal aspect ratio for better visualization\n",
    "plt.grid()"
   ]
  },
  {
   "cell_type": "code",
   "execution_count": null,
   "id": "cca16d30-a792-461c-8ae8-2fc069c51371",
   "metadata": {},
   "outputs": [],
   "source": []
  }
 ],
 "metadata": {
  "kernelspec": {
   "display_name": "Python 3 (ipykernel)",
   "language": "python",
   "name": "python3"
  },
  "language_info": {
   "codemirror_mode": {
    "name": "ipython",
    "version": 3
   },
   "file_extension": ".py",
   "mimetype": "text/x-python",
   "name": "python",
   "nbconvert_exporter": "python",
   "pygments_lexer": "ipython3",
   "version": "3.12.7"
  }
 },
 "nbformat": 4,
 "nbformat_minor": 5
}
