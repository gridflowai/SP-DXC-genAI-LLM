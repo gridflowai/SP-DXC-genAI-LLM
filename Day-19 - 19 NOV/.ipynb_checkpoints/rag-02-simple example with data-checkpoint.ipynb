{
 "cells": [
  {
   "cell_type": "markdown",
   "id": "3cf29fcf-13cb-4ee0-a4b3-02d7578c31c5",
   "metadata": {},
   "source": [
    "---------------------------\n",
    "#### Question and Answering application \n",
    "------------------------"
   ]
  },
  {
   "cell_type": "code",
   "execution_count": null,
   "id": "a8cf6563-cee1-4b89-97c3-ace1aefdb75d",
   "metadata": {},
   "outputs": [],
   "source": [
    "#!pip install tiktoken"
   ]
  },
  {
   "cell_type": "code",
   "execution_count": null,
   "id": "573d294b-36a8-4e60-9429-2d7853e34a14",
   "metadata": {},
   "outputs": [],
   "source": [
    "#!pip insall openai"
   ]
  },
  {
   "cell_type": "code",
   "execution_count": 1,
   "id": "1f319d86-4fc3-4372-b11a-321167bc94e9",
   "metadata": {},
   "outputs": [],
   "source": [
    "# imports\n",
    "import os\n",
    "import ast                 # for converting embeddings saved as strings back to arrays\n",
    "import openai              # for calling the OpenAI API\n",
    "\n",
    "import pandas as pd        # for storing text and embeddings data\n",
    "import tiktoken            # for counting tokens\n",
    "\n",
    "from scipy import spatial  # for calculating vector similarities for search"
   ]
  },
  {
   "cell_type": "code",
   "execution_count": 2,
   "id": "0b2fc33e-47aa-4608-95f2-d52963d28bd9",
   "metadata": {},
   "outputs": [],
   "source": [
    "from openai import OpenAI\n",
    "import json"
   ]
  },
  {
   "cell_type": "code",
   "execution_count": 4,
   "id": "6c5ae6d4-1eea-4045-8c8c-81c20ee03485",
   "metadata": {},
   "outputs": [],
   "source": [
    "client = OpenAI(\n",
    "    #api_key = openai_api_key\n",
    ")"
   ]
  },
  {
   "cell_type": "code",
   "execution_count": 5,
   "id": "48945559-6d1f-4320-a6a6-23dcd841a102",
   "metadata": {},
   "outputs": [],
   "source": [
    "# an example question about the 2024 Olympics\n",
    "query = 'Which athletes won the gold medal in curling at the 2024 Olympics?'"
   ]
  },
  {
   "cell_type": "code",
   "execution_count": 7,
   "id": "5730625d-c6f8-40cb-9747-d2b3314cc4c6",
   "metadata": {},
   "outputs": [],
   "source": [
    "response = client.chat.completions.create(\n",
    "    messages=[\n",
    "        {'role': 'system', 'content': 'You answer questions about winners and runner ups in the olympic events.'},\n",
    "        {'role': 'user',   'content': query},\n",
    "    ],\n",
    "    model      = 'gpt-4o-mini',\n",
    "    temperature= 0\n",
    ")"
   ]
  },
  {
   "cell_type": "code",
   "execution_count": 11,
   "id": "ad218917-61e2-4d9f-afdd-ba56c033524b",
   "metadata": {},
   "outputs": [
    {
     "data": {
      "text/plain": [
       "\"I'm sorry, but I don't have information on the 2024 Olympics as my training only includes data up to October 2023. The 2024 Summer Olympics are scheduled to take place in Paris, and curling is typically a winter sport, featured in the Winter Olympics. The next Winter Olympics will be in 2026 in Milan-Cortina, Italy. If you have questions about past Olympic events or other topics, feel free to ask!\""
      ]
     },
     "execution_count": 11,
     "metadata": {},
     "output_type": "execute_result"
    }
   ],
   "source": [
    "response.choices[0].message.content"
   ]
  },
  {
   "cell_type": "code",
   "execution_count": 12,
   "id": "65b57f97-033f-4694-a519-cd46d19d468c",
   "metadata": {},
   "outputs": [],
   "source": [
    "import requests\n",
    "from bs4 import BeautifulSoup"
   ]
  },
  {
   "cell_type": "code",
   "execution_count": 13,
   "id": "4f09313c-90e3-446f-b340-15cbceb7c2ff",
   "metadata": {},
   "outputs": [],
   "source": [
    "# URL of the Wikipedia page\n",
    "url = \"https://en.wikipedia.org/wiki/Curling_at_the_2024_Winter_Youth_Olympics_%E2%80%93_Mixed_team\""
   ]
  },
  {
   "cell_type": "code",
   "execution_count": 14,
   "id": "f188fb42-a8da-400f-8a8f-0953bf8bd0a4",
   "metadata": {},
   "outputs": [
    {
     "data": {
      "text/plain": [
       "<Response [200]>"
      ]
     },
     "execution_count": 14,
     "metadata": {},
     "output_type": "execute_result"
    }
   ],
   "source": [
    "requests.get(url)"
   ]
  },
  {
   "cell_type": "code",
   "execution_count": 15,
   "id": "0c438c04-887b-412b-b913-16cc4d786477",
   "metadata": {},
   "outputs": [],
   "source": [
    "# Send a request to fetch the HTML content of the page\n",
    "response = requests.get(url)"
   ]
  },
  {
   "cell_type": "code",
   "execution_count": 18,
   "id": "fbc58851-b6ed-4762-85b4-a8996bc83cf0",
   "metadata": {},
   "outputs": [],
   "source": [
    "#response.text"
   ]
  },
  {
   "cell_type": "code",
   "execution_count": 19,
   "id": "802497e4-2cfb-469e-9fbf-1f38c466f77f",
   "metadata": {},
   "outputs": [],
   "source": [
    "html_content = response.text"
   ]
  },
  {
   "cell_type": "code",
   "execution_count": 20,
   "id": "795e1e05-a404-4fde-bfcb-6edde6b08094",
   "metadata": {},
   "outputs": [],
   "source": [
    "# Parse the HTML content using BeautifulSoup\n",
    "soup = BeautifulSoup(html_content, \"html.parser\")"
   ]
  },
  {
   "cell_type": "code",
   "execution_count": 22,
   "id": "6d1fec87-3041-4e05-aefd-22d0b3aa8a83",
   "metadata": {},
   "outputs": [
    {
     "data": {
      "text/plain": [
       "'Curling at the 2024 Winter Youth Olympics – Mixed team - Wikipedia'"
      ]
     },
     "execution_count": 22,
     "metadata": {},
     "output_type": "execute_result"
    }
   ],
   "source": [
    "soup.title.string"
   ]
  },
  {
   "cell_type": "code",
   "execution_count": 23,
   "id": "46b391e6-a7c0-49aa-bbef-d8f0762be9c1",
   "metadata": {},
   "outputs": [],
   "source": [
    "# Extracting information\n",
    "page_title = soup.title.string"
   ]
  },
  {
   "cell_type": "code",
   "execution_count": 24,
   "id": "24414ba3-617e-4f69-aab2-f609c8c34866",
   "metadata": {},
   "outputs": [
    {
     "data": {
      "text/plain": [
       "<p><b>Mixed team curling</b> at the <a href=\"/wiki/2024_Winter_Youth_Olympics\" title=\"2024 Winter Youth Olympics\">2024 Winter Youth Olympics</a> was held from January 20 to 25 at the <a href=\"/wiki/Gangneung_Gymnasium\" title=\"Gangneung Gymnasium\">Gangneung Curling Centre</a> in <a href=\"/wiki/Gangneung\" title=\"Gangneung\">Gangneung</a>, <a href=\"/wiki/South_Korea\" title=\"South Korea\">South Korea</a>.<sup class=\"reference\" id=\"cite_ref-1\"><a href=\"#cite_note-1\"><span class=\"cite-bracket\">[</span>1<span class=\"cite-bracket\">]</span></a></sup>\n",
       "</p>"
      ]
     },
     "execution_count": 24,
     "metadata": {},
     "output_type": "execute_result"
    }
   ],
   "source": [
    "soup.find('p')"
   ]
  },
  {
   "cell_type": "code",
   "execution_count": 25,
   "id": "eaa0ad7e-b5d1-477a-a3c7-1f05dc8de05a",
   "metadata": {},
   "outputs": [],
   "source": [
    "first_paragraph = soup.find('p').text.strip()"
   ]
  },
  {
   "cell_type": "code",
   "execution_count": 26,
   "id": "5a7edbb3-a992-46f9-a6f8-b2fb151fcfd1",
   "metadata": {},
   "outputs": [],
   "source": [
    "# Extract all tables with the class 'wikitable'\n",
    "tables = soup.find_all('table', class_='wikitable')"
   ]
  },
  {
   "cell_type": "code",
   "execution_count": 28,
   "id": "395551c3-7452-4b7c-a3be-ea61ed09815e",
   "metadata": {},
   "outputs": [],
   "source": [
    "table_texts = []\n",
    "for index, table in enumerate(tables):\n",
    "    table_texts.append(f\"Table {index + 1}:\\n{table.text.strip()}\\n\")"
   ]
  },
  {
   "cell_type": "code",
   "execution_count": 30,
   "id": "b1f29372-0c8d-41ff-9a6a-5b45432bc08b",
   "metadata": {},
   "outputs": [],
   "source": [
    "# Extract specific headers (like h2, h3, etc.)\n",
    "headers = soup.find_all(['h2', 'h3'])\n",
    "header_texts = []\n",
    "for header in headers:\n",
    "    header_texts.append(header.text.strip())"
   ]
  },
  {
   "cell_type": "code",
   "execution_count": 31,
   "id": "54358aaf-19f6-42e5-955b-22b2a39faf6b",
   "metadata": {},
   "outputs": [
    {
     "data": {
      "text/plain": [
       "[<h2 class=\"vector-pinnable-header-label\">Contents</h2>,\n",
       " <h2 id=\"Teams\">Teams</h2>,\n",
       " <h2 id=\"Round_robin_standings\">Round robin standings</h2>,\n",
       " <h2 id=\"Round_robin_results\">Round robin results</h2>,\n",
       " <h3 id=\"Group_A\">Group A</h3>,\n",
       " <h3 id=\"Group_B\">Group B</h3>,\n",
       " <h2 id=\"Playoffs\">Playoffs</h2>,\n",
       " <h3 id=\"Qualification_Games\">Qualification Games</h3>,\n",
       " <h3 id=\"Semifinals\">Semifinals</h3>,\n",
       " <h3 id=\"Bronze_medal_game\">Bronze medal game</h3>,\n",
       " <h3 id=\"Gold_medal_game\">Gold medal game</h3>,\n",
       " <h2 id=\"Final_standings\">Final standings</h2>,\n",
       " <h2 id=\"References\">References</h2>,\n",
       " <h2 id=\"External_links\">External links</h2>]"
      ]
     },
     "execution_count": 31,
     "metadata": {},
     "output_type": "execute_result"
    }
   ],
   "source": [
    "headers"
   ]
  },
  {
   "cell_type": "code",
   "execution_count": 32,
   "id": "a4599abb-136e-40d8-8931-57d049a193da",
   "metadata": {},
   "outputs": [
    {
     "data": {
      "text/plain": [
       "['Contents',\n",
       " 'Teams',\n",
       " 'Round robin standings',\n",
       " 'Round robin results',\n",
       " 'Group A',\n",
       " 'Group B',\n",
       " 'Playoffs',\n",
       " 'Qualification Games',\n",
       " 'Semifinals',\n",
       " 'Bronze medal game',\n",
       " 'Gold medal game',\n",
       " 'Final standings',\n",
       " 'References',\n",
       " 'External links']"
      ]
     },
     "execution_count": 32,
     "metadata": {},
     "output_type": "execute_result"
    }
   ],
   "source": [
    "header_texts"
   ]
  },
  {
   "cell_type": "code",
   "execution_count": 33,
   "id": "33c5a491-4317-4015-a247-58b22264741b",
   "metadata": {},
   "outputs": [],
   "source": [
    "# Combine all extracted information into one variable\n",
    "combined_info = (\n",
    "    f\"Page Title: {page_title}\\n\\n\"\n",
    "    f\"First Paragraph: {first_paragraph}\\n\\n\"\n",
    "    \"Headers:\\n\"\n",
    "    f\"{''.join(header_texts)}\\n\\n\"\n",
    "    \"Tables:\\n\"\n",
    "    f\"{''.join(table_texts)}\"\n",
    ")"
   ]
  },
  {
   "cell_type": "code",
   "execution_count": 35,
   "id": "32248886-66c0-45bd-9523-f690dff6c26e",
   "metadata": {},
   "outputs": [],
   "source": [
    "wikipedia_article_on_curling = combined_info"
   ]
  },
  {
   "cell_type": "code",
   "execution_count": 44,
   "id": "b307fac4-b3d8-44dc-9d54-fd4de111b6df",
   "metadata": {},
   "outputs": [],
   "source": [
    "question = 'Which days the Mixed team curling event held?'\n",
    "question = 'How many games were won by the SKIP from China?'\n",
    "question = 'Name of the skip from Sweden?'\n",
    "question = 'who won the mens curling event in 2024 Olympics'"
   ]
  },
  {
   "cell_type": "code",
   "execution_count": 45,
   "id": "294e56b3-1864-47b4-9d76-dc32ef8bc31e",
   "metadata": {},
   "outputs": [],
   "source": [
    "query = f\"\"\"\n",
    "    Use the below article on the 2024 Olympics at Paris to answer the subsequent\n",
    "    {question}. \n",
    "    \n",
    "    If the answer cannot be found, write \"I don't know.\"\n",
    "\n",
    "    Article:\n",
    "    \\\"\\\"\\\"\n",
    "    {wikipedia_article_on_curling}\n",
    "    \\\"\\\"\\\"\n",
    "\n",
    "Question: {question}\n",
    "\n",
    "\"\"\""
   ]
  },
  {
   "cell_type": "code",
   "execution_count": 46,
   "id": "164979e2-1931-4846-80fe-f3d09e0e367d",
   "metadata": {},
   "outputs": [
    {
     "name": "stdout",
     "output_type": "stream",
     "text": [
      "I don't know.\n"
     ]
    }
   ],
   "source": [
    "response = client.chat.completions.create(\n",
    "    messages=[\n",
    "        {'role': 'system', 'content': 'You answer questions about winners and runner ups in the olympic events.'},\n",
    "        {'role': 'user',   'content': query},\n",
    "    ],\n",
    "    model      = 'gpt-4o-mini',\n",
    "    temperature= 0\n",
    ")\n",
    "\n",
    "print(response.choices[0].message.content)"
   ]
  },
  {
   "cell_type": "code",
   "execution_count": null,
   "id": "f88d9d8e-d99d-4ae2-be2d-86e3322a3b48",
   "metadata": {},
   "outputs": [],
   "source": []
  },
  {
   "cell_type": "code",
   "execution_count": null,
   "id": "9e87515e-1dd1-4af5-a9dd-3af95ba033da",
   "metadata": {},
   "outputs": [],
   "source": []
  }
 ],
 "metadata": {
  "kernelspec": {
   "display_name": "llama_index_env",
   "language": "python",
   "name": "llama_index_env"
  },
  "language_info": {
   "codemirror_mode": {
    "name": "ipython",
    "version": 3
   },
   "file_extension": ".py",
   "mimetype": "text/x-python",
   "name": "python",
   "nbconvert_exporter": "python",
   "pygments_lexer": "ipython3",
   "version": "3.12.7"
  }
 },
 "nbformat": 4,
 "nbformat_minor": 5
}
