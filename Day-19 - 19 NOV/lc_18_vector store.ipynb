{
 "cells": [
  {
   "cell_type": "code",
   "execution_count": 1,
   "id": "4dfbf48d-65a3-46ef-8a02-09dc109da6f6",
   "metadata": {},
   "outputs": [],
   "source": [
    "from langchain_core.vectorstores import InMemoryVectorStore\n",
    "\n",
    "from langchain_openai import OpenAIEmbeddings\n",
    "from langchain.vectorstores import FAISS\n",
    "from langchain.docstore.document import Document"
   ]
  },
  {
   "cell_type": "code",
   "execution_count": 2,
   "id": "da9d1415-2078-4532-87ef-a4459ea9590f",
   "metadata": {},
   "outputs": [],
   "source": [
    "#pip install faiss-cpu"
   ]
  },
  {
   "cell_type": "code",
   "execution_count": 3,
   "id": "41399e85-a0bf-4aa2-9d0e-4c0333a2f353",
   "metadata": {},
   "outputs": [],
   "source": [
    "# Initialize the embedding model\n",
    "embedding_model = OpenAIEmbeddings()"
   ]
  },
  {
   "cell_type": "code",
   "execution_count": 4,
   "id": "9df3822d-3c63-4f9a-bf68-e3026e48f781",
   "metadata": {},
   "outputs": [],
   "source": [
    "# Sample documents to store in the vector store\n",
    "documents = [\n",
    "    Document(page_content=\"This is a document about machine learning.\"),\n",
    "    Document(page_content=\"This document discusses artificial intelligence.\"),\n",
    "    Document(page_content=\"This text is about data science.\")\n",
    "]"
   ]
  },
  {
   "cell_type": "code",
   "execution_count": 5,
   "id": "f7706a01-e92a-4bd8-9a20-1db3c277a422",
   "metadata": {},
   "outputs": [],
   "source": [
    "# Create a VectorStore (FAISS)\n",
    "vector_store = FAISS.from_documents(documents, embedding_model)"
   ]
  },
  {
   "cell_type": "code",
   "execution_count": 7,
   "id": "59a7c9b2-bdeb-4f92-a3be-e895c6b4e442",
   "metadata": {},
   "outputs": [],
   "source": [
    "# Now, you can perform a similarity search\n",
    "query = \"Tell me about AI.\"\n",
    "query_embedding = embedding_model.embed_query(query)"
   ]
  },
  {
   "cell_type": "code",
   "execution_count": 8,
   "id": "4d9a656f-5f7d-4349-acc2-877a73e47f8c",
   "metadata": {},
   "outputs": [],
   "source": [
    "# Perform similarity search\n",
    "similar_docs = vector_store.similarity_search(query, k =1)"
   ]
  },
  {
   "cell_type": "code",
   "execution_count": 9,
   "id": "414c451b-53a0-4c4f-8118-d0931f3e856c",
   "metadata": {},
   "outputs": [
    {
     "data": {
      "text/plain": [
       "[Document(metadata={}, page_content='This document discusses artificial intelligence.')]"
      ]
     },
     "execution_count": 9,
     "metadata": {},
     "output_type": "execute_result"
    }
   ],
   "source": [
    "similar_docs"
   ]
  },
  {
   "cell_type": "code",
   "execution_count": null,
   "id": "baa8ce28-88f5-46e1-b7ba-4313af078351",
   "metadata": {},
   "outputs": [],
   "source": []
  },
  {
   "cell_type": "code",
   "execution_count": null,
   "id": "38ef8df0-7764-49a8-93f5-852a3a3a2ada",
   "metadata": {},
   "outputs": [],
   "source": []
  }
 ],
 "metadata": {
  "kernelspec": {
   "display_name": "langchain_env",
   "language": "python",
   "name": "langchain_env"
  },
  "language_info": {
   "codemirror_mode": {
    "name": "ipython",
    "version": 3
   },
   "file_extension": ".py",
   "mimetype": "text/x-python",
   "name": "python",
   "nbconvert_exporter": "python",
   "pygments_lexer": "ipython3",
   "version": "3.12.7"
  }
 },
 "nbformat": 4,
 "nbformat_minor": 5
}
